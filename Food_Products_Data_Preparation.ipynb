{
  "nbformat": 4,
  "nbformat_minor": 0,
  "metadata": {
    "colab": {
      "name": "Food Products_data preparation .ipynb",
      "provenance": [],
      "collapsed_sections": []
    },
    "kernelspec": {
      "name": "python3",
      "display_name": "Python 3"
    },
    "language_info": {
      "name": "python"
    }
  },
  "cells": [
    {
      "cell_type": "markdown",
      "metadata": {
        "id": "dQPIv0uH9Cdr"
      },
      "source": [
        "## **Data Preparation**\n",
        "### This includes data preprocessing, cleaning and preparing the data according to our requirements so that visualization and forecasting are simplified."
      ]
    },
    {
      "cell_type": "code",
      "metadata": {
        "id": "XLvRVMxT7bjR"
      },
      "source": [
        "import pandas as pd\n",
        "import numpy as np\n",
        "import matplotlib.pyplot as plt\n",
        "%matplotlib inline\n",
        "import seaborn as sns"
      ],
      "execution_count": 1,
      "outputs": []
    },
    {
      "cell_type": "code",
      "metadata": {
        "colab": {
          "base_uri": "https://localhost:8080/",
          "height": 198
        },
        "id": "Iuucczw58dh1",
        "outputId": "f6271f1f-ae66-4dfb-faf2-19323ef75d9a"
      },
      "source": [
        "dataset=pd.read_csv('/content/Groceries_dataset.csv')\n",
        "dataset.head()"
      ],
      "execution_count": 2,
      "outputs": [
        {
          "output_type": "execute_result",
          "data": {
            "text/html": [
              "<div>\n",
              "<style scoped>\n",
              "    .dataframe tbody tr th:only-of-type {\n",
              "        vertical-align: middle;\n",
              "    }\n",
              "\n",
              "    .dataframe tbody tr th {\n",
              "        vertical-align: top;\n",
              "    }\n",
              "\n",
              "    .dataframe thead th {\n",
              "        text-align: right;\n",
              "    }\n",
              "</style>\n",
              "<table border=\"1\" class=\"dataframe\">\n",
              "  <thead>\n",
              "    <tr style=\"text-align: right;\">\n",
              "      <th></th>\n",
              "      <th>Member_number</th>\n",
              "      <th>Date</th>\n",
              "      <th>itemDescription</th>\n",
              "    </tr>\n",
              "  </thead>\n",
              "  <tbody>\n",
              "    <tr>\n",
              "      <th>0</th>\n",
              "      <td>1808</td>\n",
              "      <td>21-07-2015</td>\n",
              "      <td>tropical fruit</td>\n",
              "    </tr>\n",
              "    <tr>\n",
              "      <th>1</th>\n",
              "      <td>2552</td>\n",
              "      <td>05-01-2015</td>\n",
              "      <td>whole milk</td>\n",
              "    </tr>\n",
              "    <tr>\n",
              "      <th>2</th>\n",
              "      <td>2300</td>\n",
              "      <td>19-09-2015</td>\n",
              "      <td>pip fruit</td>\n",
              "    </tr>\n",
              "    <tr>\n",
              "      <th>3</th>\n",
              "      <td>1187</td>\n",
              "      <td>12-12-2015</td>\n",
              "      <td>other vegetables</td>\n",
              "    </tr>\n",
              "    <tr>\n",
              "      <th>4</th>\n",
              "      <td>3037</td>\n",
              "      <td>01-02-2015</td>\n",
              "      <td>whole milk</td>\n",
              "    </tr>\n",
              "  </tbody>\n",
              "</table>\n",
              "</div>"
            ],
            "text/plain": [
              "   Member_number        Date   itemDescription\n",
              "0           1808  21-07-2015    tropical fruit\n",
              "1           2552  05-01-2015        whole milk\n",
              "2           2300  19-09-2015         pip fruit\n",
              "3           1187  12-12-2015  other vegetables\n",
              "4           3037  01-02-2015        whole milk"
            ]
          },
          "metadata": {
            "tags": []
          },
          "execution_count": 2
        }
      ]
    },
    {
      "cell_type": "code",
      "metadata": {
        "colab": {
          "base_uri": "https://localhost:8080/",
          "height": 198
        },
        "id": "8DsZTg8c7IDX",
        "outputId": "b1137bdd-e6ef-4ee8-b78b-597e69e4f87e"
      },
      "source": [
        "dataset.tail()"
      ],
      "execution_count": 3,
      "outputs": [
        {
          "output_type": "execute_result",
          "data": {
            "text/html": [
              "<div>\n",
              "<style scoped>\n",
              "    .dataframe tbody tr th:only-of-type {\n",
              "        vertical-align: middle;\n",
              "    }\n",
              "\n",
              "    .dataframe tbody tr th {\n",
              "        vertical-align: top;\n",
              "    }\n",
              "\n",
              "    .dataframe thead th {\n",
              "        text-align: right;\n",
              "    }\n",
              "</style>\n",
              "<table border=\"1\" class=\"dataframe\">\n",
              "  <thead>\n",
              "    <tr style=\"text-align: right;\">\n",
              "      <th></th>\n",
              "      <th>Member_number</th>\n",
              "      <th>Date</th>\n",
              "      <th>itemDescription</th>\n",
              "    </tr>\n",
              "  </thead>\n",
              "  <tbody>\n",
              "    <tr>\n",
              "      <th>38760</th>\n",
              "      <td>4471</td>\n",
              "      <td>08-10-2014</td>\n",
              "      <td>sliced cheese</td>\n",
              "    </tr>\n",
              "    <tr>\n",
              "      <th>38761</th>\n",
              "      <td>2022</td>\n",
              "      <td>23-02-2014</td>\n",
              "      <td>candy</td>\n",
              "    </tr>\n",
              "    <tr>\n",
              "      <th>38762</th>\n",
              "      <td>1097</td>\n",
              "      <td>16-04-2014</td>\n",
              "      <td>cake bar</td>\n",
              "    </tr>\n",
              "    <tr>\n",
              "      <th>38763</th>\n",
              "      <td>1510</td>\n",
              "      <td>03-12-2014</td>\n",
              "      <td>fruit/vegetable juice</td>\n",
              "    </tr>\n",
              "    <tr>\n",
              "      <th>38764</th>\n",
              "      <td>1521</td>\n",
              "      <td>26-12-2014</td>\n",
              "      <td>cat food</td>\n",
              "    </tr>\n",
              "  </tbody>\n",
              "</table>\n",
              "</div>"
            ],
            "text/plain": [
              "       Member_number        Date        itemDescription\n",
              "38760           4471  08-10-2014          sliced cheese\n",
              "38761           2022  23-02-2014                  candy\n",
              "38762           1097  16-04-2014               cake bar\n",
              "38763           1510  03-12-2014  fruit/vegetable juice\n",
              "38764           1521  26-12-2014               cat food"
            ]
          },
          "metadata": {
            "tags": []
          },
          "execution_count": 3
        }
      ]
    },
    {
      "cell_type": "code",
      "metadata": {
        "colab": {
          "base_uri": "https://localhost:8080/"
        },
        "id": "rIWPbJVI8ll-",
        "outputId": "23a73d06-2d07-4e14-a512-ce8f76d6d9d5"
      },
      "source": [
        "dataset.shape\n"
      ],
      "execution_count": 4,
      "outputs": [
        {
          "output_type": "execute_result",
          "data": {
            "text/plain": [
              "(38765, 3)"
            ]
          },
          "metadata": {
            "tags": []
          },
          "execution_count": 4
        }
      ]
    },
    {
      "cell_type": "code",
      "metadata": {
        "colab": {
          "base_uri": "https://localhost:8080/"
        },
        "id": "Ttzy-69K8pPv",
        "outputId": "d5886c84-1948-4ddf-f4df-e359e9d7db48"
      },
      "source": [
        "dataset.info()"
      ],
      "execution_count": 5,
      "outputs": [
        {
          "output_type": "stream",
          "text": [
            "<class 'pandas.core.frame.DataFrame'>\n",
            "RangeIndex: 38765 entries, 0 to 38764\n",
            "Data columns (total 3 columns):\n",
            " #   Column           Non-Null Count  Dtype \n",
            "---  ------           --------------  ----- \n",
            " 0   Member_number    38765 non-null  int64 \n",
            " 1   Date             38765 non-null  object\n",
            " 2   itemDescription  38765 non-null  object\n",
            "dtypes: int64(1), object(2)\n",
            "memory usage: 908.7+ KB\n"
          ],
          "name": "stdout"
        }
      ]
    },
    {
      "cell_type": "code",
      "metadata": {
        "colab": {
          "base_uri": "https://localhost:8080/"
        },
        "id": "2b7d5Mc08x6d",
        "outputId": "ddd1cf5b-5610-495a-89cd-e1ef758888b3"
      },
      "source": [
        "dataset.columns"
      ],
      "execution_count": 6,
      "outputs": [
        {
          "output_type": "execute_result",
          "data": {
            "text/plain": [
              "Index(['Member_number', 'Date', 'itemDescription'], dtype='object')"
            ]
          },
          "metadata": {
            "tags": []
          },
          "execution_count": 6
        }
      ]
    },
    {
      "cell_type": "code",
      "metadata": {
        "colab": {
          "base_uri": "https://localhost:8080/",
          "height": 288
        },
        "id": "TAwESilV83v6",
        "outputId": "7f6b4008-f7ff-4199-c4b8-fabc11df8ebe"
      },
      "source": [
        "dataset.describe()"
      ],
      "execution_count": 7,
      "outputs": [
        {
          "output_type": "execute_result",
          "data": {
            "text/html": [
              "<div>\n",
              "<style scoped>\n",
              "    .dataframe tbody tr th:only-of-type {\n",
              "        vertical-align: middle;\n",
              "    }\n",
              "\n",
              "    .dataframe tbody tr th {\n",
              "        vertical-align: top;\n",
              "    }\n",
              "\n",
              "    .dataframe thead th {\n",
              "        text-align: right;\n",
              "    }\n",
              "</style>\n",
              "<table border=\"1\" class=\"dataframe\">\n",
              "  <thead>\n",
              "    <tr style=\"text-align: right;\">\n",
              "      <th></th>\n",
              "      <th>Member_number</th>\n",
              "    </tr>\n",
              "  </thead>\n",
              "  <tbody>\n",
              "    <tr>\n",
              "      <th>count</th>\n",
              "      <td>38765.000000</td>\n",
              "    </tr>\n",
              "    <tr>\n",
              "      <th>mean</th>\n",
              "      <td>3003.641868</td>\n",
              "    </tr>\n",
              "    <tr>\n",
              "      <th>std</th>\n",
              "      <td>1153.611031</td>\n",
              "    </tr>\n",
              "    <tr>\n",
              "      <th>min</th>\n",
              "      <td>1000.000000</td>\n",
              "    </tr>\n",
              "    <tr>\n",
              "      <th>25%</th>\n",
              "      <td>2002.000000</td>\n",
              "    </tr>\n",
              "    <tr>\n",
              "      <th>50%</th>\n",
              "      <td>3005.000000</td>\n",
              "    </tr>\n",
              "    <tr>\n",
              "      <th>75%</th>\n",
              "      <td>4007.000000</td>\n",
              "    </tr>\n",
              "    <tr>\n",
              "      <th>max</th>\n",
              "      <td>5000.000000</td>\n",
              "    </tr>\n",
              "  </tbody>\n",
              "</table>\n",
              "</div>"
            ],
            "text/plain": [
              "       Member_number\n",
              "count   38765.000000\n",
              "mean     3003.641868\n",
              "std      1153.611031\n",
              "min      1000.000000\n",
              "25%      2002.000000\n",
              "50%      3005.000000\n",
              "75%      4007.000000\n",
              "max      5000.000000"
            ]
          },
          "metadata": {
            "tags": []
          },
          "execution_count": 7
        }
      ]
    },
    {
      "cell_type": "code",
      "metadata": {
        "colab": {
          "base_uri": "https://localhost:8080/"
        },
        "id": "azSVDEdb89qR",
        "outputId": "d5d025cf-28fb-4661-a864-0b044a8b6190"
      },
      "source": [
        "dataset.isnull().sum()"
      ],
      "execution_count": 8,
      "outputs": [
        {
          "output_type": "execute_result",
          "data": {
            "text/plain": [
              "Member_number      0\n",
              "Date               0\n",
              "itemDescription    0\n",
              "dtype: int64"
            ]
          },
          "metadata": {
            "tags": []
          },
          "execution_count": 8
        }
      ]
    },
    {
      "cell_type": "code",
      "metadata": {
        "colab": {
          "base_uri": "https://localhost:8080/"
        },
        "id": "mSByHIM89DbK",
        "outputId": "98c851d7-69e7-4b3d-e166-9918ff433496"
      },
      "source": [
        "dataset.isnull().sum().sum()"
      ],
      "execution_count": 9,
      "outputs": [
        {
          "output_type": "execute_result",
          "data": {
            "text/plain": [
              "0"
            ]
          },
          "metadata": {
            "tags": []
          },
          "execution_count": 9
        }
      ]
    },
    {
      "cell_type": "markdown",
      "metadata": {
        "id": "dZ-7DnuSlbVn"
      },
      "source": [
        "### The above 2 outputs show that the dataset is cleaned that is there are no missing or NAN values present in the dataset."
      ]
    },
    {
      "cell_type": "code",
      "metadata": {
        "colab": {
          "base_uri": "https://localhost:8080/"
        },
        "id": "l6anp3ao9T8X",
        "outputId": "7f0e2a1c-5bce-45f1-98a5-e229eecc6891"
      },
      "source": [
        "dataset['Member_number'].value_counts()"
      ],
      "execution_count": 10,
      "outputs": [
        {
          "output_type": "execute_result",
          "data": {
            "text/plain": [
              "3180    36\n",
              "3050    33\n",
              "2051    33\n",
              "3737    33\n",
              "2433    31\n",
              "        ..\n",
              "4565     2\n",
              "2373     2\n",
              "3788     2\n",
              "2614     2\n",
              "2844     2\n",
              "Name: Member_number, Length: 3898, dtype: int64"
            ]
          },
          "metadata": {
            "tags": []
          },
          "execution_count": 10
        }
      ]
    },
    {
      "cell_type": "code",
      "metadata": {
        "colab": {
          "base_uri": "https://localhost:8080/"
        },
        "id": "3YAFgsl09H8A",
        "outputId": "1a0da294-3808-4b42-b549-e3279b882c35"
      },
      "source": [
        "dataset['Date'].value_counts()"
      ],
      "execution_count": 11,
      "outputs": [
        {
          "output_type": "execute_result",
          "data": {
            "text/plain": [
              "21-01-2015    96\n",
              "21-07-2015    93\n",
              "08-08-2015    92\n",
              "29-11-2015    92\n",
              "30-04-2015    91\n",
              "              ..\n",
              "10-01-2014    26\n",
              "04-07-2014    24\n",
              "16-03-2015    23\n",
              "17-03-2015    23\n",
              "01-09-2015    22\n",
              "Name: Date, Length: 728, dtype: int64"
            ]
          },
          "metadata": {
            "tags": []
          },
          "execution_count": 11
        }
      ]
    },
    {
      "cell_type": "code",
      "metadata": {
        "colab": {
          "base_uri": "https://localhost:8080/"
        },
        "id": "rF1uDVDD9OCH",
        "outputId": "aca2a1e6-7240-41b9-8ef2-ec90e72dc720"
      },
      "source": [
        "dataset['Date'].unique()"
      ],
      "execution_count": 12,
      "outputs": [
        {
          "output_type": "execute_result",
          "data": {
            "text/plain": [
              "array(['21-07-2015', '05-01-2015', '19-09-2015', '12-12-2015',\n",
              "       '01-02-2015', '14-02-2015', '08-05-2015', '23-12-2015',\n",
              "       '20-03-2015', '12-02-2015', '24-02-2015', '14-04-2015',\n",
              "       '03-09-2015', '30-03-2015', '03-05-2015', '02-09-2015',\n",
              "       '03-08-2015', '07-07-2015', '08-09-2015', '12-11-2015',\n",
              "       '18-09-2015', '30-11-2015', '17-07-2015', '12-06-2015',\n",
              "       '13-02-2015', '14-01-2015', '08-03-2015', '27-01-2015',\n",
              "       '22-10-2015', '26-10-2015', '08-10-2015', '03-10-2015',\n",
              "       '11-04-2015', '21-02-2015', '29-09-2015', '09-01-2015',\n",
              "       '03-04-2015', '20-04-2015', '04-08-2015', '19-07-2015',\n",
              "       '06-10-2015', '16-10-2015', '06-06-2015', '26-09-2015',\n",
              "       '15-08-2015', '21-05-2015', '25-08-2015', '11-03-2015',\n",
              "       '05-06-2015', '28-07-2015', '05-09-2015', '19-06-2015',\n",
              "       '11-10-2015', '16-06-2015', '20-01-2015', '15-02-2015',\n",
              "       '13-04-2015', '07-02-2015', '02-03-2015', '14-03-2015',\n",
              "       '22-12-2015', '01-07-2015', '03-11-2015', '12-04-2015',\n",
              "       '05-05-2015', '12-05-2015', '08-07-2015', '21-09-2015',\n",
              "       '10-12-2015', '30-09-2015', '31-01-2015', '13-12-2015',\n",
              "       '04-03-2015', '20-12-2015', '06-11-2015', '18-02-2015',\n",
              "       '22-07-2015', '23-08-2015', '15-04-2015', '26-01-2015',\n",
              "       '29-12-2015', '20-10-2015', '17-08-2015', '17-05-2015',\n",
              "       '25-07-2015', '11-09-2015', '18-06-2015', '08-12-2015',\n",
              "       '25-04-2015', '14-05-2015', '04-05-2015', '10-10-2015',\n",
              "       '11-06-2015', '30-10-2015', '23-05-2015', '07-11-2015',\n",
              "       '04-09-2015', '18-05-2015', '26-03-2015', '23-06-2015',\n",
              "       '10-08-2015', '23-07-2015', '01-06-2015', '15-05-2015',\n",
              "       '14-06-2015', '08-08-2015', '10-06-2015', '11-11-2015',\n",
              "       '15-09-2015', '27-06-2015', '13-01-2015', '06-09-2015',\n",
              "       '22-08-2015', '25-02-2015', '22-02-2015', '16-01-2015',\n",
              "       '19-11-2015', '19-08-2015', '24-06-2015', '10-03-2015',\n",
              "       '21-01-2015', '18-07-2015', '08-02-2015', '08-06-2015',\n",
              "       '09-06-2015', '16-03-2015', '07-03-2015', '31-05-2015',\n",
              "       '30-06-2015', '27-08-2015', '05-03-2015', '17-04-2015',\n",
              "       '25-06-2015', '04-10-2015', '07-05-2015', '17-06-2015',\n",
              "       '19-02-2015', '24-08-2015', '22-06-2015', '25-12-2015',\n",
              "       '09-04-2015', '09-03-2015', '17-01-2015', '26-11-2015',\n",
              "       '27-02-2015', '22-04-2015', '17-10-2015', '06-04-2015',\n",
              "       '10-11-2015', '05-02-2015', '21-08-2015', '24-07-2015',\n",
              "       '09-05-2015', '28-04-2015', '20-02-2015', '14-11-2015',\n",
              "       '01-08-2015', '26-04-2015', '07-01-2015', '13-09-2015',\n",
              "       '26-02-2015', '05-07-2015', '07-10-2015', '23-10-2015',\n",
              "       '01-10-2015', '04-11-2015', '12-07-2015', '24-09-2015',\n",
              "       '20-06-2015', '11-08-2015', '22-11-2015', '10-07-2015',\n",
              "       '24-12-2015', '15-11-2015', '04-12-2015', '07-04-2015',\n",
              "       '06-01-2015', '28-09-2015', '29-11-2015', '03-07-2015',\n",
              "       '20-09-2015', '18-08-2015', '14-12-2015', '13-10-2015',\n",
              "       '07-06-2015', '09-07-2015', '27-03-2015', '16-11-2015',\n",
              "       '11-05-2015', '16-09-2015', '28-01-2015', '12-01-2015',\n",
              "       '25-10-2015', '02-05-2015', '22-05-2015', '30-05-2015',\n",
              "       '18-04-2015', '10-09-2015', '30-12-2015', '27-05-2015',\n",
              "       '30-08-2015', '02-07-2015', '01-05-2015', '30-04-2015',\n",
              "       '23-09-2015', '06-03-2015', '02-08-2015', '25-01-2015',\n",
              "       '23-01-2015', '28-05-2015', '11-02-2015', '28-12-2015',\n",
              "       '23-03-2015', '12-03-2015', '16-05-2015', '24-05-2015',\n",
              "       '21-06-2015', '02-04-2015', '27-12-2015', '17-09-2015',\n",
              "       '04-07-2015', '28-11-2015', '26-07-2015', '04-01-2015',\n",
              "       '04-02-2015', '11-01-2015', '10-02-2015', '05-08-2015',\n",
              "       '10-01-2015', '16-07-2015', '24-01-2015', '19-05-2015',\n",
              "       '18-12-2015', '13-03-2015', '11-12-2015', '08-04-2015',\n",
              "       '26-05-2015', '29-01-2015', '19-04-2015', '06-07-2015',\n",
              "       '23-11-2015', '01-03-2015', '15-10-2015', '03-01-2015',\n",
              "       '24-04-2015', '29-04-2015', '21-03-2015', '18-03-2015',\n",
              "       '12-10-2015', '06-02-2015', '21-12-2015', '12-08-2015',\n",
              "       '27-09-2015', '17-03-2015', '15-03-2015', '27-04-2015',\n",
              "       '13-08-2015', '03-03-2015', '07-08-2015', '16-02-2015',\n",
              "       '03-06-2015', '25-03-2015', '15-06-2015', '23-02-2015',\n",
              "       '02-12-2015', '05-12-2015', '02-11-2015', '24-11-2015',\n",
              "       '01-11-2015', '17-11-2015', '03-12-2015', '05-11-2015',\n",
              "       '14-10-2015', '24-10-2015', '09-11-2015', '31-08-2015',\n",
              "       '19-12-2015', '15-12-2015', '01-04-2015', '21-11-2015',\n",
              "       '18-10-2015', '25-05-2015', '22-09-2015', '29-08-2015',\n",
              "       '28-08-2015', '21-10-2015', '29-05-2015', '26-08-2015',\n",
              "       '28-06-2015', '27-11-2015', '14-08-2015', '29-06-2015',\n",
              "       '15-01-2015', '17-02-2015', '20-05-2015', '08-11-2015',\n",
              "       '19-03-2015', '28-10-2015', '16-08-2015', '13-11-2015',\n",
              "       '13-07-2015', '20-07-2015', '10-05-2015', '29-10-2015',\n",
              "       '16-12-2015', '30-01-2015', '22-03-2015', '09-10-2015',\n",
              "       '03-02-2015', '19-10-2015', '27-10-2015', '02-10-2015',\n",
              "       '28-02-2015', '27-07-2015', '09-08-2015', '09-09-2015',\n",
              "       '12-09-2015', '06-12-2015', '31-03-2015', '01-01-2015',\n",
              "       '18-01-2015', '02-06-2015', '31-07-2015', '04-04-2015',\n",
              "       '31-10-2015', '07-12-2015', '29-07-2015', '25-09-2015',\n",
              "       '14-07-2015', '08-01-2015', '02-01-2015', '30-07-2015',\n",
              "       '26-12-2015', '13-05-2015', '01-12-2015', '28-03-2015',\n",
              "       '20-11-2015', '22-01-2015', '11-07-2015', '15-07-2015',\n",
              "       '24-03-2015', '13-06-2015', '05-10-2015', '20-08-2015',\n",
              "       '17-12-2015', '06-05-2015', '25-11-2015', '07-09-2015',\n",
              "       '02-02-2015', '14-09-2015', '21-04-2015', '18-11-2015',\n",
              "       '09-12-2015', '09-02-2015', '16-04-2015', '29-03-2015',\n",
              "       '10-04-2015', '19-01-2015', '06-08-2015', '04-06-2015',\n",
              "       '01-09-2015', '05-04-2015', '26-06-2015', '23-04-2015',\n",
              "       '01-10-2014', '16-12-2014', '10-10-2014', '09-12-2014',\n",
              "       '15-11-2014', '16-10-2014', '14-08-2014', '30-08-2014',\n",
              "       '06-10-2014', '11-06-2014', '28-05-2014', '16-02-2014',\n",
              "       '29-08-2014', '14-04-2014', '25-06-2014', '14-02-2014',\n",
              "       '20-06-2014', '22-07-2014', '03-02-2014', '24-04-2014',\n",
              "       '28-01-2014', '21-08-2014', '08-01-2014', '27-02-2014',\n",
              "       '04-10-2014', '25-02-2014', '13-05-2014', '31-01-2014',\n",
              "       '29-03-2014', '05-05-2014', '04-03-2014', '08-10-2014',\n",
              "       '10-12-2014', '18-09-2014', '17-08-2014', '29-07-2014',\n",
              "       '05-10-2014', '17-07-2014', '02-09-2014', '23-01-2014',\n",
              "       '19-01-2014', '21-04-2014', '05-06-2014', '06-01-2014',\n",
              "       '28-07-2014', '21-10-2014', '31-07-2014', '13-06-2014',\n",
              "       '30-09-2014', '14-03-2014', '07-11-2014', '24-02-2014',\n",
              "       '26-02-2014', '27-07-2014', '30-06-2014', '23-08-2014',\n",
              "       '15-04-2014', '18-07-2014', '12-04-2014', '05-09-2014',\n",
              "       '22-04-2014', '27-12-2014', '23-02-2014', '07-07-2014',\n",
              "       '12-07-2014', '27-11-2014', '02-01-2014', '07-01-2014',\n",
              "       '31-08-2014', '03-10-2014', '27-10-2014', '20-10-2014',\n",
              "       '04-05-2014', '21-09-2014', '22-01-2014', '11-10-2014',\n",
              "       '04-12-2014', '11-09-2014', '08-07-2014', '05-01-2014',\n",
              "       '08-09-2014', '24-05-2014', '04-06-2014', '31-03-2014',\n",
              "       '06-07-2014', '02-10-2014', '01-03-2014', '15-12-2014',\n",
              "       '25-03-2014', '13-04-2014', '15-06-2014', '28-08-2014',\n",
              "       '22-08-2014', '21-01-2014', '12-06-2014', '16-08-2014',\n",
              "       '13-10-2014', '14-05-2014', '06-05-2014', '03-06-2014',\n",
              "       '13-02-2014', '18-05-2014', '20-11-2014', '29-01-2014',\n",
              "       '26-07-2014', '18-04-2014', '07-09-2014', '29-11-2014',\n",
              "       '11-12-2014', '09-08-2014', '12-10-2014', '30-07-2014',\n",
              "       '04-02-2014', '20-02-2014', '01-02-2014', '03-04-2014',\n",
              "       '02-03-2014', '26-08-2014', '28-04-2014', '20-12-2014',\n",
              "       '04-09-2014', '11-05-2014', '21-03-2014', '27-01-2014',\n",
              "       '30-10-2014', '19-03-2014', '20-09-2014', '18-03-2014',\n",
              "       '05-04-2014', '25-05-2014', '15-07-2014', '10-01-2014',\n",
              "       '03-09-2014', '30-05-2014', '27-06-2014', '23-05-2014',\n",
              "       '11-08-2014', '04-04-2014', '14-01-2014', '09-04-2014',\n",
              "       '30-03-2014', '27-03-2014', '28-09-2014', '06-08-2014',\n",
              "       '17-12-2014', '14-11-2014', '28-10-2014', '10-11-2014',\n",
              "       '02-12-2014', '07-03-2014', '02-06-2014', '02-04-2014',\n",
              "       '09-05-2014', '21-11-2014', '09-06-2014', '10-05-2014',\n",
              "       '24-08-2014', '15-08-2014', '06-06-2014', '03-07-2014',\n",
              "       '15-03-2014', '12-02-2014', '03-08-2014', '02-11-2014',\n",
              "       '29-12-2014', '23-12-2014', '16-06-2014', '13-01-2014',\n",
              "       '12-05-2014', '08-06-2014', '03-05-2014', '29-05-2014',\n",
              "       '01-06-2014', '02-08-2014', '14-07-2014', '23-03-2014',\n",
              "       '16-03-2014', '18-02-2014', '20-08-2014', '25-12-2014',\n",
              "       '02-05-2014', '18-12-2014', '13-12-2014', '06-02-2014',\n",
              "       '26-05-2014', '14-12-2014', '08-05-2014', '16-09-2014',\n",
              "       '19-05-2014', '04-08-2014', '13-03-2014', '26-12-2014',\n",
              "       '17-10-2014', '20-03-2014', '19-10-2014', '17-02-2014',\n",
              "       '12-03-2014', '31-10-2014', '05-02-2014', '17-04-2014',\n",
              "       '24-09-2014', '29-04-2014', '18-01-2014', '21-06-2014',\n",
              "       '28-11-2014', '17-03-2014', '23-07-2014', '03-03-2014',\n",
              "       '24-10-2014', '03-01-2014', '07-08-2014', '14-10-2014',\n",
              "       '06-03-2014', '06-11-2014', '01-08-2014', '20-05-2014',\n",
              "       '26-10-2014', '08-02-2014', '04-11-2014', '14-06-2014',\n",
              "       '10-04-2014', '01-12-2014', '06-12-2014', '26-09-2014',\n",
              "       '08-04-2014', '25-10-2014', '25-08-2014', '19-12-2014',\n",
              "       '26-01-2014', '27-09-2014', '01-07-2014', '10-03-2014',\n",
              "       '21-02-2014', '26-11-2014', '28-12-2014', '17-09-2014',\n",
              "       '22-03-2014', '04-07-2014', '20-07-2014', '12-09-2014',\n",
              "       '21-05-2014', '20-01-2014', '29-09-2014', '30-01-2014',\n",
              "       '09-11-2014', '25-01-2014', '07-12-2014', '09-01-2014',\n",
              "       '25-07-2014', '05-08-2014', '13-07-2014', '26-06-2014',\n",
              "       '01-01-2014', '18-11-2014', '06-09-2014', '05-07-2014',\n",
              "       '08-12-2014', '25-09-2014', '07-05-2014', '12-01-2014',\n",
              "       '16-04-2014', '11-03-2014', '09-07-2014', '11-07-2014',\n",
              "       '22-11-2014', '07-06-2014', '11-04-2014', '23-10-2014',\n",
              "       '05-03-2014', '24-01-2014', '11-01-2014', '18-06-2014',\n",
              "       '02-02-2014', '22-10-2014', '20-04-2014', '22-02-2014',\n",
              "       '19-04-2014', '24-12-2014', '19-08-2014', '29-10-2014',\n",
              "       '19-11-2014', '30-04-2014', '13-09-2014', '08-08-2014',\n",
              "       '09-09-2014', '17-01-2014', '30-12-2014', '16-05-2014',\n",
              "       '28-02-2014', '05-11-2014', '15-01-2014', '19-02-2014',\n",
              "       '27-05-2014', '09-10-2014', '24-07-2014', '23-06-2014',\n",
              "       '22-06-2014', '28-03-2014', '07-04-2014', '23-09-2014',\n",
              "       '22-12-2014', '10-06-2014', '13-08-2014', '24-03-2014',\n",
              "       '16-11-2014', '19-06-2014', '17-06-2014', '08-11-2014',\n",
              "       '16-01-2014', '22-09-2014', '08-03-2014', '10-07-2014',\n",
              "       '17-05-2014', '07-02-2014', '23-11-2014', '04-01-2014',\n",
              "       '24-06-2014', '10-08-2014', '13-11-2014', '10-09-2014',\n",
              "       '25-04-2014', '09-02-2014', '24-11-2014', '01-04-2014',\n",
              "       '19-09-2014', '05-12-2014', '01-11-2014', '06-04-2014',\n",
              "       '21-07-2014', '15-10-2014', '26-04-2014', '01-05-2014',\n",
              "       '26-03-2014', '27-08-2014', '07-10-2014', '17-11-2014',\n",
              "       '15-02-2014', '18-10-2014', '01-09-2014', '02-07-2014',\n",
              "       '14-09-2014', '12-08-2014', '31-05-2014', '30-11-2014',\n",
              "       '27-04-2014', '21-12-2014', '22-05-2014', '12-12-2014',\n",
              "       '03-12-2014', '09-03-2014', '16-07-2014', '23-04-2014',\n",
              "       '11-11-2014', '15-05-2014', '28-06-2014', '18-08-2014',\n",
              "       '25-11-2014', '03-11-2014', '19-07-2014', '11-02-2014',\n",
              "       '15-09-2014', '10-02-2014', '29-06-2014', '12-11-2014'],\n",
              "      dtype=object)"
            ]
          },
          "metadata": {
            "tags": []
          },
          "execution_count": 12
        }
      ]
    },
    {
      "cell_type": "code",
      "metadata": {
        "colab": {
          "base_uri": "https://localhost:8080/"
        },
        "id": "hAYftTgzmNnS",
        "outputId": "279a6922-804d-4c6a-99b2-5032ceddd9c6"
      },
      "source": [
        "dataset['Date'].nunique()"
      ],
      "execution_count": 13,
      "outputs": [
        {
          "output_type": "execute_result",
          "data": {
            "text/plain": [
              "728"
            ]
          },
          "metadata": {
            "tags": []
          },
          "execution_count": 13
        }
      ]
    },
    {
      "cell_type": "code",
      "metadata": {
        "colab": {
          "base_uri": "https://localhost:8080/"
        },
        "id": "Arp_wfxd9g1i",
        "outputId": "b2501443-6ee5-4609-d02a-fc4f3312792d"
      },
      "source": [
        "dataset['itemDescription'].value_counts()"
      ],
      "execution_count": 14,
      "outputs": [
        {
          "output_type": "execute_result",
          "data": {
            "text/plain": [
              "whole milk               2502\n",
              "other vegetables         1898\n",
              "rolls/buns               1716\n",
              "soda                     1514\n",
              "yogurt                   1334\n",
              "                         ... \n",
              "toilet cleaner              5\n",
              "bags                        4\n",
              "baby cosmetics              3\n",
              "kitchen utensil             1\n",
              "preservation products       1\n",
              "Name: itemDescription, Length: 167, dtype: int64"
            ]
          },
          "metadata": {
            "tags": []
          },
          "execution_count": 14
        }
      ]
    },
    {
      "cell_type": "code",
      "metadata": {
        "colab": {
          "base_uri": "https://localhost:8080/"
        },
        "id": "LON0kWa89p67",
        "outputId": "eda8eca8-8054-4c79-e252-c9e71c077695"
      },
      "source": [
        "dataset['itemDescription'].unique()"
      ],
      "execution_count": 15,
      "outputs": [
        {
          "output_type": "execute_result",
          "data": {
            "text/plain": [
              "array(['tropical fruit', 'whole milk', 'pip fruit', 'other vegetables',\n",
              "       'rolls/buns', 'pot plants', 'citrus fruit', 'beef', 'frankfurter',\n",
              "       'chicken', 'butter', 'fruit/vegetable juice',\n",
              "       'packaged fruit/vegetables', 'chocolate', 'specialty bar',\n",
              "       'butter milk', 'bottled water', 'yogurt', 'sausage', 'brown bread',\n",
              "       'hamburger meat', 'root vegetables', 'pork', 'pastry',\n",
              "       'canned beer', 'berries', 'coffee', 'misc. beverages', 'ham',\n",
              "       'turkey', 'curd cheese', 'red/blush wine',\n",
              "       'frozen potato products', 'flour', 'sugar', 'frozen meals',\n",
              "       'herbs', 'soda', 'detergent', 'grapes', 'processed cheese', 'fish',\n",
              "       'sparkling wine', 'newspapers', 'curd', 'pasta', 'popcorn',\n",
              "       'finished products', 'beverages', 'bottled beer', 'dessert',\n",
              "       'dog food', 'specialty chocolate', 'condensed milk', 'cleaner',\n",
              "       'white wine', 'meat', 'ice cream', 'hard cheese', 'cream cheese ',\n",
              "       'liquor', 'pickled vegetables', 'liquor (appetizer)', 'UHT-milk',\n",
              "       'candy', 'onions', 'hair spray', 'photo/film', 'domestic eggs',\n",
              "       'margarine', 'shopping bags', 'salt', 'oil', 'whipped/sour cream',\n",
              "       'frozen vegetables', 'sliced cheese', 'dish cleaner',\n",
              "       'baking powder', 'specialty cheese', 'salty snack',\n",
              "       'Instant food products', 'pet care', 'white bread',\n",
              "       'female sanitary products', 'cling film/bags', 'soap',\n",
              "       'frozen chicken', 'house keeping products', 'spread cheese',\n",
              "       'decalcifier', 'frozen dessert', 'vinegar', 'nuts/prunes',\n",
              "       'potato products', 'frozen fish', 'hygiene articles',\n",
              "       'artif. sweetener', 'light bulbs', 'canned vegetables',\n",
              "       'chewing gum', 'canned fish', 'cookware', 'semi-finished bread',\n",
              "       'cat food', 'bathroom cleaner', 'prosecco', 'liver loaf',\n",
              "       'zwieback', 'canned fruit', 'frozen fruits', 'brandy',\n",
              "       'baby cosmetics', 'spices', 'napkins', 'waffles', 'sauces', 'rum',\n",
              "       'chocolate marshmallow', 'long life bakery product', 'bags',\n",
              "       'sweet spreads', 'soups', 'mustard', 'specialty fat',\n",
              "       'instant coffee', 'snack products', 'organic sausage',\n",
              "       'soft cheese', 'mayonnaise', 'dental care', 'roll products ',\n",
              "       'kitchen towels', 'flower soil/fertilizer', 'cereals',\n",
              "       'meat spreads', 'dishes', 'male cosmetics', 'candles', 'whisky',\n",
              "       'tidbits', 'cooking chocolate', 'seasonal products', 'liqueur',\n",
              "       'abrasive cleaner', 'syrup', 'ketchup', 'cream', 'skin care',\n",
              "       'rubbing alcohol', 'nut snack', 'cocoa drinks', 'softener',\n",
              "       'organic products', 'cake bar', 'honey', 'jam', 'kitchen utensil',\n",
              "       'flower (seeds)', 'rice', 'tea', 'salad dressing',\n",
              "       'specialty vegetables', 'pudding powder', 'ready soups',\n",
              "       'make up remover', 'toilet cleaner', 'preservation products'],\n",
              "      dtype=object)"
            ]
          },
          "metadata": {
            "tags": []
          },
          "execution_count": 15
        }
      ]
    },
    {
      "cell_type": "code",
      "metadata": {
        "colab": {
          "base_uri": "https://localhost:8080/",
          "height": 408
        },
        "id": "k-U_ecC3lOyI",
        "outputId": "72981739-353a-4c48-b046-b715fc4ce89a"
      },
      "source": [
        "dataset"
      ],
      "execution_count": 16,
      "outputs": [
        {
          "output_type": "execute_result",
          "data": {
            "text/html": [
              "<div>\n",
              "<style scoped>\n",
              "    .dataframe tbody tr th:only-of-type {\n",
              "        vertical-align: middle;\n",
              "    }\n",
              "\n",
              "    .dataframe tbody tr th {\n",
              "        vertical-align: top;\n",
              "    }\n",
              "\n",
              "    .dataframe thead th {\n",
              "        text-align: right;\n",
              "    }\n",
              "</style>\n",
              "<table border=\"1\" class=\"dataframe\">\n",
              "  <thead>\n",
              "    <tr style=\"text-align: right;\">\n",
              "      <th></th>\n",
              "      <th>Member_number</th>\n",
              "      <th>Date</th>\n",
              "      <th>itemDescription</th>\n",
              "    </tr>\n",
              "  </thead>\n",
              "  <tbody>\n",
              "    <tr>\n",
              "      <th>0</th>\n",
              "      <td>1808</td>\n",
              "      <td>21-07-2015</td>\n",
              "      <td>tropical fruit</td>\n",
              "    </tr>\n",
              "    <tr>\n",
              "      <th>1</th>\n",
              "      <td>2552</td>\n",
              "      <td>05-01-2015</td>\n",
              "      <td>whole milk</td>\n",
              "    </tr>\n",
              "    <tr>\n",
              "      <th>2</th>\n",
              "      <td>2300</td>\n",
              "      <td>19-09-2015</td>\n",
              "      <td>pip fruit</td>\n",
              "    </tr>\n",
              "    <tr>\n",
              "      <th>3</th>\n",
              "      <td>1187</td>\n",
              "      <td>12-12-2015</td>\n",
              "      <td>other vegetables</td>\n",
              "    </tr>\n",
              "    <tr>\n",
              "      <th>4</th>\n",
              "      <td>3037</td>\n",
              "      <td>01-02-2015</td>\n",
              "      <td>whole milk</td>\n",
              "    </tr>\n",
              "    <tr>\n",
              "      <th>...</th>\n",
              "      <td>...</td>\n",
              "      <td>...</td>\n",
              "      <td>...</td>\n",
              "    </tr>\n",
              "    <tr>\n",
              "      <th>38760</th>\n",
              "      <td>4471</td>\n",
              "      <td>08-10-2014</td>\n",
              "      <td>sliced cheese</td>\n",
              "    </tr>\n",
              "    <tr>\n",
              "      <th>38761</th>\n",
              "      <td>2022</td>\n",
              "      <td>23-02-2014</td>\n",
              "      <td>candy</td>\n",
              "    </tr>\n",
              "    <tr>\n",
              "      <th>38762</th>\n",
              "      <td>1097</td>\n",
              "      <td>16-04-2014</td>\n",
              "      <td>cake bar</td>\n",
              "    </tr>\n",
              "    <tr>\n",
              "      <th>38763</th>\n",
              "      <td>1510</td>\n",
              "      <td>03-12-2014</td>\n",
              "      <td>fruit/vegetable juice</td>\n",
              "    </tr>\n",
              "    <tr>\n",
              "      <th>38764</th>\n",
              "      <td>1521</td>\n",
              "      <td>26-12-2014</td>\n",
              "      <td>cat food</td>\n",
              "    </tr>\n",
              "  </tbody>\n",
              "</table>\n",
              "<p>38765 rows × 3 columns</p>\n",
              "</div>"
            ],
            "text/plain": [
              "       Member_number        Date        itemDescription\n",
              "0               1808  21-07-2015         tropical fruit\n",
              "1               2552  05-01-2015             whole milk\n",
              "2               2300  19-09-2015              pip fruit\n",
              "3               1187  12-12-2015       other vegetables\n",
              "4               3037  01-02-2015             whole milk\n",
              "...              ...         ...                    ...\n",
              "38760           4471  08-10-2014          sliced cheese\n",
              "38761           2022  23-02-2014                  candy\n",
              "38762           1097  16-04-2014               cake bar\n",
              "38763           1510  03-12-2014  fruit/vegetable juice\n",
              "38764           1521  26-12-2014               cat food\n",
              "\n",
              "[38765 rows x 3 columns]"
            ]
          },
          "metadata": {
            "tags": []
          },
          "execution_count": 16
        }
      ]
    },
    {
      "cell_type": "code",
      "metadata": {
        "colab": {
          "base_uri": "https://localhost:8080/",
          "height": 438
        },
        "id": "13L8ZlhTlPop",
        "outputId": "fa9c34fb-b796-4060-9bd1-30b85544d581"
      },
      "source": [
        "data=dataset.groupby('itemDescription')\n",
        "data.first()"
      ],
      "execution_count": 17,
      "outputs": [
        {
          "output_type": "execute_result",
          "data": {
            "text/html": [
              "<div>\n",
              "<style scoped>\n",
              "    .dataframe tbody tr th:only-of-type {\n",
              "        vertical-align: middle;\n",
              "    }\n",
              "\n",
              "    .dataframe tbody tr th {\n",
              "        vertical-align: top;\n",
              "    }\n",
              "\n",
              "    .dataframe thead th {\n",
              "        text-align: right;\n",
              "    }\n",
              "</style>\n",
              "<table border=\"1\" class=\"dataframe\">\n",
              "  <thead>\n",
              "    <tr style=\"text-align: right;\">\n",
              "      <th></th>\n",
              "      <th>Member_number</th>\n",
              "      <th>Date</th>\n",
              "    </tr>\n",
              "    <tr>\n",
              "      <th>itemDescription</th>\n",
              "      <th></th>\n",
              "      <th></th>\n",
              "    </tr>\n",
              "  </thead>\n",
              "  <tbody>\n",
              "    <tr>\n",
              "      <th>Instant food products</th>\n",
              "      <td>1746</td>\n",
              "      <td>15-02-2015</td>\n",
              "    </tr>\n",
              "    <tr>\n",
              "      <th>UHT-milk</th>\n",
              "      <td>2836</td>\n",
              "      <td>29-12-2015</td>\n",
              "    </tr>\n",
              "    <tr>\n",
              "      <th>abrasive cleaner</th>\n",
              "      <td>2421</td>\n",
              "      <td>21-11-2015</td>\n",
              "    </tr>\n",
              "    <tr>\n",
              "      <th>artif. sweetener</th>\n",
              "      <td>1273</td>\n",
              "      <td>04-05-2015</td>\n",
              "    </tr>\n",
              "    <tr>\n",
              "      <th>baby cosmetics</th>\n",
              "      <td>2070</td>\n",
              "      <td>19-12-2015</td>\n",
              "    </tr>\n",
              "    <tr>\n",
              "      <th>...</th>\n",
              "      <td>...</td>\n",
              "      <td>...</td>\n",
              "    </tr>\n",
              "    <tr>\n",
              "      <th>white bread</th>\n",
              "      <td>3950</td>\n",
              "      <td>01-10-2015</td>\n",
              "    </tr>\n",
              "    <tr>\n",
              "      <th>white wine</th>\n",
              "      <td>4389</td>\n",
              "      <td>13-04-2015</td>\n",
              "    </tr>\n",
              "    <tr>\n",
              "      <th>whole milk</th>\n",
              "      <td>2552</td>\n",
              "      <td>05-01-2015</td>\n",
              "    </tr>\n",
              "    <tr>\n",
              "      <th>yogurt</th>\n",
              "      <td>4056</td>\n",
              "      <td>12-06-2015</td>\n",
              "    </tr>\n",
              "    <tr>\n",
              "      <th>zwieback</th>\n",
              "      <td>1968</td>\n",
              "      <td>10-01-2015</td>\n",
              "    </tr>\n",
              "  </tbody>\n",
              "</table>\n",
              "<p>167 rows × 2 columns</p>\n",
              "</div>"
            ],
            "text/plain": [
              "                       Member_number        Date\n",
              "itemDescription                                 \n",
              "Instant food products           1746  15-02-2015\n",
              "UHT-milk                        2836  29-12-2015\n",
              "abrasive cleaner                2421  21-11-2015\n",
              "artif. sweetener                1273  04-05-2015\n",
              "baby cosmetics                  2070  19-12-2015\n",
              "...                              ...         ...\n",
              "white bread                     3950  01-10-2015\n",
              "white wine                      4389  13-04-2015\n",
              "whole milk                      2552  05-01-2015\n",
              "yogurt                          4056  12-06-2015\n",
              "zwieback                        1968  10-01-2015\n",
              "\n",
              "[167 rows x 2 columns]"
            ]
          },
          "metadata": {
            "tags": []
          },
          "execution_count": 17
        }
      ]
    },
    {
      "cell_type": "code",
      "metadata": {
        "colab": {
          "base_uri": "https://localhost:8080/"
        },
        "id": "-5lDTIccl2bu",
        "outputId": "ad550370-e975-42ed-8473-4e1b5639b741"
      },
      "source": [
        "dataset['itemDescription'].nunique()"
      ],
      "execution_count": 18,
      "outputs": [
        {
          "output_type": "execute_result",
          "data": {
            "text/plain": [
              "167"
            ]
          },
          "metadata": {
            "tags": []
          },
          "execution_count": 18
        }
      ]
    },
    {
      "cell_type": "code",
      "metadata": {
        "colab": {
          "base_uri": "https://localhost:8080/"
        },
        "id": "vVcaLC3Bm5Gf",
        "outputId": "b20197d2-e6c9-4bb7-a475-be8b00daa99d"
      },
      "source": [
        "dataset['itemDescription'].unique()"
      ],
      "execution_count": 19,
      "outputs": [
        {
          "output_type": "execute_result",
          "data": {
            "text/plain": [
              "array(['tropical fruit', 'whole milk', 'pip fruit', 'other vegetables',\n",
              "       'rolls/buns', 'pot plants', 'citrus fruit', 'beef', 'frankfurter',\n",
              "       'chicken', 'butter', 'fruit/vegetable juice',\n",
              "       'packaged fruit/vegetables', 'chocolate', 'specialty bar',\n",
              "       'butter milk', 'bottled water', 'yogurt', 'sausage', 'brown bread',\n",
              "       'hamburger meat', 'root vegetables', 'pork', 'pastry',\n",
              "       'canned beer', 'berries', 'coffee', 'misc. beverages', 'ham',\n",
              "       'turkey', 'curd cheese', 'red/blush wine',\n",
              "       'frozen potato products', 'flour', 'sugar', 'frozen meals',\n",
              "       'herbs', 'soda', 'detergent', 'grapes', 'processed cheese', 'fish',\n",
              "       'sparkling wine', 'newspapers', 'curd', 'pasta', 'popcorn',\n",
              "       'finished products', 'beverages', 'bottled beer', 'dessert',\n",
              "       'dog food', 'specialty chocolate', 'condensed milk', 'cleaner',\n",
              "       'white wine', 'meat', 'ice cream', 'hard cheese', 'cream cheese ',\n",
              "       'liquor', 'pickled vegetables', 'liquor (appetizer)', 'UHT-milk',\n",
              "       'candy', 'onions', 'hair spray', 'photo/film', 'domestic eggs',\n",
              "       'margarine', 'shopping bags', 'salt', 'oil', 'whipped/sour cream',\n",
              "       'frozen vegetables', 'sliced cheese', 'dish cleaner',\n",
              "       'baking powder', 'specialty cheese', 'salty snack',\n",
              "       'Instant food products', 'pet care', 'white bread',\n",
              "       'female sanitary products', 'cling film/bags', 'soap',\n",
              "       'frozen chicken', 'house keeping products', 'spread cheese',\n",
              "       'decalcifier', 'frozen dessert', 'vinegar', 'nuts/prunes',\n",
              "       'potato products', 'frozen fish', 'hygiene articles',\n",
              "       'artif. sweetener', 'light bulbs', 'canned vegetables',\n",
              "       'chewing gum', 'canned fish', 'cookware', 'semi-finished bread',\n",
              "       'cat food', 'bathroom cleaner', 'prosecco', 'liver loaf',\n",
              "       'zwieback', 'canned fruit', 'frozen fruits', 'brandy',\n",
              "       'baby cosmetics', 'spices', 'napkins', 'waffles', 'sauces', 'rum',\n",
              "       'chocolate marshmallow', 'long life bakery product', 'bags',\n",
              "       'sweet spreads', 'soups', 'mustard', 'specialty fat',\n",
              "       'instant coffee', 'snack products', 'organic sausage',\n",
              "       'soft cheese', 'mayonnaise', 'dental care', 'roll products ',\n",
              "       'kitchen towels', 'flower soil/fertilizer', 'cereals',\n",
              "       'meat spreads', 'dishes', 'male cosmetics', 'candles', 'whisky',\n",
              "       'tidbits', 'cooking chocolate', 'seasonal products', 'liqueur',\n",
              "       'abrasive cleaner', 'syrup', 'ketchup', 'cream', 'skin care',\n",
              "       'rubbing alcohol', 'nut snack', 'cocoa drinks', 'softener',\n",
              "       'organic products', 'cake bar', 'honey', 'jam', 'kitchen utensil',\n",
              "       'flower (seeds)', 'rice', 'tea', 'salad dressing',\n",
              "       'specialty vegetables', 'pudding powder', 'ready soups',\n",
              "       'make up remover', 'toilet cleaner', 'preservation products'],\n",
              "      dtype=object)"
            ]
          },
          "metadata": {
            "tags": []
          },
          "execution_count": 19
        }
      ]
    },
    {
      "cell_type": "markdown",
      "metadata": {
        "id": "WLpzE1QD9gOD"
      },
      "source": [
        "## Preparing itemDescription column."
      ]
    },
    {
      "cell_type": "code",
      "metadata": {
        "colab": {
          "base_uri": "https://localhost:8080/",
          "height": 408
        },
        "id": "3ELTX1nhmoTU",
        "outputId": "f99615be-956c-4af1-8969-31b8cef54c0b"
      },
      "source": [
        "data1=dataset.replace(to_replace =['tropical fruit','pip fruit', 'other vegetables','citrus fruit','fruit/vegetable juice',\n",
        "       'packaged fruit/vegetables', 'root vegetables', 'berries', 'herbs','grapes','pickled vegetables', 'onions','canned vegetables',\n",
        "       'canned fruit', 'frozen fruits','specialty vegetables', ], \n",
        "                            value =\"Fruits & Vegetables\")\n",
        "data1"
      ],
      "execution_count": 20,
      "outputs": [
        {
          "output_type": "execute_result",
          "data": {
            "text/html": [
              "<div>\n",
              "<style scoped>\n",
              "    .dataframe tbody tr th:only-of-type {\n",
              "        vertical-align: middle;\n",
              "    }\n",
              "\n",
              "    .dataframe tbody tr th {\n",
              "        vertical-align: top;\n",
              "    }\n",
              "\n",
              "    .dataframe thead th {\n",
              "        text-align: right;\n",
              "    }\n",
              "</style>\n",
              "<table border=\"1\" class=\"dataframe\">\n",
              "  <thead>\n",
              "    <tr style=\"text-align: right;\">\n",
              "      <th></th>\n",
              "      <th>Member_number</th>\n",
              "      <th>Date</th>\n",
              "      <th>itemDescription</th>\n",
              "    </tr>\n",
              "  </thead>\n",
              "  <tbody>\n",
              "    <tr>\n",
              "      <th>0</th>\n",
              "      <td>1808</td>\n",
              "      <td>21-07-2015</td>\n",
              "      <td>Fruits &amp; Vegetables</td>\n",
              "    </tr>\n",
              "    <tr>\n",
              "      <th>1</th>\n",
              "      <td>2552</td>\n",
              "      <td>05-01-2015</td>\n",
              "      <td>whole milk</td>\n",
              "    </tr>\n",
              "    <tr>\n",
              "      <th>2</th>\n",
              "      <td>2300</td>\n",
              "      <td>19-09-2015</td>\n",
              "      <td>Fruits &amp; Vegetables</td>\n",
              "    </tr>\n",
              "    <tr>\n",
              "      <th>3</th>\n",
              "      <td>1187</td>\n",
              "      <td>12-12-2015</td>\n",
              "      <td>Fruits &amp; Vegetables</td>\n",
              "    </tr>\n",
              "    <tr>\n",
              "      <th>4</th>\n",
              "      <td>3037</td>\n",
              "      <td>01-02-2015</td>\n",
              "      <td>whole milk</td>\n",
              "    </tr>\n",
              "    <tr>\n",
              "      <th>...</th>\n",
              "      <td>...</td>\n",
              "      <td>...</td>\n",
              "      <td>...</td>\n",
              "    </tr>\n",
              "    <tr>\n",
              "      <th>38760</th>\n",
              "      <td>4471</td>\n",
              "      <td>08-10-2014</td>\n",
              "      <td>sliced cheese</td>\n",
              "    </tr>\n",
              "    <tr>\n",
              "      <th>38761</th>\n",
              "      <td>2022</td>\n",
              "      <td>23-02-2014</td>\n",
              "      <td>candy</td>\n",
              "    </tr>\n",
              "    <tr>\n",
              "      <th>38762</th>\n",
              "      <td>1097</td>\n",
              "      <td>16-04-2014</td>\n",
              "      <td>cake bar</td>\n",
              "    </tr>\n",
              "    <tr>\n",
              "      <th>38763</th>\n",
              "      <td>1510</td>\n",
              "      <td>03-12-2014</td>\n",
              "      <td>Fruits &amp; Vegetables</td>\n",
              "    </tr>\n",
              "    <tr>\n",
              "      <th>38764</th>\n",
              "      <td>1521</td>\n",
              "      <td>26-12-2014</td>\n",
              "      <td>cat food</td>\n",
              "    </tr>\n",
              "  </tbody>\n",
              "</table>\n",
              "<p>38765 rows × 3 columns</p>\n",
              "</div>"
            ],
            "text/plain": [
              "       Member_number        Date      itemDescription\n",
              "0               1808  21-07-2015  Fruits & Vegetables\n",
              "1               2552  05-01-2015           whole milk\n",
              "2               2300  19-09-2015  Fruits & Vegetables\n",
              "3               1187  12-12-2015  Fruits & Vegetables\n",
              "4               3037  01-02-2015           whole milk\n",
              "...              ...         ...                  ...\n",
              "38760           4471  08-10-2014        sliced cheese\n",
              "38761           2022  23-02-2014                candy\n",
              "38762           1097  16-04-2014             cake bar\n",
              "38763           1510  03-12-2014  Fruits & Vegetables\n",
              "38764           1521  26-12-2014             cat food\n",
              "\n",
              "[38765 rows x 3 columns]"
            ]
          },
          "metadata": {
            "tags": []
          },
          "execution_count": 20
        }
      ]
    },
    {
      "cell_type": "code",
      "metadata": {
        "colab": {
          "base_uri": "https://localhost:8080/"
        },
        "id": "hnrnJMAynafL",
        "outputId": "f8e49451-9a43-4236-cd6c-b9cf51a11cc3"
      },
      "source": [
        "data1['itemDescription'].nunique()"
      ],
      "execution_count": 21,
      "outputs": [
        {
          "output_type": "execute_result",
          "data": {
            "text/plain": [
              "152"
            ]
          },
          "metadata": {
            "tags": []
          },
          "execution_count": 21
        }
      ]
    },
    {
      "cell_type": "code",
      "metadata": {
        "colab": {
          "base_uri": "https://localhost:8080/",
          "height": 408
        },
        "id": "7FG0A0BYsacX",
        "outputId": "6b966a82-fdef-46b2-def8-b7ca42133cad"
      },
      "source": [
        "data2=data1.replace(to_replace =[ 'pot plants','cat food','frankfurter','detergent','newspapers','finished products','dog food', 'cleaner','hair spray', 'photo/film',\n",
        "           'shopping bags','dish cleaner','pet care','female sanitary products', 'cling film/bags', 'soap','house keeping products','decalcifier'\n",
        "               ,'hygiene articles','light bulbs','cookware','bathroom cleaner', 'prosecco', 'liver loaf',\n",
        "        'zwieback','baby cosmetics', 'napkins','long life bakery product', 'bags',  'dental care', 'roll products ',\n",
        "        'kitchen towels', 'flower soil/fertilizer', 'male cosmetics', 'candles','tidbits', 'seasonal products','abrasive cleaner', 'cream', 'skin care',\n",
        "        'rubbing alcohol','softener',\n",
        "        'organic products','kitchen utensil',\n",
        "        'flower (seeds)','make up remover', 'toilet cleaner', 'preservation products','dishes',], \n",
        "                            value =\"Non-food products\")\n",
        "data2"
      ],
      "execution_count": 22,
      "outputs": [
        {
          "output_type": "execute_result",
          "data": {
            "text/html": [
              "<div>\n",
              "<style scoped>\n",
              "    .dataframe tbody tr th:only-of-type {\n",
              "        vertical-align: middle;\n",
              "    }\n",
              "\n",
              "    .dataframe tbody tr th {\n",
              "        vertical-align: top;\n",
              "    }\n",
              "\n",
              "    .dataframe thead th {\n",
              "        text-align: right;\n",
              "    }\n",
              "</style>\n",
              "<table border=\"1\" class=\"dataframe\">\n",
              "  <thead>\n",
              "    <tr style=\"text-align: right;\">\n",
              "      <th></th>\n",
              "      <th>Member_number</th>\n",
              "      <th>Date</th>\n",
              "      <th>itemDescription</th>\n",
              "    </tr>\n",
              "  </thead>\n",
              "  <tbody>\n",
              "    <tr>\n",
              "      <th>0</th>\n",
              "      <td>1808</td>\n",
              "      <td>21-07-2015</td>\n",
              "      <td>Fruits &amp; Vegetables</td>\n",
              "    </tr>\n",
              "    <tr>\n",
              "      <th>1</th>\n",
              "      <td>2552</td>\n",
              "      <td>05-01-2015</td>\n",
              "      <td>whole milk</td>\n",
              "    </tr>\n",
              "    <tr>\n",
              "      <th>2</th>\n",
              "      <td>2300</td>\n",
              "      <td>19-09-2015</td>\n",
              "      <td>Fruits &amp; Vegetables</td>\n",
              "    </tr>\n",
              "    <tr>\n",
              "      <th>3</th>\n",
              "      <td>1187</td>\n",
              "      <td>12-12-2015</td>\n",
              "      <td>Fruits &amp; Vegetables</td>\n",
              "    </tr>\n",
              "    <tr>\n",
              "      <th>4</th>\n",
              "      <td>3037</td>\n",
              "      <td>01-02-2015</td>\n",
              "      <td>whole milk</td>\n",
              "    </tr>\n",
              "    <tr>\n",
              "      <th>...</th>\n",
              "      <td>...</td>\n",
              "      <td>...</td>\n",
              "      <td>...</td>\n",
              "    </tr>\n",
              "    <tr>\n",
              "      <th>38760</th>\n",
              "      <td>4471</td>\n",
              "      <td>08-10-2014</td>\n",
              "      <td>sliced cheese</td>\n",
              "    </tr>\n",
              "    <tr>\n",
              "      <th>38761</th>\n",
              "      <td>2022</td>\n",
              "      <td>23-02-2014</td>\n",
              "      <td>candy</td>\n",
              "    </tr>\n",
              "    <tr>\n",
              "      <th>38762</th>\n",
              "      <td>1097</td>\n",
              "      <td>16-04-2014</td>\n",
              "      <td>cake bar</td>\n",
              "    </tr>\n",
              "    <tr>\n",
              "      <th>38763</th>\n",
              "      <td>1510</td>\n",
              "      <td>03-12-2014</td>\n",
              "      <td>Fruits &amp; Vegetables</td>\n",
              "    </tr>\n",
              "    <tr>\n",
              "      <th>38764</th>\n",
              "      <td>1521</td>\n",
              "      <td>26-12-2014</td>\n",
              "      <td>Non-food products</td>\n",
              "    </tr>\n",
              "  </tbody>\n",
              "</table>\n",
              "<p>38765 rows × 3 columns</p>\n",
              "</div>"
            ],
            "text/plain": [
              "       Member_number        Date      itemDescription\n",
              "0               1808  21-07-2015  Fruits & Vegetables\n",
              "1               2552  05-01-2015           whole milk\n",
              "2               2300  19-09-2015  Fruits & Vegetables\n",
              "3               1187  12-12-2015  Fruits & Vegetables\n",
              "4               3037  01-02-2015           whole milk\n",
              "...              ...         ...                  ...\n",
              "38760           4471  08-10-2014        sliced cheese\n",
              "38761           2022  23-02-2014                candy\n",
              "38762           1097  16-04-2014             cake bar\n",
              "38763           1510  03-12-2014  Fruits & Vegetables\n",
              "38764           1521  26-12-2014    Non-food products\n",
              "\n",
              "[38765 rows x 3 columns]"
            ]
          },
          "metadata": {
            "tags": []
          },
          "execution_count": 22
        }
      ]
    },
    {
      "cell_type": "code",
      "metadata": {
        "colab": {
          "base_uri": "https://localhost:8080/"
        },
        "id": "JavDCaxDs9mZ",
        "outputId": "fa1f9678-887d-4d3b-d56b-a5a4c77dc133"
      },
      "source": [
        "data2['itemDescription'].nunique()"
      ],
      "execution_count": 23,
      "outputs": [
        {
          "output_type": "execute_result",
          "data": {
            "text/plain": [
              "104"
            ]
          },
          "metadata": {
            "tags": []
          },
          "execution_count": 23
        }
      ]
    },
    {
      "cell_type": "code",
      "metadata": {
        "colab": {
          "base_uri": "https://localhost:8080/"
        },
        "id": "jztHvB1rs7_o",
        "outputId": "5480c743-dc1a-47e9-cb03-d814cfa5ad4e"
      },
      "source": [
        "data2['itemDescription'].unique()"
      ],
      "execution_count": 24,
      "outputs": [
        {
          "output_type": "execute_result",
          "data": {
            "text/plain": [
              "array(['Fruits & Vegetables', 'whole milk', 'rolls/buns',\n",
              "       'Non-food products', 'beef', 'chicken', 'butter', 'chocolate',\n",
              "       'specialty bar', 'butter milk', 'bottled water', 'yogurt',\n",
              "       'sausage', 'brown bread', 'hamburger meat', 'pork', 'pastry',\n",
              "       'canned beer', 'coffee', 'misc. beverages', 'ham', 'turkey',\n",
              "       'curd cheese', 'red/blush wine', 'frozen potato products', 'flour',\n",
              "       'sugar', 'frozen meals', 'soda', 'processed cheese', 'fish',\n",
              "       'sparkling wine', 'curd', 'pasta', 'popcorn', 'beverages',\n",
              "       'bottled beer', 'dessert', 'specialty chocolate', 'condensed milk',\n",
              "       'white wine', 'meat', 'ice cream', 'hard cheese', 'cream cheese ',\n",
              "       'liquor', 'liquor (appetizer)', 'UHT-milk', 'candy',\n",
              "       'domestic eggs', 'margarine', 'salt', 'oil', 'whipped/sour cream',\n",
              "       'frozen vegetables', 'sliced cheese', 'baking powder',\n",
              "       'specialty cheese', 'salty snack', 'Instant food products',\n",
              "       'white bread', 'frozen chicken', 'spread cheese', 'frozen dessert',\n",
              "       'vinegar', 'nuts/prunes', 'potato products', 'frozen fish',\n",
              "       'artif. sweetener', 'chewing gum', 'canned fish',\n",
              "       'semi-finished bread', 'brandy', 'spices', 'waffles', 'sauces',\n",
              "       'rum', 'chocolate marshmallow', 'sweet spreads', 'soups',\n",
              "       'mustard', 'specialty fat', 'instant coffee', 'snack products',\n",
              "       'organic sausage', 'soft cheese', 'mayonnaise', 'cereals',\n",
              "       'meat spreads', 'whisky', 'cooking chocolate', 'liqueur', 'syrup',\n",
              "       'ketchup', 'nut snack', 'cocoa drinks', 'cake bar', 'honey', 'jam',\n",
              "       'rice', 'tea', 'salad dressing', 'pudding powder', 'ready soups'],\n",
              "      dtype=object)"
            ]
          },
          "metadata": {
            "tags": []
          },
          "execution_count": 24
        }
      ]
    },
    {
      "cell_type": "code",
      "metadata": {
        "colab": {
          "base_uri": "https://localhost:8080/",
          "height": 408
        },
        "id": "qluPvj09tNNP",
        "outputId": "1d4b2377-628c-415e-c4f5-ff3e9654b5a8"
      },
      "source": [
        "data3=data2.replace(to_replace =['whole milk','butter', 'butter milk','yogurt','curd cheese', 'processed cheese', 'curd','condensed milk',\n",
        "                                 'hard cheese', 'cream cheese ','UHT-milk','whipped/sour cream', 'sliced cheese','specialty cheese', 'spread cheese',\n",
        "                                 'soft cheese', ], \n",
        "                            value =\"Milk Products\")\n",
        "data3"
      ],
      "execution_count": 25,
      "outputs": [
        {
          "output_type": "execute_result",
          "data": {
            "text/html": [
              "<div>\n",
              "<style scoped>\n",
              "    .dataframe tbody tr th:only-of-type {\n",
              "        vertical-align: middle;\n",
              "    }\n",
              "\n",
              "    .dataframe tbody tr th {\n",
              "        vertical-align: top;\n",
              "    }\n",
              "\n",
              "    .dataframe thead th {\n",
              "        text-align: right;\n",
              "    }\n",
              "</style>\n",
              "<table border=\"1\" class=\"dataframe\">\n",
              "  <thead>\n",
              "    <tr style=\"text-align: right;\">\n",
              "      <th></th>\n",
              "      <th>Member_number</th>\n",
              "      <th>Date</th>\n",
              "      <th>itemDescription</th>\n",
              "    </tr>\n",
              "  </thead>\n",
              "  <tbody>\n",
              "    <tr>\n",
              "      <th>0</th>\n",
              "      <td>1808</td>\n",
              "      <td>21-07-2015</td>\n",
              "      <td>Fruits &amp; Vegetables</td>\n",
              "    </tr>\n",
              "    <tr>\n",
              "      <th>1</th>\n",
              "      <td>2552</td>\n",
              "      <td>05-01-2015</td>\n",
              "      <td>Milk Products</td>\n",
              "    </tr>\n",
              "    <tr>\n",
              "      <th>2</th>\n",
              "      <td>2300</td>\n",
              "      <td>19-09-2015</td>\n",
              "      <td>Fruits &amp; Vegetables</td>\n",
              "    </tr>\n",
              "    <tr>\n",
              "      <th>3</th>\n",
              "      <td>1187</td>\n",
              "      <td>12-12-2015</td>\n",
              "      <td>Fruits &amp; Vegetables</td>\n",
              "    </tr>\n",
              "    <tr>\n",
              "      <th>4</th>\n",
              "      <td>3037</td>\n",
              "      <td>01-02-2015</td>\n",
              "      <td>Milk Products</td>\n",
              "    </tr>\n",
              "    <tr>\n",
              "      <th>...</th>\n",
              "      <td>...</td>\n",
              "      <td>...</td>\n",
              "      <td>...</td>\n",
              "    </tr>\n",
              "    <tr>\n",
              "      <th>38760</th>\n",
              "      <td>4471</td>\n",
              "      <td>08-10-2014</td>\n",
              "      <td>Milk Products</td>\n",
              "    </tr>\n",
              "    <tr>\n",
              "      <th>38761</th>\n",
              "      <td>2022</td>\n",
              "      <td>23-02-2014</td>\n",
              "      <td>candy</td>\n",
              "    </tr>\n",
              "    <tr>\n",
              "      <th>38762</th>\n",
              "      <td>1097</td>\n",
              "      <td>16-04-2014</td>\n",
              "      <td>cake bar</td>\n",
              "    </tr>\n",
              "    <tr>\n",
              "      <th>38763</th>\n",
              "      <td>1510</td>\n",
              "      <td>03-12-2014</td>\n",
              "      <td>Fruits &amp; Vegetables</td>\n",
              "    </tr>\n",
              "    <tr>\n",
              "      <th>38764</th>\n",
              "      <td>1521</td>\n",
              "      <td>26-12-2014</td>\n",
              "      <td>Non-food products</td>\n",
              "    </tr>\n",
              "  </tbody>\n",
              "</table>\n",
              "<p>38765 rows × 3 columns</p>\n",
              "</div>"
            ],
            "text/plain": [
              "       Member_number        Date      itemDescription\n",
              "0               1808  21-07-2015  Fruits & Vegetables\n",
              "1               2552  05-01-2015        Milk Products\n",
              "2               2300  19-09-2015  Fruits & Vegetables\n",
              "3               1187  12-12-2015  Fruits & Vegetables\n",
              "4               3037  01-02-2015        Milk Products\n",
              "...              ...         ...                  ...\n",
              "38760           4471  08-10-2014        Milk Products\n",
              "38761           2022  23-02-2014                candy\n",
              "38762           1097  16-04-2014             cake bar\n",
              "38763           1510  03-12-2014  Fruits & Vegetables\n",
              "38764           1521  26-12-2014    Non-food products\n",
              "\n",
              "[38765 rows x 3 columns]"
            ]
          },
          "metadata": {
            "tags": []
          },
          "execution_count": 25
        }
      ]
    },
    {
      "cell_type": "code",
      "metadata": {
        "colab": {
          "base_uri": "https://localhost:8080/"
        },
        "id": "V_pqfcU6uehq",
        "outputId": "89508fac-733d-46c6-a4aa-01c5bed47143"
      },
      "source": [
        "data3['itemDescription'].nunique()"
      ],
      "execution_count": 26,
      "outputs": [
        {
          "output_type": "execute_result",
          "data": {
            "text/plain": [
              "89"
            ]
          },
          "metadata": {
            "tags": []
          },
          "execution_count": 26
        }
      ]
    },
    {
      "cell_type": "code",
      "metadata": {
        "colab": {
          "base_uri": "https://localhost:8080/"
        },
        "id": "p5qN3777uj5f",
        "outputId": "2c11691f-54e8-4569-8893-4963bb03c1f8"
      },
      "source": [
        "data3['itemDescription'].unique()"
      ],
      "execution_count": 27,
      "outputs": [
        {
          "output_type": "execute_result",
          "data": {
            "text/plain": [
              "array(['Fruits & Vegetables', 'Milk Products', 'rolls/buns',\n",
              "       'Non-food products', 'beef', 'chicken', 'chocolate',\n",
              "       'specialty bar', 'bottled water', 'sausage', 'brown bread',\n",
              "       'hamburger meat', 'pork', 'pastry', 'canned beer', 'coffee',\n",
              "       'misc. beverages', 'ham', 'turkey', 'red/blush wine',\n",
              "       'frozen potato products', 'flour', 'sugar', 'frozen meals', 'soda',\n",
              "       'fish', 'sparkling wine', 'pasta', 'popcorn', 'beverages',\n",
              "       'bottled beer', 'dessert', 'specialty chocolate', 'white wine',\n",
              "       'meat', 'ice cream', 'liquor', 'liquor (appetizer)', 'candy',\n",
              "       'domestic eggs', 'margarine', 'salt', 'oil', 'frozen vegetables',\n",
              "       'baking powder', 'salty snack', 'Instant food products',\n",
              "       'white bread', 'frozen chicken', 'frozen dessert', 'vinegar',\n",
              "       'nuts/prunes', 'potato products', 'frozen fish',\n",
              "       'artif. sweetener', 'chewing gum', 'canned fish',\n",
              "       'semi-finished bread', 'brandy', 'spices', 'waffles', 'sauces',\n",
              "       'rum', 'chocolate marshmallow', 'sweet spreads', 'soups',\n",
              "       'mustard', 'specialty fat', 'instant coffee', 'snack products',\n",
              "       'organic sausage', 'mayonnaise', 'cereals', 'meat spreads',\n",
              "       'whisky', 'cooking chocolate', 'liqueur', 'syrup', 'ketchup',\n",
              "       'nut snack', 'cocoa drinks', 'cake bar', 'honey', 'jam', 'rice',\n",
              "       'tea', 'salad dressing', 'pudding powder', 'ready soups'],\n",
              "      dtype=object)"
            ]
          },
          "metadata": {
            "tags": []
          },
          "execution_count": 27
        }
      ]
    },
    {
      "cell_type": "code",
      "metadata": {
        "colab": {
          "base_uri": "https://localhost:8080/",
          "height": 408
        },
        "id": "UkmWi02duqIA",
        "outputId": "aac51894-bed9-49f9-a211-08d5ac3849c9"
      },
      "source": [
        "data4=data3.replace(to_replace =['frozen potato products', 'frozen meals','frozen vegetables','frozen chicken', 'frozen dessert', \n",
        "                                 'frozen fish',], \n",
        "                            value =\"Frozen food Products\")\n",
        "data4"
      ],
      "execution_count": 28,
      "outputs": [
        {
          "output_type": "execute_result",
          "data": {
            "text/html": [
              "<div>\n",
              "<style scoped>\n",
              "    .dataframe tbody tr th:only-of-type {\n",
              "        vertical-align: middle;\n",
              "    }\n",
              "\n",
              "    .dataframe tbody tr th {\n",
              "        vertical-align: top;\n",
              "    }\n",
              "\n",
              "    .dataframe thead th {\n",
              "        text-align: right;\n",
              "    }\n",
              "</style>\n",
              "<table border=\"1\" class=\"dataframe\">\n",
              "  <thead>\n",
              "    <tr style=\"text-align: right;\">\n",
              "      <th></th>\n",
              "      <th>Member_number</th>\n",
              "      <th>Date</th>\n",
              "      <th>itemDescription</th>\n",
              "    </tr>\n",
              "  </thead>\n",
              "  <tbody>\n",
              "    <tr>\n",
              "      <th>0</th>\n",
              "      <td>1808</td>\n",
              "      <td>21-07-2015</td>\n",
              "      <td>Fruits &amp; Vegetables</td>\n",
              "    </tr>\n",
              "    <tr>\n",
              "      <th>1</th>\n",
              "      <td>2552</td>\n",
              "      <td>05-01-2015</td>\n",
              "      <td>Milk Products</td>\n",
              "    </tr>\n",
              "    <tr>\n",
              "      <th>2</th>\n",
              "      <td>2300</td>\n",
              "      <td>19-09-2015</td>\n",
              "      <td>Fruits &amp; Vegetables</td>\n",
              "    </tr>\n",
              "    <tr>\n",
              "      <th>3</th>\n",
              "      <td>1187</td>\n",
              "      <td>12-12-2015</td>\n",
              "      <td>Fruits &amp; Vegetables</td>\n",
              "    </tr>\n",
              "    <tr>\n",
              "      <th>4</th>\n",
              "      <td>3037</td>\n",
              "      <td>01-02-2015</td>\n",
              "      <td>Milk Products</td>\n",
              "    </tr>\n",
              "    <tr>\n",
              "      <th>...</th>\n",
              "      <td>...</td>\n",
              "      <td>...</td>\n",
              "      <td>...</td>\n",
              "    </tr>\n",
              "    <tr>\n",
              "      <th>38760</th>\n",
              "      <td>4471</td>\n",
              "      <td>08-10-2014</td>\n",
              "      <td>Milk Products</td>\n",
              "    </tr>\n",
              "    <tr>\n",
              "      <th>38761</th>\n",
              "      <td>2022</td>\n",
              "      <td>23-02-2014</td>\n",
              "      <td>candy</td>\n",
              "    </tr>\n",
              "    <tr>\n",
              "      <th>38762</th>\n",
              "      <td>1097</td>\n",
              "      <td>16-04-2014</td>\n",
              "      <td>cake bar</td>\n",
              "    </tr>\n",
              "    <tr>\n",
              "      <th>38763</th>\n",
              "      <td>1510</td>\n",
              "      <td>03-12-2014</td>\n",
              "      <td>Fruits &amp; Vegetables</td>\n",
              "    </tr>\n",
              "    <tr>\n",
              "      <th>38764</th>\n",
              "      <td>1521</td>\n",
              "      <td>26-12-2014</td>\n",
              "      <td>Non-food products</td>\n",
              "    </tr>\n",
              "  </tbody>\n",
              "</table>\n",
              "<p>38765 rows × 3 columns</p>\n",
              "</div>"
            ],
            "text/plain": [
              "       Member_number        Date      itemDescription\n",
              "0               1808  21-07-2015  Fruits & Vegetables\n",
              "1               2552  05-01-2015        Milk Products\n",
              "2               2300  19-09-2015  Fruits & Vegetables\n",
              "3               1187  12-12-2015  Fruits & Vegetables\n",
              "4               3037  01-02-2015        Milk Products\n",
              "...              ...         ...                  ...\n",
              "38760           4471  08-10-2014        Milk Products\n",
              "38761           2022  23-02-2014                candy\n",
              "38762           1097  16-04-2014             cake bar\n",
              "38763           1510  03-12-2014  Fruits & Vegetables\n",
              "38764           1521  26-12-2014    Non-food products\n",
              "\n",
              "[38765 rows x 3 columns]"
            ]
          },
          "metadata": {
            "tags": []
          },
          "execution_count": 28
        }
      ]
    },
    {
      "cell_type": "code",
      "metadata": {
        "colab": {
          "base_uri": "https://localhost:8080/"
        },
        "id": "ROPOB8HAveeD",
        "outputId": "76c26595-3394-4a04-dce5-beb7a66edce4"
      },
      "source": [
        "data4['itemDescription'].nunique()"
      ],
      "execution_count": 29,
      "outputs": [
        {
          "output_type": "execute_result",
          "data": {
            "text/plain": [
              "84"
            ]
          },
          "metadata": {
            "tags": []
          },
          "execution_count": 29
        }
      ]
    },
    {
      "cell_type": "code",
      "metadata": {
        "colab": {
          "base_uri": "https://localhost:8080/"
        },
        "id": "dz_vMoPpvl6a",
        "outputId": "3b90f457-4f91-4043-e9a8-f56424d6613f"
      },
      "source": [
        "data4['itemDescription'].unique()"
      ],
      "execution_count": 30,
      "outputs": [
        {
          "output_type": "execute_result",
          "data": {
            "text/plain": [
              "array(['Fruits & Vegetables', 'Milk Products', 'rolls/buns',\n",
              "       'Non-food products', 'beef', 'chicken', 'chocolate',\n",
              "       'specialty bar', 'bottled water', 'sausage', 'brown bread',\n",
              "       'hamburger meat', 'pork', 'pastry', 'canned beer', 'coffee',\n",
              "       'misc. beverages', 'ham', 'turkey', 'red/blush wine',\n",
              "       'Frozen food Products', 'flour', 'sugar', 'soda', 'fish',\n",
              "       'sparkling wine', 'pasta', 'popcorn', 'beverages', 'bottled beer',\n",
              "       'dessert', 'specialty chocolate', 'white wine', 'meat',\n",
              "       'ice cream', 'liquor', 'liquor (appetizer)', 'candy',\n",
              "       'domestic eggs', 'margarine', 'salt', 'oil', 'baking powder',\n",
              "       'salty snack', 'Instant food products', 'white bread', 'vinegar',\n",
              "       'nuts/prunes', 'potato products', 'artif. sweetener',\n",
              "       'chewing gum', 'canned fish', 'semi-finished bread', 'brandy',\n",
              "       'spices', 'waffles', 'sauces', 'rum', 'chocolate marshmallow',\n",
              "       'sweet spreads', 'soups', 'mustard', 'specialty fat',\n",
              "       'instant coffee', 'snack products', 'organic sausage',\n",
              "       'mayonnaise', 'cereals', 'meat spreads', 'whisky',\n",
              "       'cooking chocolate', 'liqueur', 'syrup', 'ketchup', 'nut snack',\n",
              "       'cocoa drinks', 'cake bar', 'honey', 'jam', 'rice', 'tea',\n",
              "       'salad dressing', 'pudding powder', 'ready soups'], dtype=object)"
            ]
          },
          "metadata": {
            "tags": []
          },
          "execution_count": 30
        }
      ]
    },
    {
      "cell_type": "code",
      "metadata": {
        "colab": {
          "base_uri": "https://localhost:8080/",
          "height": 408
        },
        "id": "V0SJEEKjvrKF",
        "outputId": "895fc07d-0b8a-4fad-8067-4027043cef98"
      },
      "source": [
        "data5=data4.replace(to_replace =['rolls/buns','sausage', 'brown bread', 'pastry', 'ham','dessert', 'specialty chocolate',\n",
        "                                 'white bread','semi-finished bread','waffles', ], \n",
        "                            value =\"Bakery Products\")\n",
        "data5"
      ],
      "execution_count": 31,
      "outputs": [
        {
          "output_type": "execute_result",
          "data": {
            "text/html": [
              "<div>\n",
              "<style scoped>\n",
              "    .dataframe tbody tr th:only-of-type {\n",
              "        vertical-align: middle;\n",
              "    }\n",
              "\n",
              "    .dataframe tbody tr th {\n",
              "        vertical-align: top;\n",
              "    }\n",
              "\n",
              "    .dataframe thead th {\n",
              "        text-align: right;\n",
              "    }\n",
              "</style>\n",
              "<table border=\"1\" class=\"dataframe\">\n",
              "  <thead>\n",
              "    <tr style=\"text-align: right;\">\n",
              "      <th></th>\n",
              "      <th>Member_number</th>\n",
              "      <th>Date</th>\n",
              "      <th>itemDescription</th>\n",
              "    </tr>\n",
              "  </thead>\n",
              "  <tbody>\n",
              "    <tr>\n",
              "      <th>0</th>\n",
              "      <td>1808</td>\n",
              "      <td>21-07-2015</td>\n",
              "      <td>Fruits &amp; Vegetables</td>\n",
              "    </tr>\n",
              "    <tr>\n",
              "      <th>1</th>\n",
              "      <td>2552</td>\n",
              "      <td>05-01-2015</td>\n",
              "      <td>Milk Products</td>\n",
              "    </tr>\n",
              "    <tr>\n",
              "      <th>2</th>\n",
              "      <td>2300</td>\n",
              "      <td>19-09-2015</td>\n",
              "      <td>Fruits &amp; Vegetables</td>\n",
              "    </tr>\n",
              "    <tr>\n",
              "      <th>3</th>\n",
              "      <td>1187</td>\n",
              "      <td>12-12-2015</td>\n",
              "      <td>Fruits &amp; Vegetables</td>\n",
              "    </tr>\n",
              "    <tr>\n",
              "      <th>4</th>\n",
              "      <td>3037</td>\n",
              "      <td>01-02-2015</td>\n",
              "      <td>Milk Products</td>\n",
              "    </tr>\n",
              "    <tr>\n",
              "      <th>...</th>\n",
              "      <td>...</td>\n",
              "      <td>...</td>\n",
              "      <td>...</td>\n",
              "    </tr>\n",
              "    <tr>\n",
              "      <th>38760</th>\n",
              "      <td>4471</td>\n",
              "      <td>08-10-2014</td>\n",
              "      <td>Milk Products</td>\n",
              "    </tr>\n",
              "    <tr>\n",
              "      <th>38761</th>\n",
              "      <td>2022</td>\n",
              "      <td>23-02-2014</td>\n",
              "      <td>candy</td>\n",
              "    </tr>\n",
              "    <tr>\n",
              "      <th>38762</th>\n",
              "      <td>1097</td>\n",
              "      <td>16-04-2014</td>\n",
              "      <td>cake bar</td>\n",
              "    </tr>\n",
              "    <tr>\n",
              "      <th>38763</th>\n",
              "      <td>1510</td>\n",
              "      <td>03-12-2014</td>\n",
              "      <td>Fruits &amp; Vegetables</td>\n",
              "    </tr>\n",
              "    <tr>\n",
              "      <th>38764</th>\n",
              "      <td>1521</td>\n",
              "      <td>26-12-2014</td>\n",
              "      <td>Non-food products</td>\n",
              "    </tr>\n",
              "  </tbody>\n",
              "</table>\n",
              "<p>38765 rows × 3 columns</p>\n",
              "</div>"
            ],
            "text/plain": [
              "       Member_number        Date      itemDescription\n",
              "0               1808  21-07-2015  Fruits & Vegetables\n",
              "1               2552  05-01-2015        Milk Products\n",
              "2               2300  19-09-2015  Fruits & Vegetables\n",
              "3               1187  12-12-2015  Fruits & Vegetables\n",
              "4               3037  01-02-2015        Milk Products\n",
              "...              ...         ...                  ...\n",
              "38760           4471  08-10-2014        Milk Products\n",
              "38761           2022  23-02-2014                candy\n",
              "38762           1097  16-04-2014             cake bar\n",
              "38763           1510  03-12-2014  Fruits & Vegetables\n",
              "38764           1521  26-12-2014    Non-food products\n",
              "\n",
              "[38765 rows x 3 columns]"
            ]
          },
          "metadata": {
            "tags": []
          },
          "execution_count": 31
        }
      ]
    },
    {
      "cell_type": "code",
      "metadata": {
        "colab": {
          "base_uri": "https://localhost:8080/"
        },
        "id": "ycQCtR3HwqYM",
        "outputId": "99d4710e-b538-48d1-b46f-eaf7dce9019b"
      },
      "source": [
        "data5['itemDescription'].nunique()"
      ],
      "execution_count": 32,
      "outputs": [
        {
          "output_type": "execute_result",
          "data": {
            "text/plain": [
              "75"
            ]
          },
          "metadata": {
            "tags": []
          },
          "execution_count": 32
        }
      ]
    },
    {
      "cell_type": "code",
      "metadata": {
        "colab": {
          "base_uri": "https://localhost:8080/"
        },
        "id": "A3eDUfvSxg1R",
        "outputId": "ce26e7f2-f520-4347-d411-74c0ce683929"
      },
      "source": [
        "data5['itemDescription'].unique()"
      ],
      "execution_count": 33,
      "outputs": [
        {
          "output_type": "execute_result",
          "data": {
            "text/plain": [
              "array(['Fruits & Vegetables', 'Milk Products', 'Bakery Products',\n",
              "       'Non-food products', 'beef', 'chicken', 'chocolate',\n",
              "       'specialty bar', 'bottled water', 'hamburger meat', 'pork',\n",
              "       'canned beer', 'coffee', 'misc. beverages', 'turkey',\n",
              "       'red/blush wine', 'Frozen food Products', 'flour', 'sugar', 'soda',\n",
              "       'fish', 'sparkling wine', 'pasta', 'popcorn', 'beverages',\n",
              "       'bottled beer', 'white wine', 'meat', 'ice cream', 'liquor',\n",
              "       'liquor (appetizer)', 'candy', 'domestic eggs', 'margarine',\n",
              "       'salt', 'oil', 'baking powder', 'salty snack',\n",
              "       'Instant food products', 'vinegar', 'nuts/prunes',\n",
              "       'potato products', 'artif. sweetener', 'chewing gum',\n",
              "       'canned fish', 'brandy', 'spices', 'sauces', 'rum',\n",
              "       'chocolate marshmallow', 'sweet spreads', 'soups', 'mustard',\n",
              "       'specialty fat', 'instant coffee', 'snack products',\n",
              "       'organic sausage', 'mayonnaise', 'cereals', 'meat spreads',\n",
              "       'whisky', 'cooking chocolate', 'liqueur', 'syrup', 'ketchup',\n",
              "       'nut snack', 'cocoa drinks', 'cake bar', 'honey', 'jam', 'rice',\n",
              "       'tea', 'salad dressing', 'pudding powder', 'ready soups'],\n",
              "      dtype=object)"
            ]
          },
          "metadata": {
            "tags": []
          },
          "execution_count": 33
        }
      ]
    },
    {
      "cell_type": "code",
      "metadata": {
        "colab": {
          "base_uri": "https://localhost:8080/",
          "height": 408
        },
        "id": "ZX8mAhCpwvE2",
        "outputId": "93bab046-b6fe-4a30-ee05-257861c4dd25"
      },
      "source": [
        "data6=data5.replace(to_replace =['bottled water','canned beer', 'coffee', 'misc. beverages','red/blush wine','soda','sparkling wine','beverages',\n",
        "                                 'bottled beer', 'white wine','liquor',\n",
        "       'liquor (appetizer)','rum','instant coffee','whisky','liqueur', 'syrup',  'vinegar','cocoa drinks','tea',], \n",
        "                            value =\"Coffee, Tea & Beverages\")\n",
        "\n",
        "data6"
      ],
      "execution_count": 34,
      "outputs": [
        {
          "output_type": "execute_result",
          "data": {
            "text/html": [
              "<div>\n",
              "<style scoped>\n",
              "    .dataframe tbody tr th:only-of-type {\n",
              "        vertical-align: middle;\n",
              "    }\n",
              "\n",
              "    .dataframe tbody tr th {\n",
              "        vertical-align: top;\n",
              "    }\n",
              "\n",
              "    .dataframe thead th {\n",
              "        text-align: right;\n",
              "    }\n",
              "</style>\n",
              "<table border=\"1\" class=\"dataframe\">\n",
              "  <thead>\n",
              "    <tr style=\"text-align: right;\">\n",
              "      <th></th>\n",
              "      <th>Member_number</th>\n",
              "      <th>Date</th>\n",
              "      <th>itemDescription</th>\n",
              "    </tr>\n",
              "  </thead>\n",
              "  <tbody>\n",
              "    <tr>\n",
              "      <th>0</th>\n",
              "      <td>1808</td>\n",
              "      <td>21-07-2015</td>\n",
              "      <td>Fruits &amp; Vegetables</td>\n",
              "    </tr>\n",
              "    <tr>\n",
              "      <th>1</th>\n",
              "      <td>2552</td>\n",
              "      <td>05-01-2015</td>\n",
              "      <td>Milk Products</td>\n",
              "    </tr>\n",
              "    <tr>\n",
              "      <th>2</th>\n",
              "      <td>2300</td>\n",
              "      <td>19-09-2015</td>\n",
              "      <td>Fruits &amp; Vegetables</td>\n",
              "    </tr>\n",
              "    <tr>\n",
              "      <th>3</th>\n",
              "      <td>1187</td>\n",
              "      <td>12-12-2015</td>\n",
              "      <td>Fruits &amp; Vegetables</td>\n",
              "    </tr>\n",
              "    <tr>\n",
              "      <th>4</th>\n",
              "      <td>3037</td>\n",
              "      <td>01-02-2015</td>\n",
              "      <td>Milk Products</td>\n",
              "    </tr>\n",
              "    <tr>\n",
              "      <th>...</th>\n",
              "      <td>...</td>\n",
              "      <td>...</td>\n",
              "      <td>...</td>\n",
              "    </tr>\n",
              "    <tr>\n",
              "      <th>38760</th>\n",
              "      <td>4471</td>\n",
              "      <td>08-10-2014</td>\n",
              "      <td>Milk Products</td>\n",
              "    </tr>\n",
              "    <tr>\n",
              "      <th>38761</th>\n",
              "      <td>2022</td>\n",
              "      <td>23-02-2014</td>\n",
              "      <td>candy</td>\n",
              "    </tr>\n",
              "    <tr>\n",
              "      <th>38762</th>\n",
              "      <td>1097</td>\n",
              "      <td>16-04-2014</td>\n",
              "      <td>cake bar</td>\n",
              "    </tr>\n",
              "    <tr>\n",
              "      <th>38763</th>\n",
              "      <td>1510</td>\n",
              "      <td>03-12-2014</td>\n",
              "      <td>Fruits &amp; Vegetables</td>\n",
              "    </tr>\n",
              "    <tr>\n",
              "      <th>38764</th>\n",
              "      <td>1521</td>\n",
              "      <td>26-12-2014</td>\n",
              "      <td>Non-food products</td>\n",
              "    </tr>\n",
              "  </tbody>\n",
              "</table>\n",
              "<p>38765 rows × 3 columns</p>\n",
              "</div>"
            ],
            "text/plain": [
              "       Member_number        Date      itemDescription\n",
              "0               1808  21-07-2015  Fruits & Vegetables\n",
              "1               2552  05-01-2015        Milk Products\n",
              "2               2300  19-09-2015  Fruits & Vegetables\n",
              "3               1187  12-12-2015  Fruits & Vegetables\n",
              "4               3037  01-02-2015        Milk Products\n",
              "...              ...         ...                  ...\n",
              "38760           4471  08-10-2014        Milk Products\n",
              "38761           2022  23-02-2014                candy\n",
              "38762           1097  16-04-2014             cake bar\n",
              "38763           1510  03-12-2014  Fruits & Vegetables\n",
              "38764           1521  26-12-2014    Non-food products\n",
              "\n",
              "[38765 rows x 3 columns]"
            ]
          },
          "metadata": {
            "tags": []
          },
          "execution_count": 34
        }
      ]
    },
    {
      "cell_type": "code",
      "metadata": {
        "colab": {
          "base_uri": "https://localhost:8080/"
        },
        "id": "R06XZtcayj01",
        "outputId": "2191960e-6c80-48c0-a6f5-3dbace621691"
      },
      "source": [
        "data6['itemDescription'].nunique()"
      ],
      "execution_count": 35,
      "outputs": [
        {
          "output_type": "execute_result",
          "data": {
            "text/plain": [
              "56"
            ]
          },
          "metadata": {
            "tags": []
          },
          "execution_count": 35
        }
      ]
    },
    {
      "cell_type": "code",
      "metadata": {
        "colab": {
          "base_uri": "https://localhost:8080/"
        },
        "id": "nattrJjJyjX-",
        "outputId": "12b334d7-f67f-4db5-d6a9-0972e7025d5c"
      },
      "source": [
        "data6['itemDescription'].unique()"
      ],
      "execution_count": 36,
      "outputs": [
        {
          "output_type": "execute_result",
          "data": {
            "text/plain": [
              "array(['Fruits & Vegetables', 'Milk Products', 'Bakery Products',\n",
              "       'Non-food products', 'beef', 'chicken', 'chocolate',\n",
              "       'specialty bar', 'Coffee, Tea & Beverages', 'hamburger meat',\n",
              "       'pork', 'turkey', 'Frozen food Products', 'flour', 'sugar', 'fish',\n",
              "       'pasta', 'popcorn', 'meat', 'ice cream', 'candy', 'domestic eggs',\n",
              "       'margarine', 'salt', 'oil', 'baking powder', 'salty snack',\n",
              "       'Instant food products', 'nuts/prunes', 'potato products',\n",
              "       'artif. sweetener', 'chewing gum', 'canned fish', 'brandy',\n",
              "       'spices', 'sauces', 'chocolate marshmallow', 'sweet spreads',\n",
              "       'soups', 'mustard', 'specialty fat', 'snack products',\n",
              "       'organic sausage', 'mayonnaise', 'cereals', 'meat spreads',\n",
              "       'cooking chocolate', 'ketchup', 'nut snack', 'cake bar', 'honey',\n",
              "       'jam', 'rice', 'salad dressing', 'pudding powder', 'ready soups'],\n",
              "      dtype=object)"
            ]
          },
          "metadata": {
            "tags": []
          },
          "execution_count": 36
        }
      ]
    },
    {
      "cell_type": "code",
      "metadata": {
        "colab": {
          "base_uri": "https://localhost:8080/",
          "height": 408
        },
        "id": "-YCf-IUXxTOn",
        "outputId": "c80cf7e7-89e1-40b3-ebc2-ba3c1de6a0b3"
      },
      "source": [
        "data7=data6.replace(to_replace =['snack products', 'pasta', 'popcorn','margarine','salty snack',\n",
        "       'Instant food products','nuts/prunes', 'potato products','chocolate marshmallow', 'sweet spreads',\n",
        "       'soups','mayonnaise','ketchup', 'nut snack', 'cake bar', 'honey',\n",
        "       'jam', 'rice', 'salad dressing', 'pudding powder', 'ready soups' ], \n",
        "                            value =\"Snack food Products\")\n",
        "data7"
      ],
      "execution_count": 37,
      "outputs": [
        {
          "output_type": "execute_result",
          "data": {
            "text/html": [
              "<div>\n",
              "<style scoped>\n",
              "    .dataframe tbody tr th:only-of-type {\n",
              "        vertical-align: middle;\n",
              "    }\n",
              "\n",
              "    .dataframe tbody tr th {\n",
              "        vertical-align: top;\n",
              "    }\n",
              "\n",
              "    .dataframe thead th {\n",
              "        text-align: right;\n",
              "    }\n",
              "</style>\n",
              "<table border=\"1\" class=\"dataframe\">\n",
              "  <thead>\n",
              "    <tr style=\"text-align: right;\">\n",
              "      <th></th>\n",
              "      <th>Member_number</th>\n",
              "      <th>Date</th>\n",
              "      <th>itemDescription</th>\n",
              "    </tr>\n",
              "  </thead>\n",
              "  <tbody>\n",
              "    <tr>\n",
              "      <th>0</th>\n",
              "      <td>1808</td>\n",
              "      <td>21-07-2015</td>\n",
              "      <td>Fruits &amp; Vegetables</td>\n",
              "    </tr>\n",
              "    <tr>\n",
              "      <th>1</th>\n",
              "      <td>2552</td>\n",
              "      <td>05-01-2015</td>\n",
              "      <td>Milk Products</td>\n",
              "    </tr>\n",
              "    <tr>\n",
              "      <th>2</th>\n",
              "      <td>2300</td>\n",
              "      <td>19-09-2015</td>\n",
              "      <td>Fruits &amp; Vegetables</td>\n",
              "    </tr>\n",
              "    <tr>\n",
              "      <th>3</th>\n",
              "      <td>1187</td>\n",
              "      <td>12-12-2015</td>\n",
              "      <td>Fruits &amp; Vegetables</td>\n",
              "    </tr>\n",
              "    <tr>\n",
              "      <th>4</th>\n",
              "      <td>3037</td>\n",
              "      <td>01-02-2015</td>\n",
              "      <td>Milk Products</td>\n",
              "    </tr>\n",
              "    <tr>\n",
              "      <th>...</th>\n",
              "      <td>...</td>\n",
              "      <td>...</td>\n",
              "      <td>...</td>\n",
              "    </tr>\n",
              "    <tr>\n",
              "      <th>38760</th>\n",
              "      <td>4471</td>\n",
              "      <td>08-10-2014</td>\n",
              "      <td>Milk Products</td>\n",
              "    </tr>\n",
              "    <tr>\n",
              "      <th>38761</th>\n",
              "      <td>2022</td>\n",
              "      <td>23-02-2014</td>\n",
              "      <td>candy</td>\n",
              "    </tr>\n",
              "    <tr>\n",
              "      <th>38762</th>\n",
              "      <td>1097</td>\n",
              "      <td>16-04-2014</td>\n",
              "      <td>Snack food Products</td>\n",
              "    </tr>\n",
              "    <tr>\n",
              "      <th>38763</th>\n",
              "      <td>1510</td>\n",
              "      <td>03-12-2014</td>\n",
              "      <td>Fruits &amp; Vegetables</td>\n",
              "    </tr>\n",
              "    <tr>\n",
              "      <th>38764</th>\n",
              "      <td>1521</td>\n",
              "      <td>26-12-2014</td>\n",
              "      <td>Non-food products</td>\n",
              "    </tr>\n",
              "  </tbody>\n",
              "</table>\n",
              "<p>38765 rows × 3 columns</p>\n",
              "</div>"
            ],
            "text/plain": [
              "       Member_number        Date      itemDescription\n",
              "0               1808  21-07-2015  Fruits & Vegetables\n",
              "1               2552  05-01-2015        Milk Products\n",
              "2               2300  19-09-2015  Fruits & Vegetables\n",
              "3               1187  12-12-2015  Fruits & Vegetables\n",
              "4               3037  01-02-2015        Milk Products\n",
              "...              ...         ...                  ...\n",
              "38760           4471  08-10-2014        Milk Products\n",
              "38761           2022  23-02-2014                candy\n",
              "38762           1097  16-04-2014  Snack food Products\n",
              "38763           1510  03-12-2014  Fruits & Vegetables\n",
              "38764           1521  26-12-2014    Non-food products\n",
              "\n",
              "[38765 rows x 3 columns]"
            ]
          },
          "metadata": {
            "tags": []
          },
          "execution_count": 37
        }
      ]
    },
    {
      "cell_type": "code",
      "metadata": {
        "colab": {
          "base_uri": "https://localhost:8080/"
        },
        "id": "RlGuJRWTzpC_",
        "outputId": "577ca4ca-21d4-4881-d806-9ea6f8bf90e9"
      },
      "source": [
        "data7['itemDescription'].nunique()"
      ],
      "execution_count": 38,
      "outputs": [
        {
          "output_type": "execute_result",
          "data": {
            "text/plain": [
              "36"
            ]
          },
          "metadata": {
            "tags": []
          },
          "execution_count": 38
        }
      ]
    },
    {
      "cell_type": "code",
      "metadata": {
        "colab": {
          "base_uri": "https://localhost:8080/"
        },
        "id": "Pnhy7dLS0Cux",
        "outputId": "6ea0ebb1-2c3c-44c6-be97-1927f990bfe5"
      },
      "source": [
        "data7['itemDescription'].unique()"
      ],
      "execution_count": 39,
      "outputs": [
        {
          "output_type": "execute_result",
          "data": {
            "text/plain": [
              "array(['Fruits & Vegetables', 'Milk Products', 'Bakery Products',\n",
              "       'Non-food products', 'beef', 'chicken', 'chocolate',\n",
              "       'specialty bar', 'Coffee, Tea & Beverages', 'hamburger meat',\n",
              "       'pork', 'turkey', 'Frozen food Products', 'flour', 'sugar', 'fish',\n",
              "       'Snack food Products', 'meat', 'ice cream', 'candy',\n",
              "       'domestic eggs', 'salt', 'oil', 'baking powder',\n",
              "       'artif. sweetener', 'chewing gum', 'canned fish', 'brandy',\n",
              "       'spices', 'sauces', 'mustard', 'specialty fat', 'organic sausage',\n",
              "       'cereals', 'meat spreads', 'cooking chocolate'], dtype=object)"
            ]
          },
          "metadata": {
            "tags": []
          },
          "execution_count": 39
        }
      ]
    },
    {
      "cell_type": "code",
      "metadata": {
        "colab": {
          "base_uri": "https://localhost:8080/",
          "height": 408
        },
        "id": "P3K7u0FD0HYf",
        "outputId": "5e8bbfa0-d5a8-4611-eae2-02d33163f747"
      },
      "source": [
        "data8=data7.replace(to_replace =[  'beef', 'chicken','hamburger meat',\n",
        "       'pork', 'turkey', 'fish','meat','canned fish', 'mustard', 'organic sausage','meat spreads',], \n",
        "                            value =\"Non-vegetarian food products\")\n",
        "data8"
      ],
      "execution_count": 40,
      "outputs": [
        {
          "output_type": "execute_result",
          "data": {
            "text/html": [
              "<div>\n",
              "<style scoped>\n",
              "    .dataframe tbody tr th:only-of-type {\n",
              "        vertical-align: middle;\n",
              "    }\n",
              "\n",
              "    .dataframe tbody tr th {\n",
              "        vertical-align: top;\n",
              "    }\n",
              "\n",
              "    .dataframe thead th {\n",
              "        text-align: right;\n",
              "    }\n",
              "</style>\n",
              "<table border=\"1\" class=\"dataframe\">\n",
              "  <thead>\n",
              "    <tr style=\"text-align: right;\">\n",
              "      <th></th>\n",
              "      <th>Member_number</th>\n",
              "      <th>Date</th>\n",
              "      <th>itemDescription</th>\n",
              "    </tr>\n",
              "  </thead>\n",
              "  <tbody>\n",
              "    <tr>\n",
              "      <th>0</th>\n",
              "      <td>1808</td>\n",
              "      <td>21-07-2015</td>\n",
              "      <td>Fruits &amp; Vegetables</td>\n",
              "    </tr>\n",
              "    <tr>\n",
              "      <th>1</th>\n",
              "      <td>2552</td>\n",
              "      <td>05-01-2015</td>\n",
              "      <td>Milk Products</td>\n",
              "    </tr>\n",
              "    <tr>\n",
              "      <th>2</th>\n",
              "      <td>2300</td>\n",
              "      <td>19-09-2015</td>\n",
              "      <td>Fruits &amp; Vegetables</td>\n",
              "    </tr>\n",
              "    <tr>\n",
              "      <th>3</th>\n",
              "      <td>1187</td>\n",
              "      <td>12-12-2015</td>\n",
              "      <td>Fruits &amp; Vegetables</td>\n",
              "    </tr>\n",
              "    <tr>\n",
              "      <th>4</th>\n",
              "      <td>3037</td>\n",
              "      <td>01-02-2015</td>\n",
              "      <td>Milk Products</td>\n",
              "    </tr>\n",
              "    <tr>\n",
              "      <th>...</th>\n",
              "      <td>...</td>\n",
              "      <td>...</td>\n",
              "      <td>...</td>\n",
              "    </tr>\n",
              "    <tr>\n",
              "      <th>38760</th>\n",
              "      <td>4471</td>\n",
              "      <td>08-10-2014</td>\n",
              "      <td>Milk Products</td>\n",
              "    </tr>\n",
              "    <tr>\n",
              "      <th>38761</th>\n",
              "      <td>2022</td>\n",
              "      <td>23-02-2014</td>\n",
              "      <td>candy</td>\n",
              "    </tr>\n",
              "    <tr>\n",
              "      <th>38762</th>\n",
              "      <td>1097</td>\n",
              "      <td>16-04-2014</td>\n",
              "      <td>Snack food Products</td>\n",
              "    </tr>\n",
              "    <tr>\n",
              "      <th>38763</th>\n",
              "      <td>1510</td>\n",
              "      <td>03-12-2014</td>\n",
              "      <td>Fruits &amp; Vegetables</td>\n",
              "    </tr>\n",
              "    <tr>\n",
              "      <th>38764</th>\n",
              "      <td>1521</td>\n",
              "      <td>26-12-2014</td>\n",
              "      <td>Non-food products</td>\n",
              "    </tr>\n",
              "  </tbody>\n",
              "</table>\n",
              "<p>38765 rows × 3 columns</p>\n",
              "</div>"
            ],
            "text/plain": [
              "       Member_number        Date      itemDescription\n",
              "0               1808  21-07-2015  Fruits & Vegetables\n",
              "1               2552  05-01-2015        Milk Products\n",
              "2               2300  19-09-2015  Fruits & Vegetables\n",
              "3               1187  12-12-2015  Fruits & Vegetables\n",
              "4               3037  01-02-2015        Milk Products\n",
              "...              ...         ...                  ...\n",
              "38760           4471  08-10-2014        Milk Products\n",
              "38761           2022  23-02-2014                candy\n",
              "38762           1097  16-04-2014  Snack food Products\n",
              "38763           1510  03-12-2014  Fruits & Vegetables\n",
              "38764           1521  26-12-2014    Non-food products\n",
              "\n",
              "[38765 rows x 3 columns]"
            ]
          },
          "metadata": {
            "tags": []
          },
          "execution_count": 40
        }
      ]
    },
    {
      "cell_type": "code",
      "metadata": {
        "colab": {
          "base_uri": "https://localhost:8080/"
        },
        "id": "Y7nkRBsJ1r2W",
        "outputId": "3c912398-cda9-4f14-c9d1-3baac95356bb"
      },
      "source": [
        "data8['itemDescription'].nunique()"
      ],
      "execution_count": 41,
      "outputs": [
        {
          "output_type": "execute_result",
          "data": {
            "text/plain": [
              "26"
            ]
          },
          "metadata": {
            "tags": []
          },
          "execution_count": 41
        }
      ]
    },
    {
      "cell_type": "code",
      "metadata": {
        "colab": {
          "base_uri": "https://localhost:8080/"
        },
        "id": "DKdwP5NF1xCx",
        "outputId": "ff2bd8b1-27e2-41b4-9909-f642e42c4f86"
      },
      "source": [
        "data8['itemDescription'].unique()"
      ],
      "execution_count": 42,
      "outputs": [
        {
          "output_type": "execute_result",
          "data": {
            "text/plain": [
              "array(['Fruits & Vegetables', 'Milk Products', 'Bakery Products',\n",
              "       'Non-food products', 'Non-vegetarian food products', 'chocolate',\n",
              "       'specialty bar', 'Coffee, Tea & Beverages', 'Frozen food Products',\n",
              "       'flour', 'sugar', 'Snack food Products', 'ice cream', 'candy',\n",
              "       'domestic eggs', 'salt', 'oil', 'baking powder',\n",
              "       'artif. sweetener', 'chewing gum', 'brandy', 'spices', 'sauces',\n",
              "       'specialty fat', 'cereals', 'cooking chocolate'], dtype=object)"
            ]
          },
          "metadata": {
            "tags": []
          },
          "execution_count": 42
        }
      ]
    },
    {
      "cell_type": "code",
      "metadata": {
        "colab": {
          "base_uri": "https://localhost:8080/",
          "height": 408
        },
        "id": "qZcyqkAD1Fnk",
        "outputId": "79ae2581-6456-4a66-9554-cea81b727873"
      },
      "source": [
        "data9=data8.replace(to_replace =[ 'flour', 'sugar', 'domestic eggs', 'salt', 'oil', 'baking powder',\n",
        "       'artif. sweetener', 'chewing gum', 'brandy', 'spices', 'sauces','specialty fat', 'cereals',], \n",
        "                            value =\"Basic food products\")\n",
        "data9"
      ],
      "execution_count": 43,
      "outputs": [
        {
          "output_type": "execute_result",
          "data": {
            "text/html": [
              "<div>\n",
              "<style scoped>\n",
              "    .dataframe tbody tr th:only-of-type {\n",
              "        vertical-align: middle;\n",
              "    }\n",
              "\n",
              "    .dataframe tbody tr th {\n",
              "        vertical-align: top;\n",
              "    }\n",
              "\n",
              "    .dataframe thead th {\n",
              "        text-align: right;\n",
              "    }\n",
              "</style>\n",
              "<table border=\"1\" class=\"dataframe\">\n",
              "  <thead>\n",
              "    <tr style=\"text-align: right;\">\n",
              "      <th></th>\n",
              "      <th>Member_number</th>\n",
              "      <th>Date</th>\n",
              "      <th>itemDescription</th>\n",
              "    </tr>\n",
              "  </thead>\n",
              "  <tbody>\n",
              "    <tr>\n",
              "      <th>0</th>\n",
              "      <td>1808</td>\n",
              "      <td>21-07-2015</td>\n",
              "      <td>Fruits &amp; Vegetables</td>\n",
              "    </tr>\n",
              "    <tr>\n",
              "      <th>1</th>\n",
              "      <td>2552</td>\n",
              "      <td>05-01-2015</td>\n",
              "      <td>Milk Products</td>\n",
              "    </tr>\n",
              "    <tr>\n",
              "      <th>2</th>\n",
              "      <td>2300</td>\n",
              "      <td>19-09-2015</td>\n",
              "      <td>Fruits &amp; Vegetables</td>\n",
              "    </tr>\n",
              "    <tr>\n",
              "      <th>3</th>\n",
              "      <td>1187</td>\n",
              "      <td>12-12-2015</td>\n",
              "      <td>Fruits &amp; Vegetables</td>\n",
              "    </tr>\n",
              "    <tr>\n",
              "      <th>4</th>\n",
              "      <td>3037</td>\n",
              "      <td>01-02-2015</td>\n",
              "      <td>Milk Products</td>\n",
              "    </tr>\n",
              "    <tr>\n",
              "      <th>...</th>\n",
              "      <td>...</td>\n",
              "      <td>...</td>\n",
              "      <td>...</td>\n",
              "    </tr>\n",
              "    <tr>\n",
              "      <th>38760</th>\n",
              "      <td>4471</td>\n",
              "      <td>08-10-2014</td>\n",
              "      <td>Milk Products</td>\n",
              "    </tr>\n",
              "    <tr>\n",
              "      <th>38761</th>\n",
              "      <td>2022</td>\n",
              "      <td>23-02-2014</td>\n",
              "      <td>candy</td>\n",
              "    </tr>\n",
              "    <tr>\n",
              "      <th>38762</th>\n",
              "      <td>1097</td>\n",
              "      <td>16-04-2014</td>\n",
              "      <td>Snack food Products</td>\n",
              "    </tr>\n",
              "    <tr>\n",
              "      <th>38763</th>\n",
              "      <td>1510</td>\n",
              "      <td>03-12-2014</td>\n",
              "      <td>Fruits &amp; Vegetables</td>\n",
              "    </tr>\n",
              "    <tr>\n",
              "      <th>38764</th>\n",
              "      <td>1521</td>\n",
              "      <td>26-12-2014</td>\n",
              "      <td>Non-food products</td>\n",
              "    </tr>\n",
              "  </tbody>\n",
              "</table>\n",
              "<p>38765 rows × 3 columns</p>\n",
              "</div>"
            ],
            "text/plain": [
              "       Member_number        Date      itemDescription\n",
              "0               1808  21-07-2015  Fruits & Vegetables\n",
              "1               2552  05-01-2015        Milk Products\n",
              "2               2300  19-09-2015  Fruits & Vegetables\n",
              "3               1187  12-12-2015  Fruits & Vegetables\n",
              "4               3037  01-02-2015        Milk Products\n",
              "...              ...         ...                  ...\n",
              "38760           4471  08-10-2014        Milk Products\n",
              "38761           2022  23-02-2014                candy\n",
              "38762           1097  16-04-2014  Snack food Products\n",
              "38763           1510  03-12-2014  Fruits & Vegetables\n",
              "38764           1521  26-12-2014    Non-food products\n",
              "\n",
              "[38765 rows x 3 columns]"
            ]
          },
          "metadata": {
            "tags": []
          },
          "execution_count": 43
        }
      ]
    },
    {
      "cell_type": "code",
      "metadata": {
        "colab": {
          "base_uri": "https://localhost:8080/"
        },
        "id": "QJ5gVHu32ESC",
        "outputId": "21ede33c-7b25-4984-9c8e-075a6049bec5"
      },
      "source": [
        "data9['itemDescription'].nunique()"
      ],
      "execution_count": 44,
      "outputs": [
        {
          "output_type": "execute_result",
          "data": {
            "text/plain": [
              "14"
            ]
          },
          "metadata": {
            "tags": []
          },
          "execution_count": 44
        }
      ]
    },
    {
      "cell_type": "code",
      "metadata": {
        "colab": {
          "base_uri": "https://localhost:8080/"
        },
        "id": "xDu85Dtn2Jq5",
        "outputId": "9f681407-45d0-4e5d-c862-5e57e0f64acc"
      },
      "source": [
        "\n",
        "data9['itemDescription'].unique()"
      ],
      "execution_count": 45,
      "outputs": [
        {
          "output_type": "execute_result",
          "data": {
            "text/plain": [
              "array(['Fruits & Vegetables', 'Milk Products', 'Bakery Products',\n",
              "       'Non-food products', 'Non-vegetarian food products', 'chocolate',\n",
              "       'specialty bar', 'Coffee, Tea & Beverages', 'Frozen food Products',\n",
              "       'Basic food products', 'Snack food Products', 'ice cream', 'candy',\n",
              "       'cooking chocolate'], dtype=object)"
            ]
          },
          "metadata": {
            "tags": []
          },
          "execution_count": 45
        }
      ]
    },
    {
      "cell_type": "code",
      "metadata": {
        "colab": {
          "base_uri": "https://localhost:8080/",
          "height": 408
        },
        "id": "z_LI-Kx_2MTg",
        "outputId": "37a7f640-7e33-4f1e-fb1a-e5c089dc0558"
      },
      "source": [
        "data10=data9.replace(to_replace =[ 'chocolate',\n",
        "       'specialty bar','ice cream', 'candy',\n",
        "       'cooking chocolate'], \n",
        "                            value =\"Sweet food products\")\n",
        "data10"
      ],
      "execution_count": 46,
      "outputs": [
        {
          "output_type": "execute_result",
          "data": {
            "text/html": [
              "<div>\n",
              "<style scoped>\n",
              "    .dataframe tbody tr th:only-of-type {\n",
              "        vertical-align: middle;\n",
              "    }\n",
              "\n",
              "    .dataframe tbody tr th {\n",
              "        vertical-align: top;\n",
              "    }\n",
              "\n",
              "    .dataframe thead th {\n",
              "        text-align: right;\n",
              "    }\n",
              "</style>\n",
              "<table border=\"1\" class=\"dataframe\">\n",
              "  <thead>\n",
              "    <tr style=\"text-align: right;\">\n",
              "      <th></th>\n",
              "      <th>Member_number</th>\n",
              "      <th>Date</th>\n",
              "      <th>itemDescription</th>\n",
              "    </tr>\n",
              "  </thead>\n",
              "  <tbody>\n",
              "    <tr>\n",
              "      <th>0</th>\n",
              "      <td>1808</td>\n",
              "      <td>21-07-2015</td>\n",
              "      <td>Fruits &amp; Vegetables</td>\n",
              "    </tr>\n",
              "    <tr>\n",
              "      <th>1</th>\n",
              "      <td>2552</td>\n",
              "      <td>05-01-2015</td>\n",
              "      <td>Milk Products</td>\n",
              "    </tr>\n",
              "    <tr>\n",
              "      <th>2</th>\n",
              "      <td>2300</td>\n",
              "      <td>19-09-2015</td>\n",
              "      <td>Fruits &amp; Vegetables</td>\n",
              "    </tr>\n",
              "    <tr>\n",
              "      <th>3</th>\n",
              "      <td>1187</td>\n",
              "      <td>12-12-2015</td>\n",
              "      <td>Fruits &amp; Vegetables</td>\n",
              "    </tr>\n",
              "    <tr>\n",
              "      <th>4</th>\n",
              "      <td>3037</td>\n",
              "      <td>01-02-2015</td>\n",
              "      <td>Milk Products</td>\n",
              "    </tr>\n",
              "    <tr>\n",
              "      <th>...</th>\n",
              "      <td>...</td>\n",
              "      <td>...</td>\n",
              "      <td>...</td>\n",
              "    </tr>\n",
              "    <tr>\n",
              "      <th>38760</th>\n",
              "      <td>4471</td>\n",
              "      <td>08-10-2014</td>\n",
              "      <td>Milk Products</td>\n",
              "    </tr>\n",
              "    <tr>\n",
              "      <th>38761</th>\n",
              "      <td>2022</td>\n",
              "      <td>23-02-2014</td>\n",
              "      <td>Sweet food products</td>\n",
              "    </tr>\n",
              "    <tr>\n",
              "      <th>38762</th>\n",
              "      <td>1097</td>\n",
              "      <td>16-04-2014</td>\n",
              "      <td>Snack food Products</td>\n",
              "    </tr>\n",
              "    <tr>\n",
              "      <th>38763</th>\n",
              "      <td>1510</td>\n",
              "      <td>03-12-2014</td>\n",
              "      <td>Fruits &amp; Vegetables</td>\n",
              "    </tr>\n",
              "    <tr>\n",
              "      <th>38764</th>\n",
              "      <td>1521</td>\n",
              "      <td>26-12-2014</td>\n",
              "      <td>Non-food products</td>\n",
              "    </tr>\n",
              "  </tbody>\n",
              "</table>\n",
              "<p>38765 rows × 3 columns</p>\n",
              "</div>"
            ],
            "text/plain": [
              "       Member_number        Date      itemDescription\n",
              "0               1808  21-07-2015  Fruits & Vegetables\n",
              "1               2552  05-01-2015        Milk Products\n",
              "2               2300  19-09-2015  Fruits & Vegetables\n",
              "3               1187  12-12-2015  Fruits & Vegetables\n",
              "4               3037  01-02-2015        Milk Products\n",
              "...              ...         ...                  ...\n",
              "38760           4471  08-10-2014        Milk Products\n",
              "38761           2022  23-02-2014  Sweet food products\n",
              "38762           1097  16-04-2014  Snack food Products\n",
              "38763           1510  03-12-2014  Fruits & Vegetables\n",
              "38764           1521  26-12-2014    Non-food products\n",
              "\n",
              "[38765 rows x 3 columns]"
            ]
          },
          "metadata": {
            "tags": []
          },
          "execution_count": 46
        }
      ]
    },
    {
      "cell_type": "code",
      "metadata": {
        "colab": {
          "base_uri": "https://localhost:8080/"
        },
        "id": "a3G8RSU_2n4u",
        "outputId": "4db8d6ec-4fa9-4317-cf10-55ea45ff87ea"
      },
      "source": [
        "data10['itemDescription'].nunique()"
      ],
      "execution_count": 47,
      "outputs": [
        {
          "output_type": "execute_result",
          "data": {
            "text/plain": [
              "10"
            ]
          },
          "metadata": {
            "tags": []
          },
          "execution_count": 47
        }
      ]
    },
    {
      "cell_type": "code",
      "metadata": {
        "colab": {
          "base_uri": "https://localhost:8080/"
        },
        "id": "VSIVGcBT2ryy",
        "outputId": "b829fc81-b492-4285-b934-c24a9d613cd6"
      },
      "source": [
        "data10['itemDescription'].unique()"
      ],
      "execution_count": 48,
      "outputs": [
        {
          "output_type": "execute_result",
          "data": {
            "text/plain": [
              "array(['Fruits & Vegetables', 'Milk Products', 'Bakery Products',\n",
              "       'Non-food products', 'Non-vegetarian food products',\n",
              "       'Sweet food products', 'Coffee, Tea & Beverages',\n",
              "       'Frozen food Products', 'Basic food products',\n",
              "       'Snack food Products'], dtype=object)"
            ]
          },
          "metadata": {
            "tags": []
          },
          "execution_count": 48
        }
      ]
    },
    {
      "cell_type": "code",
      "metadata": {
        "colab": {
          "base_uri": "https://localhost:8080/",
          "height": 408
        },
        "id": "t8Jj6yU32wPZ",
        "outputId": "ae0b9ea4-8578-4ef0-981e-1fe18f78bd2b"
      },
      "source": [
        "data10"
      ],
      "execution_count": 49,
      "outputs": [
        {
          "output_type": "execute_result",
          "data": {
            "text/html": [
              "<div>\n",
              "<style scoped>\n",
              "    .dataframe tbody tr th:only-of-type {\n",
              "        vertical-align: middle;\n",
              "    }\n",
              "\n",
              "    .dataframe tbody tr th {\n",
              "        vertical-align: top;\n",
              "    }\n",
              "\n",
              "    .dataframe thead th {\n",
              "        text-align: right;\n",
              "    }\n",
              "</style>\n",
              "<table border=\"1\" class=\"dataframe\">\n",
              "  <thead>\n",
              "    <tr style=\"text-align: right;\">\n",
              "      <th></th>\n",
              "      <th>Member_number</th>\n",
              "      <th>Date</th>\n",
              "      <th>itemDescription</th>\n",
              "    </tr>\n",
              "  </thead>\n",
              "  <tbody>\n",
              "    <tr>\n",
              "      <th>0</th>\n",
              "      <td>1808</td>\n",
              "      <td>21-07-2015</td>\n",
              "      <td>Fruits &amp; Vegetables</td>\n",
              "    </tr>\n",
              "    <tr>\n",
              "      <th>1</th>\n",
              "      <td>2552</td>\n",
              "      <td>05-01-2015</td>\n",
              "      <td>Milk Products</td>\n",
              "    </tr>\n",
              "    <tr>\n",
              "      <th>2</th>\n",
              "      <td>2300</td>\n",
              "      <td>19-09-2015</td>\n",
              "      <td>Fruits &amp; Vegetables</td>\n",
              "    </tr>\n",
              "    <tr>\n",
              "      <th>3</th>\n",
              "      <td>1187</td>\n",
              "      <td>12-12-2015</td>\n",
              "      <td>Fruits &amp; Vegetables</td>\n",
              "    </tr>\n",
              "    <tr>\n",
              "      <th>4</th>\n",
              "      <td>3037</td>\n",
              "      <td>01-02-2015</td>\n",
              "      <td>Milk Products</td>\n",
              "    </tr>\n",
              "    <tr>\n",
              "      <th>...</th>\n",
              "      <td>...</td>\n",
              "      <td>...</td>\n",
              "      <td>...</td>\n",
              "    </tr>\n",
              "    <tr>\n",
              "      <th>38760</th>\n",
              "      <td>4471</td>\n",
              "      <td>08-10-2014</td>\n",
              "      <td>Milk Products</td>\n",
              "    </tr>\n",
              "    <tr>\n",
              "      <th>38761</th>\n",
              "      <td>2022</td>\n",
              "      <td>23-02-2014</td>\n",
              "      <td>Sweet food products</td>\n",
              "    </tr>\n",
              "    <tr>\n",
              "      <th>38762</th>\n",
              "      <td>1097</td>\n",
              "      <td>16-04-2014</td>\n",
              "      <td>Snack food Products</td>\n",
              "    </tr>\n",
              "    <tr>\n",
              "      <th>38763</th>\n",
              "      <td>1510</td>\n",
              "      <td>03-12-2014</td>\n",
              "      <td>Fruits &amp; Vegetables</td>\n",
              "    </tr>\n",
              "    <tr>\n",
              "      <th>38764</th>\n",
              "      <td>1521</td>\n",
              "      <td>26-12-2014</td>\n",
              "      <td>Non-food products</td>\n",
              "    </tr>\n",
              "  </tbody>\n",
              "</table>\n",
              "<p>38765 rows × 3 columns</p>\n",
              "</div>"
            ],
            "text/plain": [
              "       Member_number        Date      itemDescription\n",
              "0               1808  21-07-2015  Fruits & Vegetables\n",
              "1               2552  05-01-2015        Milk Products\n",
              "2               2300  19-09-2015  Fruits & Vegetables\n",
              "3               1187  12-12-2015  Fruits & Vegetables\n",
              "4               3037  01-02-2015        Milk Products\n",
              "...              ...         ...                  ...\n",
              "38760           4471  08-10-2014        Milk Products\n",
              "38761           2022  23-02-2014  Sweet food products\n",
              "38762           1097  16-04-2014  Snack food Products\n",
              "38763           1510  03-12-2014  Fruits & Vegetables\n",
              "38764           1521  26-12-2014    Non-food products\n",
              "\n",
              "[38765 rows x 3 columns]"
            ]
          },
          "metadata": {
            "tags": []
          },
          "execution_count": 49
        }
      ]
    },
    {
      "cell_type": "code",
      "metadata": {
        "colab": {
          "base_uri": "https://localhost:8080/"
        },
        "id": "7THjo67i6tJt",
        "outputId": "47682762-226d-4d39-bab7-4071c450a74e"
      },
      "source": [
        "data10['itemDescription'].value_counts()"
      ],
      "execution_count": 50,
      "outputs": [
        {
          "output_type": "execute_result",
          "data": {
            "text/plain": [
              "Milk Products                   7542\n",
              "Fruits & Vegetables             7473\n",
              "Bakery Products                 5632\n",
              "Coffee, Tea & Beverages         5590\n",
              "Non-food products               4658\n",
              "Non-vegetarian food products    2459\n",
              "Basic food products             1816\n",
              "Snack food Products             1619\n",
              "Sweet food products             1028\n",
              "Frozen food Products             948\n",
              "Name: itemDescription, dtype: int64"
            ]
          },
          "metadata": {
            "tags": []
          },
          "execution_count": 50
        }
      ]
    },
    {
      "cell_type": "markdown",
      "metadata": {
        "id": "ZNwx9CTn91Jk"
      },
      "source": [
        "## Preparing Date column"
      ]
    },
    {
      "cell_type": "code",
      "metadata": {
        "colab": {
          "base_uri": "https://localhost:8080/",
          "height": 408
        },
        "id": "fHoQiZXQ-zIG",
        "outputId": "bb2d422a-4c64-4b4b-c2e3-58f661647102"
      },
      "source": [
        "data11=data10.replace(to_replace =['01-01-2015','02-01-2015','03-01-2015','04-01-2015','05-01-2015',\n",
        "'06-01-2015','07-01-2015','08-01-2015','09-01-2015','10-01-2015',\n",
        "'11-01-2015','12-01-2015','13-01-2015','14-01-2015', '15-01-2015',\n",
        "'16-01-2015','17-01-2015','18-01-2015','19-01-2015','20-01-2015',\n",
        "'21-01-2015','22-01-2015','23-01-2015','24-01-2015','25-01-2015',\n",
        "'26-01-2015','27-01-2015','28-01-2015','29-01-2015','30-01-2015','31-01-2015' ], \n",
        "                            value =\"2015-01\")\n",
        "\n",
        "data11"
      ],
      "execution_count": 51,
      "outputs": [
        {
          "output_type": "execute_result",
          "data": {
            "text/html": [
              "<div>\n",
              "<style scoped>\n",
              "    .dataframe tbody tr th:only-of-type {\n",
              "        vertical-align: middle;\n",
              "    }\n",
              "\n",
              "    .dataframe tbody tr th {\n",
              "        vertical-align: top;\n",
              "    }\n",
              "\n",
              "    .dataframe thead th {\n",
              "        text-align: right;\n",
              "    }\n",
              "</style>\n",
              "<table border=\"1\" class=\"dataframe\">\n",
              "  <thead>\n",
              "    <tr style=\"text-align: right;\">\n",
              "      <th></th>\n",
              "      <th>Member_number</th>\n",
              "      <th>Date</th>\n",
              "      <th>itemDescription</th>\n",
              "    </tr>\n",
              "  </thead>\n",
              "  <tbody>\n",
              "    <tr>\n",
              "      <th>0</th>\n",
              "      <td>1808</td>\n",
              "      <td>21-07-2015</td>\n",
              "      <td>Fruits &amp; Vegetables</td>\n",
              "    </tr>\n",
              "    <tr>\n",
              "      <th>1</th>\n",
              "      <td>2552</td>\n",
              "      <td>2015-01</td>\n",
              "      <td>Milk Products</td>\n",
              "    </tr>\n",
              "    <tr>\n",
              "      <th>2</th>\n",
              "      <td>2300</td>\n",
              "      <td>19-09-2015</td>\n",
              "      <td>Fruits &amp; Vegetables</td>\n",
              "    </tr>\n",
              "    <tr>\n",
              "      <th>3</th>\n",
              "      <td>1187</td>\n",
              "      <td>12-12-2015</td>\n",
              "      <td>Fruits &amp; Vegetables</td>\n",
              "    </tr>\n",
              "    <tr>\n",
              "      <th>4</th>\n",
              "      <td>3037</td>\n",
              "      <td>01-02-2015</td>\n",
              "      <td>Milk Products</td>\n",
              "    </tr>\n",
              "    <tr>\n",
              "      <th>...</th>\n",
              "      <td>...</td>\n",
              "      <td>...</td>\n",
              "      <td>...</td>\n",
              "    </tr>\n",
              "    <tr>\n",
              "      <th>38760</th>\n",
              "      <td>4471</td>\n",
              "      <td>08-10-2014</td>\n",
              "      <td>Milk Products</td>\n",
              "    </tr>\n",
              "    <tr>\n",
              "      <th>38761</th>\n",
              "      <td>2022</td>\n",
              "      <td>23-02-2014</td>\n",
              "      <td>Sweet food products</td>\n",
              "    </tr>\n",
              "    <tr>\n",
              "      <th>38762</th>\n",
              "      <td>1097</td>\n",
              "      <td>16-04-2014</td>\n",
              "      <td>Snack food Products</td>\n",
              "    </tr>\n",
              "    <tr>\n",
              "      <th>38763</th>\n",
              "      <td>1510</td>\n",
              "      <td>03-12-2014</td>\n",
              "      <td>Fruits &amp; Vegetables</td>\n",
              "    </tr>\n",
              "    <tr>\n",
              "      <th>38764</th>\n",
              "      <td>1521</td>\n",
              "      <td>26-12-2014</td>\n",
              "      <td>Non-food products</td>\n",
              "    </tr>\n",
              "  </tbody>\n",
              "</table>\n",
              "<p>38765 rows × 3 columns</p>\n",
              "</div>"
            ],
            "text/plain": [
              "       Member_number        Date      itemDescription\n",
              "0               1808  21-07-2015  Fruits & Vegetables\n",
              "1               2552     2015-01        Milk Products\n",
              "2               2300  19-09-2015  Fruits & Vegetables\n",
              "3               1187  12-12-2015  Fruits & Vegetables\n",
              "4               3037  01-02-2015        Milk Products\n",
              "...              ...         ...                  ...\n",
              "38760           4471  08-10-2014        Milk Products\n",
              "38761           2022  23-02-2014  Sweet food products\n",
              "38762           1097  16-04-2014  Snack food Products\n",
              "38763           1510  03-12-2014  Fruits & Vegetables\n",
              "38764           1521  26-12-2014    Non-food products\n",
              "\n",
              "[38765 rows x 3 columns]"
            ]
          },
          "metadata": {
            "tags": []
          },
          "execution_count": 51
        }
      ]
    },
    {
      "cell_type": "code",
      "metadata": {
        "colab": {
          "base_uri": "https://localhost:8080/"
        },
        "id": "IaGYKb9__qQP",
        "outputId": "8835e55a-4165-4b4d-fb8e-fe3ef9c0c44f"
      },
      "source": [
        "data11['Date'].nunique()"
      ],
      "execution_count": 52,
      "outputs": [
        {
          "output_type": "execute_result",
          "data": {
            "text/plain": [
              "698"
            ]
          },
          "metadata": {
            "tags": []
          },
          "execution_count": 52
        }
      ]
    },
    {
      "cell_type": "code",
      "metadata": {
        "colab": {
          "base_uri": "https://localhost:8080/",
          "height": 408
        },
        "id": "7zvYHqcH_wTx",
        "outputId": "e47d6f31-b4e4-41b1-bb17-bee00f6e3678"
      },
      "source": [
        "data12=data11.replace(to_replace =['01-02-2015','02-02-2015','03-02-2015','04-02-2015','05-02-2015',\n",
        "'06-02-2015','07-02-2015','08-02-2015','09-02-2015','10-02-2015',\n",
        "'11-02-2015','12-02-2015','13-02-2015','14-02-2015', '15-02-2015',\n",
        "'16-02-2015','17-02-2015','18-02-2015','19-02-2015','20-02-2015',\n",
        "'21-02-2015','22-02-2015','23-02-2015','24-02-2015','25-02-2015',\n",
        "'26-02-2015','27-02-2015','28-02-2015','29-02-2015'], \n",
        "                            value =\"2015-02\")\n",
        "\n",
        "data12"
      ],
      "execution_count": 53,
      "outputs": [
        {
          "output_type": "execute_result",
          "data": {
            "text/html": [
              "<div>\n",
              "<style scoped>\n",
              "    .dataframe tbody tr th:only-of-type {\n",
              "        vertical-align: middle;\n",
              "    }\n",
              "\n",
              "    .dataframe tbody tr th {\n",
              "        vertical-align: top;\n",
              "    }\n",
              "\n",
              "    .dataframe thead th {\n",
              "        text-align: right;\n",
              "    }\n",
              "</style>\n",
              "<table border=\"1\" class=\"dataframe\">\n",
              "  <thead>\n",
              "    <tr style=\"text-align: right;\">\n",
              "      <th></th>\n",
              "      <th>Member_number</th>\n",
              "      <th>Date</th>\n",
              "      <th>itemDescription</th>\n",
              "    </tr>\n",
              "  </thead>\n",
              "  <tbody>\n",
              "    <tr>\n",
              "      <th>0</th>\n",
              "      <td>1808</td>\n",
              "      <td>21-07-2015</td>\n",
              "      <td>Fruits &amp; Vegetables</td>\n",
              "    </tr>\n",
              "    <tr>\n",
              "      <th>1</th>\n",
              "      <td>2552</td>\n",
              "      <td>2015-01</td>\n",
              "      <td>Milk Products</td>\n",
              "    </tr>\n",
              "    <tr>\n",
              "      <th>2</th>\n",
              "      <td>2300</td>\n",
              "      <td>19-09-2015</td>\n",
              "      <td>Fruits &amp; Vegetables</td>\n",
              "    </tr>\n",
              "    <tr>\n",
              "      <th>3</th>\n",
              "      <td>1187</td>\n",
              "      <td>12-12-2015</td>\n",
              "      <td>Fruits &amp; Vegetables</td>\n",
              "    </tr>\n",
              "    <tr>\n",
              "      <th>4</th>\n",
              "      <td>3037</td>\n",
              "      <td>2015-02</td>\n",
              "      <td>Milk Products</td>\n",
              "    </tr>\n",
              "    <tr>\n",
              "      <th>...</th>\n",
              "      <td>...</td>\n",
              "      <td>...</td>\n",
              "      <td>...</td>\n",
              "    </tr>\n",
              "    <tr>\n",
              "      <th>38760</th>\n",
              "      <td>4471</td>\n",
              "      <td>08-10-2014</td>\n",
              "      <td>Milk Products</td>\n",
              "    </tr>\n",
              "    <tr>\n",
              "      <th>38761</th>\n",
              "      <td>2022</td>\n",
              "      <td>23-02-2014</td>\n",
              "      <td>Sweet food products</td>\n",
              "    </tr>\n",
              "    <tr>\n",
              "      <th>38762</th>\n",
              "      <td>1097</td>\n",
              "      <td>16-04-2014</td>\n",
              "      <td>Snack food Products</td>\n",
              "    </tr>\n",
              "    <tr>\n",
              "      <th>38763</th>\n",
              "      <td>1510</td>\n",
              "      <td>03-12-2014</td>\n",
              "      <td>Fruits &amp; Vegetables</td>\n",
              "    </tr>\n",
              "    <tr>\n",
              "      <th>38764</th>\n",
              "      <td>1521</td>\n",
              "      <td>26-12-2014</td>\n",
              "      <td>Non-food products</td>\n",
              "    </tr>\n",
              "  </tbody>\n",
              "</table>\n",
              "<p>38765 rows × 3 columns</p>\n",
              "</div>"
            ],
            "text/plain": [
              "       Member_number        Date      itemDescription\n",
              "0               1808  21-07-2015  Fruits & Vegetables\n",
              "1               2552     2015-01        Milk Products\n",
              "2               2300  19-09-2015  Fruits & Vegetables\n",
              "3               1187  12-12-2015  Fruits & Vegetables\n",
              "4               3037     2015-02        Milk Products\n",
              "...              ...         ...                  ...\n",
              "38760           4471  08-10-2014        Milk Products\n",
              "38761           2022  23-02-2014  Sweet food products\n",
              "38762           1097  16-04-2014  Snack food Products\n",
              "38763           1510  03-12-2014  Fruits & Vegetables\n",
              "38764           1521  26-12-2014    Non-food products\n",
              "\n",
              "[38765 rows x 3 columns]"
            ]
          },
          "metadata": {
            "tags": []
          },
          "execution_count": 53
        }
      ]
    },
    {
      "cell_type": "code",
      "metadata": {
        "colab": {
          "base_uri": "https://localhost:8080/"
        },
        "id": "IT9CPF8kAUTC",
        "outputId": "5b3875e7-29fe-41ef-f578-69214f1716e6"
      },
      "source": [
        "data12['Date'].nunique()"
      ],
      "execution_count": 54,
      "outputs": [
        {
          "output_type": "execute_result",
          "data": {
            "text/plain": [
              "671"
            ]
          },
          "metadata": {
            "tags": []
          },
          "execution_count": 54
        }
      ]
    },
    {
      "cell_type": "code",
      "metadata": {
        "colab": {
          "base_uri": "https://localhost:8080/",
          "height": 408
        },
        "id": "vGIfo7U4Aaw_",
        "outputId": "8d3da0d3-4668-4fb4-fada-f5d24225df32"
      },
      "source": [
        "data13=data12.replace(to_replace =['01-03-2015','02-03-2015','03-03-2015','04-03-2015','05-03-2015',\n",
        "'06-03-2015','07-03-2015','08-03-2015','09-03-2015','10-03-2015',\n",
        "'11-03-2015','12-03-2015','13-03-2015','14-03-2015', '15-03-2015',\n",
        "'16-03-2015','17-03-2015','18-03-2015','19-03-2015','20-03-2015',\n",
        "'21-03-2015','22-03-2015','23-03-2015','24-03-2015','25-03-2015',\n",
        "'26-03-2015','27-03-2015','28-03-2015','29-03-2015','30-03-2015','31-03-2015' ], \n",
        "                            value =\"2015-03\")\n",
        "\n",
        "data13"
      ],
      "execution_count": 55,
      "outputs": [
        {
          "output_type": "execute_result",
          "data": {
            "text/html": [
              "<div>\n",
              "<style scoped>\n",
              "    .dataframe tbody tr th:only-of-type {\n",
              "        vertical-align: middle;\n",
              "    }\n",
              "\n",
              "    .dataframe tbody tr th {\n",
              "        vertical-align: top;\n",
              "    }\n",
              "\n",
              "    .dataframe thead th {\n",
              "        text-align: right;\n",
              "    }\n",
              "</style>\n",
              "<table border=\"1\" class=\"dataframe\">\n",
              "  <thead>\n",
              "    <tr style=\"text-align: right;\">\n",
              "      <th></th>\n",
              "      <th>Member_number</th>\n",
              "      <th>Date</th>\n",
              "      <th>itemDescription</th>\n",
              "    </tr>\n",
              "  </thead>\n",
              "  <tbody>\n",
              "    <tr>\n",
              "      <th>0</th>\n",
              "      <td>1808</td>\n",
              "      <td>21-07-2015</td>\n",
              "      <td>Fruits &amp; Vegetables</td>\n",
              "    </tr>\n",
              "    <tr>\n",
              "      <th>1</th>\n",
              "      <td>2552</td>\n",
              "      <td>2015-01</td>\n",
              "      <td>Milk Products</td>\n",
              "    </tr>\n",
              "    <tr>\n",
              "      <th>2</th>\n",
              "      <td>2300</td>\n",
              "      <td>19-09-2015</td>\n",
              "      <td>Fruits &amp; Vegetables</td>\n",
              "    </tr>\n",
              "    <tr>\n",
              "      <th>3</th>\n",
              "      <td>1187</td>\n",
              "      <td>12-12-2015</td>\n",
              "      <td>Fruits &amp; Vegetables</td>\n",
              "    </tr>\n",
              "    <tr>\n",
              "      <th>4</th>\n",
              "      <td>3037</td>\n",
              "      <td>2015-02</td>\n",
              "      <td>Milk Products</td>\n",
              "    </tr>\n",
              "    <tr>\n",
              "      <th>...</th>\n",
              "      <td>...</td>\n",
              "      <td>...</td>\n",
              "      <td>...</td>\n",
              "    </tr>\n",
              "    <tr>\n",
              "      <th>38760</th>\n",
              "      <td>4471</td>\n",
              "      <td>08-10-2014</td>\n",
              "      <td>Milk Products</td>\n",
              "    </tr>\n",
              "    <tr>\n",
              "      <th>38761</th>\n",
              "      <td>2022</td>\n",
              "      <td>23-02-2014</td>\n",
              "      <td>Sweet food products</td>\n",
              "    </tr>\n",
              "    <tr>\n",
              "      <th>38762</th>\n",
              "      <td>1097</td>\n",
              "      <td>16-04-2014</td>\n",
              "      <td>Snack food Products</td>\n",
              "    </tr>\n",
              "    <tr>\n",
              "      <th>38763</th>\n",
              "      <td>1510</td>\n",
              "      <td>03-12-2014</td>\n",
              "      <td>Fruits &amp; Vegetables</td>\n",
              "    </tr>\n",
              "    <tr>\n",
              "      <th>38764</th>\n",
              "      <td>1521</td>\n",
              "      <td>26-12-2014</td>\n",
              "      <td>Non-food products</td>\n",
              "    </tr>\n",
              "  </tbody>\n",
              "</table>\n",
              "<p>38765 rows × 3 columns</p>\n",
              "</div>"
            ],
            "text/plain": [
              "       Member_number        Date      itemDescription\n",
              "0               1808  21-07-2015  Fruits & Vegetables\n",
              "1               2552     2015-01        Milk Products\n",
              "2               2300  19-09-2015  Fruits & Vegetables\n",
              "3               1187  12-12-2015  Fruits & Vegetables\n",
              "4               3037     2015-02        Milk Products\n",
              "...              ...         ...                  ...\n",
              "38760           4471  08-10-2014        Milk Products\n",
              "38761           2022  23-02-2014  Sweet food products\n",
              "38762           1097  16-04-2014  Snack food Products\n",
              "38763           1510  03-12-2014  Fruits & Vegetables\n",
              "38764           1521  26-12-2014    Non-food products\n",
              "\n",
              "[38765 rows x 3 columns]"
            ]
          },
          "metadata": {
            "tags": []
          },
          "execution_count": 55
        }
      ]
    },
    {
      "cell_type": "code",
      "metadata": {
        "colab": {
          "base_uri": "https://localhost:8080/"
        },
        "id": "jmC2j3K2A4mY",
        "outputId": "1982aeee-2dee-45ff-aa20-9cdecf3b1caf"
      },
      "source": [
        "data13['Date'].nunique()"
      ],
      "execution_count": 56,
      "outputs": [
        {
          "output_type": "execute_result",
          "data": {
            "text/plain": [
              "641"
            ]
          },
          "metadata": {
            "tags": []
          },
          "execution_count": 56
        }
      ]
    },
    {
      "cell_type": "code",
      "metadata": {
        "colab": {
          "base_uri": "https://localhost:8080/",
          "height": 408
        },
        "id": "wdDXMUDgA9qp",
        "outputId": "266d7511-1ee7-4201-ccb1-956b1119655a"
      },
      "source": [
        "data14=data13.replace(to_replace =['01-04-2015','02-04-2015','03-04-2015','04-04-2015','05-04-2015',\n",
        "'06-04-2015','07-04-2015','08-04-2015','09-04-2015','10-04-2015',\n",
        "'11-04-2015','12-04-2015','13-04-2015','14-04-2015', '15-04-2015',\n",
        "'16-04-2015','17-04-2015','18-04-2015','19-04-2015','20-04-2015',\n",
        "'21-04-2015','22-04-2015','23-04-2015','24-04-2015','25-04-2015',\n",
        "'26-04-2015','27-04-2015','28-04-2015','29-04-2015','30-04-2015' ], \n",
        "                            value =\"2015-04\")\n",
        "\n",
        "data14"
      ],
      "execution_count": 57,
      "outputs": [
        {
          "output_type": "execute_result",
          "data": {
            "text/html": [
              "<div>\n",
              "<style scoped>\n",
              "    .dataframe tbody tr th:only-of-type {\n",
              "        vertical-align: middle;\n",
              "    }\n",
              "\n",
              "    .dataframe tbody tr th {\n",
              "        vertical-align: top;\n",
              "    }\n",
              "\n",
              "    .dataframe thead th {\n",
              "        text-align: right;\n",
              "    }\n",
              "</style>\n",
              "<table border=\"1\" class=\"dataframe\">\n",
              "  <thead>\n",
              "    <tr style=\"text-align: right;\">\n",
              "      <th></th>\n",
              "      <th>Member_number</th>\n",
              "      <th>Date</th>\n",
              "      <th>itemDescription</th>\n",
              "    </tr>\n",
              "  </thead>\n",
              "  <tbody>\n",
              "    <tr>\n",
              "      <th>0</th>\n",
              "      <td>1808</td>\n",
              "      <td>21-07-2015</td>\n",
              "      <td>Fruits &amp; Vegetables</td>\n",
              "    </tr>\n",
              "    <tr>\n",
              "      <th>1</th>\n",
              "      <td>2552</td>\n",
              "      <td>2015-01</td>\n",
              "      <td>Milk Products</td>\n",
              "    </tr>\n",
              "    <tr>\n",
              "      <th>2</th>\n",
              "      <td>2300</td>\n",
              "      <td>19-09-2015</td>\n",
              "      <td>Fruits &amp; Vegetables</td>\n",
              "    </tr>\n",
              "    <tr>\n",
              "      <th>3</th>\n",
              "      <td>1187</td>\n",
              "      <td>12-12-2015</td>\n",
              "      <td>Fruits &amp; Vegetables</td>\n",
              "    </tr>\n",
              "    <tr>\n",
              "      <th>4</th>\n",
              "      <td>3037</td>\n",
              "      <td>2015-02</td>\n",
              "      <td>Milk Products</td>\n",
              "    </tr>\n",
              "    <tr>\n",
              "      <th>...</th>\n",
              "      <td>...</td>\n",
              "      <td>...</td>\n",
              "      <td>...</td>\n",
              "    </tr>\n",
              "    <tr>\n",
              "      <th>38760</th>\n",
              "      <td>4471</td>\n",
              "      <td>08-10-2014</td>\n",
              "      <td>Milk Products</td>\n",
              "    </tr>\n",
              "    <tr>\n",
              "      <th>38761</th>\n",
              "      <td>2022</td>\n",
              "      <td>23-02-2014</td>\n",
              "      <td>Sweet food products</td>\n",
              "    </tr>\n",
              "    <tr>\n",
              "      <th>38762</th>\n",
              "      <td>1097</td>\n",
              "      <td>16-04-2014</td>\n",
              "      <td>Snack food Products</td>\n",
              "    </tr>\n",
              "    <tr>\n",
              "      <th>38763</th>\n",
              "      <td>1510</td>\n",
              "      <td>03-12-2014</td>\n",
              "      <td>Fruits &amp; Vegetables</td>\n",
              "    </tr>\n",
              "    <tr>\n",
              "      <th>38764</th>\n",
              "      <td>1521</td>\n",
              "      <td>26-12-2014</td>\n",
              "      <td>Non-food products</td>\n",
              "    </tr>\n",
              "  </tbody>\n",
              "</table>\n",
              "<p>38765 rows × 3 columns</p>\n",
              "</div>"
            ],
            "text/plain": [
              "       Member_number        Date      itemDescription\n",
              "0               1808  21-07-2015  Fruits & Vegetables\n",
              "1               2552     2015-01        Milk Products\n",
              "2               2300  19-09-2015  Fruits & Vegetables\n",
              "3               1187  12-12-2015  Fruits & Vegetables\n",
              "4               3037     2015-02        Milk Products\n",
              "...              ...         ...                  ...\n",
              "38760           4471  08-10-2014        Milk Products\n",
              "38761           2022  23-02-2014  Sweet food products\n",
              "38762           1097  16-04-2014  Snack food Products\n",
              "38763           1510  03-12-2014  Fruits & Vegetables\n",
              "38764           1521  26-12-2014    Non-food products\n",
              "\n",
              "[38765 rows x 3 columns]"
            ]
          },
          "metadata": {
            "tags": []
          },
          "execution_count": 57
        }
      ]
    },
    {
      "cell_type": "code",
      "metadata": {
        "colab": {
          "base_uri": "https://localhost:8080/"
        },
        "id": "4u8t_VfZBfj7",
        "outputId": "5610e524-896f-44b3-9d87-9f1cbeba1055"
      },
      "source": [
        "data14['Date'].nunique()"
      ],
      "execution_count": 58,
      "outputs": [
        {
          "output_type": "execute_result",
          "data": {
            "text/plain": [
              "612"
            ]
          },
          "metadata": {
            "tags": []
          },
          "execution_count": 58
        }
      ]
    },
    {
      "cell_type": "code",
      "metadata": {
        "colab": {
          "base_uri": "https://localhost:8080/",
          "height": 408
        },
        "id": "vY0ipkTJBnm8",
        "outputId": "20e10748-2246-4a59-df78-ff8e7462c76d"
      },
      "source": [
        "data15=data14.replace(to_replace =['01-05-2015','02-05-2015','03-05-2015','04-05-2015','05-05-2015',\n",
        "'06-05-2015','07-05-2015','08-05-2015','09-05-2015','10-05-2015',\n",
        "'11-05-2015','12-05-2015','13-05-2015','14-05-2015', '15-05-2015',\n",
        "'16-05-2015','17-05-2015','18-05-2015','19-05-2015','20-05-2015',\n",
        "'21-05-2015','22-05-2015','23-05-2015','24-05-2015','25-05-2015',\n",
        "'26-05-2015','27-05-2015','28-05-2015','29-05-2015','30-05-2015','31-05-2015' ], \n",
        "                            value =\"2015-05\")\n",
        "\n",
        "data15"
      ],
      "execution_count": 59,
      "outputs": [
        {
          "output_type": "execute_result",
          "data": {
            "text/html": [
              "<div>\n",
              "<style scoped>\n",
              "    .dataframe tbody tr th:only-of-type {\n",
              "        vertical-align: middle;\n",
              "    }\n",
              "\n",
              "    .dataframe tbody tr th {\n",
              "        vertical-align: top;\n",
              "    }\n",
              "\n",
              "    .dataframe thead th {\n",
              "        text-align: right;\n",
              "    }\n",
              "</style>\n",
              "<table border=\"1\" class=\"dataframe\">\n",
              "  <thead>\n",
              "    <tr style=\"text-align: right;\">\n",
              "      <th></th>\n",
              "      <th>Member_number</th>\n",
              "      <th>Date</th>\n",
              "      <th>itemDescription</th>\n",
              "    </tr>\n",
              "  </thead>\n",
              "  <tbody>\n",
              "    <tr>\n",
              "      <th>0</th>\n",
              "      <td>1808</td>\n",
              "      <td>21-07-2015</td>\n",
              "      <td>Fruits &amp; Vegetables</td>\n",
              "    </tr>\n",
              "    <tr>\n",
              "      <th>1</th>\n",
              "      <td>2552</td>\n",
              "      <td>2015-01</td>\n",
              "      <td>Milk Products</td>\n",
              "    </tr>\n",
              "    <tr>\n",
              "      <th>2</th>\n",
              "      <td>2300</td>\n",
              "      <td>19-09-2015</td>\n",
              "      <td>Fruits &amp; Vegetables</td>\n",
              "    </tr>\n",
              "    <tr>\n",
              "      <th>3</th>\n",
              "      <td>1187</td>\n",
              "      <td>12-12-2015</td>\n",
              "      <td>Fruits &amp; Vegetables</td>\n",
              "    </tr>\n",
              "    <tr>\n",
              "      <th>4</th>\n",
              "      <td>3037</td>\n",
              "      <td>2015-02</td>\n",
              "      <td>Milk Products</td>\n",
              "    </tr>\n",
              "    <tr>\n",
              "      <th>...</th>\n",
              "      <td>...</td>\n",
              "      <td>...</td>\n",
              "      <td>...</td>\n",
              "    </tr>\n",
              "    <tr>\n",
              "      <th>38760</th>\n",
              "      <td>4471</td>\n",
              "      <td>08-10-2014</td>\n",
              "      <td>Milk Products</td>\n",
              "    </tr>\n",
              "    <tr>\n",
              "      <th>38761</th>\n",
              "      <td>2022</td>\n",
              "      <td>23-02-2014</td>\n",
              "      <td>Sweet food products</td>\n",
              "    </tr>\n",
              "    <tr>\n",
              "      <th>38762</th>\n",
              "      <td>1097</td>\n",
              "      <td>16-04-2014</td>\n",
              "      <td>Snack food Products</td>\n",
              "    </tr>\n",
              "    <tr>\n",
              "      <th>38763</th>\n",
              "      <td>1510</td>\n",
              "      <td>03-12-2014</td>\n",
              "      <td>Fruits &amp; Vegetables</td>\n",
              "    </tr>\n",
              "    <tr>\n",
              "      <th>38764</th>\n",
              "      <td>1521</td>\n",
              "      <td>26-12-2014</td>\n",
              "      <td>Non-food products</td>\n",
              "    </tr>\n",
              "  </tbody>\n",
              "</table>\n",
              "<p>38765 rows × 3 columns</p>\n",
              "</div>"
            ],
            "text/plain": [
              "       Member_number        Date      itemDescription\n",
              "0               1808  21-07-2015  Fruits & Vegetables\n",
              "1               2552     2015-01        Milk Products\n",
              "2               2300  19-09-2015  Fruits & Vegetables\n",
              "3               1187  12-12-2015  Fruits & Vegetables\n",
              "4               3037     2015-02        Milk Products\n",
              "...              ...         ...                  ...\n",
              "38760           4471  08-10-2014        Milk Products\n",
              "38761           2022  23-02-2014  Sweet food products\n",
              "38762           1097  16-04-2014  Snack food Products\n",
              "38763           1510  03-12-2014  Fruits & Vegetables\n",
              "38764           1521  26-12-2014    Non-food products\n",
              "\n",
              "[38765 rows x 3 columns]"
            ]
          },
          "metadata": {
            "tags": []
          },
          "execution_count": 59
        }
      ]
    },
    {
      "cell_type": "code",
      "metadata": {
        "colab": {
          "base_uri": "https://localhost:8080/"
        },
        "id": "_LgJKgsNCDIy",
        "outputId": "b290b3d2-2cb0-4a56-aae8-eb97b93ef704"
      },
      "source": [
        "data15['Date'].nunique()"
      ],
      "execution_count": 60,
      "outputs": [
        {
          "output_type": "execute_result",
          "data": {
            "text/plain": [
              "582"
            ]
          },
          "metadata": {
            "tags": []
          },
          "execution_count": 60
        }
      ]
    },
    {
      "cell_type": "code",
      "metadata": {
        "colab": {
          "base_uri": "https://localhost:8080/",
          "height": 408
        },
        "id": "B3pZtmznCIuC",
        "outputId": "4a1ca0c4-86fa-4cd1-c995-b2bbaf566da6"
      },
      "source": [
        "data16=data15.replace(to_replace =['01-06-2015','02-06-2015','03-06-2015','04-06-2015','05-06-2015',\n",
        "'06-06-2015','07-06-2015','08-06-2015','09-06-2015','10-06-2015',\n",
        "'11-06-2015','12-06-2015','13-06-2015','14-06-2015', '15-06-2015',\n",
        "'16-06-2015','17-06-2015','18-06-2015','19-06-2015','20-06-2015',\n",
        "'21-06-2015','22-06-2015','23-06-2015','24-06-2015','25-06-2015',\n",
        "'26-06-2015','27-06-2015','28-06-2015','29-06-2015','30-06-2015','31-06-2015' ], \n",
        "                            value =\"2015-06\")\n",
        "\n",
        "data16"
      ],
      "execution_count": 61,
      "outputs": [
        {
          "output_type": "execute_result",
          "data": {
            "text/html": [
              "<div>\n",
              "<style scoped>\n",
              "    .dataframe tbody tr th:only-of-type {\n",
              "        vertical-align: middle;\n",
              "    }\n",
              "\n",
              "    .dataframe tbody tr th {\n",
              "        vertical-align: top;\n",
              "    }\n",
              "\n",
              "    .dataframe thead th {\n",
              "        text-align: right;\n",
              "    }\n",
              "</style>\n",
              "<table border=\"1\" class=\"dataframe\">\n",
              "  <thead>\n",
              "    <tr style=\"text-align: right;\">\n",
              "      <th></th>\n",
              "      <th>Member_number</th>\n",
              "      <th>Date</th>\n",
              "      <th>itemDescription</th>\n",
              "    </tr>\n",
              "  </thead>\n",
              "  <tbody>\n",
              "    <tr>\n",
              "      <th>0</th>\n",
              "      <td>1808</td>\n",
              "      <td>21-07-2015</td>\n",
              "      <td>Fruits &amp; Vegetables</td>\n",
              "    </tr>\n",
              "    <tr>\n",
              "      <th>1</th>\n",
              "      <td>2552</td>\n",
              "      <td>2015-01</td>\n",
              "      <td>Milk Products</td>\n",
              "    </tr>\n",
              "    <tr>\n",
              "      <th>2</th>\n",
              "      <td>2300</td>\n",
              "      <td>19-09-2015</td>\n",
              "      <td>Fruits &amp; Vegetables</td>\n",
              "    </tr>\n",
              "    <tr>\n",
              "      <th>3</th>\n",
              "      <td>1187</td>\n",
              "      <td>12-12-2015</td>\n",
              "      <td>Fruits &amp; Vegetables</td>\n",
              "    </tr>\n",
              "    <tr>\n",
              "      <th>4</th>\n",
              "      <td>3037</td>\n",
              "      <td>2015-02</td>\n",
              "      <td>Milk Products</td>\n",
              "    </tr>\n",
              "    <tr>\n",
              "      <th>...</th>\n",
              "      <td>...</td>\n",
              "      <td>...</td>\n",
              "      <td>...</td>\n",
              "    </tr>\n",
              "    <tr>\n",
              "      <th>38760</th>\n",
              "      <td>4471</td>\n",
              "      <td>08-10-2014</td>\n",
              "      <td>Milk Products</td>\n",
              "    </tr>\n",
              "    <tr>\n",
              "      <th>38761</th>\n",
              "      <td>2022</td>\n",
              "      <td>23-02-2014</td>\n",
              "      <td>Sweet food products</td>\n",
              "    </tr>\n",
              "    <tr>\n",
              "      <th>38762</th>\n",
              "      <td>1097</td>\n",
              "      <td>16-04-2014</td>\n",
              "      <td>Snack food Products</td>\n",
              "    </tr>\n",
              "    <tr>\n",
              "      <th>38763</th>\n",
              "      <td>1510</td>\n",
              "      <td>03-12-2014</td>\n",
              "      <td>Fruits &amp; Vegetables</td>\n",
              "    </tr>\n",
              "    <tr>\n",
              "      <th>38764</th>\n",
              "      <td>1521</td>\n",
              "      <td>26-12-2014</td>\n",
              "      <td>Non-food products</td>\n",
              "    </tr>\n",
              "  </tbody>\n",
              "</table>\n",
              "<p>38765 rows × 3 columns</p>\n",
              "</div>"
            ],
            "text/plain": [
              "       Member_number        Date      itemDescription\n",
              "0               1808  21-07-2015  Fruits & Vegetables\n",
              "1               2552     2015-01        Milk Products\n",
              "2               2300  19-09-2015  Fruits & Vegetables\n",
              "3               1187  12-12-2015  Fruits & Vegetables\n",
              "4               3037     2015-02        Milk Products\n",
              "...              ...         ...                  ...\n",
              "38760           4471  08-10-2014        Milk Products\n",
              "38761           2022  23-02-2014  Sweet food products\n",
              "38762           1097  16-04-2014  Snack food Products\n",
              "38763           1510  03-12-2014  Fruits & Vegetables\n",
              "38764           1521  26-12-2014    Non-food products\n",
              "\n",
              "[38765 rows x 3 columns]"
            ]
          },
          "metadata": {
            "tags": []
          },
          "execution_count": 61
        }
      ]
    },
    {
      "cell_type": "code",
      "metadata": {
        "colab": {
          "base_uri": "https://localhost:8080/"
        },
        "id": "UEWoIPUlCtBu",
        "outputId": "06dc2875-b3c6-4a17-c758-3c788f511a45"
      },
      "source": [
        "data16['Date'].nunique()"
      ],
      "execution_count": 62,
      "outputs": [
        {
          "output_type": "execute_result",
          "data": {
            "text/plain": [
              "553"
            ]
          },
          "metadata": {
            "tags": []
          },
          "execution_count": 62
        }
      ]
    },
    {
      "cell_type": "code",
      "metadata": {
        "colab": {
          "base_uri": "https://localhost:8080/",
          "height": 408
        },
        "id": "DENEKjlMCyL5",
        "outputId": "dba5b85d-ab30-41db-fba7-edea40ef8d9c"
      },
      "source": [
        "data17=data16.replace(to_replace =['01-07-2015','02-07-2015','03-07-2015','04-07-2015','05-07-2015',\n",
        "'06-07-2015','07-07-2015','08-07-2015','09-07-2015','10-07-2015',\n",
        "'11-07-2015','12-07-2015','13-07-2015','14-07-2015', '15-07-2015',\n",
        "'16-07-2015','17-07-2015','18-07-2015','19-07-2015','20-07-2015',\n",
        "'21-07-2015','22-07-2015','23-07-2015','24-07-2015','25-07-2015',\n",
        "'26-07-2015','27-07-2015','28-07-2015','29-07-2015','30-07-2015','31-07-2015' ], \n",
        "                            value =\"2015-07\")\n",
        "\n",
        "data17"
      ],
      "execution_count": 63,
      "outputs": [
        {
          "output_type": "execute_result",
          "data": {
            "text/html": [
              "<div>\n",
              "<style scoped>\n",
              "    .dataframe tbody tr th:only-of-type {\n",
              "        vertical-align: middle;\n",
              "    }\n",
              "\n",
              "    .dataframe tbody tr th {\n",
              "        vertical-align: top;\n",
              "    }\n",
              "\n",
              "    .dataframe thead th {\n",
              "        text-align: right;\n",
              "    }\n",
              "</style>\n",
              "<table border=\"1\" class=\"dataframe\">\n",
              "  <thead>\n",
              "    <tr style=\"text-align: right;\">\n",
              "      <th></th>\n",
              "      <th>Member_number</th>\n",
              "      <th>Date</th>\n",
              "      <th>itemDescription</th>\n",
              "    </tr>\n",
              "  </thead>\n",
              "  <tbody>\n",
              "    <tr>\n",
              "      <th>0</th>\n",
              "      <td>1808</td>\n",
              "      <td>2015-07</td>\n",
              "      <td>Fruits &amp; Vegetables</td>\n",
              "    </tr>\n",
              "    <tr>\n",
              "      <th>1</th>\n",
              "      <td>2552</td>\n",
              "      <td>2015-01</td>\n",
              "      <td>Milk Products</td>\n",
              "    </tr>\n",
              "    <tr>\n",
              "      <th>2</th>\n",
              "      <td>2300</td>\n",
              "      <td>19-09-2015</td>\n",
              "      <td>Fruits &amp; Vegetables</td>\n",
              "    </tr>\n",
              "    <tr>\n",
              "      <th>3</th>\n",
              "      <td>1187</td>\n",
              "      <td>12-12-2015</td>\n",
              "      <td>Fruits &amp; Vegetables</td>\n",
              "    </tr>\n",
              "    <tr>\n",
              "      <th>4</th>\n",
              "      <td>3037</td>\n",
              "      <td>2015-02</td>\n",
              "      <td>Milk Products</td>\n",
              "    </tr>\n",
              "    <tr>\n",
              "      <th>...</th>\n",
              "      <td>...</td>\n",
              "      <td>...</td>\n",
              "      <td>...</td>\n",
              "    </tr>\n",
              "    <tr>\n",
              "      <th>38760</th>\n",
              "      <td>4471</td>\n",
              "      <td>08-10-2014</td>\n",
              "      <td>Milk Products</td>\n",
              "    </tr>\n",
              "    <tr>\n",
              "      <th>38761</th>\n",
              "      <td>2022</td>\n",
              "      <td>23-02-2014</td>\n",
              "      <td>Sweet food products</td>\n",
              "    </tr>\n",
              "    <tr>\n",
              "      <th>38762</th>\n",
              "      <td>1097</td>\n",
              "      <td>16-04-2014</td>\n",
              "      <td>Snack food Products</td>\n",
              "    </tr>\n",
              "    <tr>\n",
              "      <th>38763</th>\n",
              "      <td>1510</td>\n",
              "      <td>03-12-2014</td>\n",
              "      <td>Fruits &amp; Vegetables</td>\n",
              "    </tr>\n",
              "    <tr>\n",
              "      <th>38764</th>\n",
              "      <td>1521</td>\n",
              "      <td>26-12-2014</td>\n",
              "      <td>Non-food products</td>\n",
              "    </tr>\n",
              "  </tbody>\n",
              "</table>\n",
              "<p>38765 rows × 3 columns</p>\n",
              "</div>"
            ],
            "text/plain": [
              "       Member_number        Date      itemDescription\n",
              "0               1808     2015-07  Fruits & Vegetables\n",
              "1               2552     2015-01        Milk Products\n",
              "2               2300  19-09-2015  Fruits & Vegetables\n",
              "3               1187  12-12-2015  Fruits & Vegetables\n",
              "4               3037     2015-02        Milk Products\n",
              "...              ...         ...                  ...\n",
              "38760           4471  08-10-2014        Milk Products\n",
              "38761           2022  23-02-2014  Sweet food products\n",
              "38762           1097  16-04-2014  Snack food Products\n",
              "38763           1510  03-12-2014  Fruits & Vegetables\n",
              "38764           1521  26-12-2014    Non-food products\n",
              "\n",
              "[38765 rows x 3 columns]"
            ]
          },
          "metadata": {
            "tags": []
          },
          "execution_count": 63
        }
      ]
    },
    {
      "cell_type": "code",
      "metadata": {
        "colab": {
          "base_uri": "https://localhost:8080/"
        },
        "id": "tDQ_RiuMDMdv",
        "outputId": "bb3d573b-bb82-415a-f245-88103dea4cb0"
      },
      "source": [
        "data17['Date'].nunique()"
      ],
      "execution_count": 64,
      "outputs": [
        {
          "output_type": "execute_result",
          "data": {
            "text/plain": [
              "523"
            ]
          },
          "metadata": {
            "tags": []
          },
          "execution_count": 64
        }
      ]
    },
    {
      "cell_type": "code",
      "metadata": {
        "colab": {
          "base_uri": "https://localhost:8080/",
          "height": 408
        },
        "id": "LJhazRC0DMOj",
        "outputId": "4d780c82-f204-4d42-89a7-3aa2431f3419"
      },
      "source": [
        "data18=data17.replace(to_replace =['01-08-2015','02-08-2015','03-08-2015','04-08-2015','05-08-2015',\n",
        "'06-08-2015','07-08-2015','08-08-2015','09-08-2015','10-08-2015',\n",
        "'11-08-2015','12-08-2015','13-08-2015','14-08-2015', '15-08-2015',\n",
        "'16-08-2015','17-08-2015','18-08-2015','19-08-2015','20-08-2015',\n",
        "'21-08-2015','22-08-2015','23-08-2015','24-08-2015','25-08-2015',\n",
        "'26-08-2015','27-08-2015','28-08-2015','29-08-2015','30-08-2015','31-08-2015' ], \n",
        "                            value =\"2015-08\")\n",
        "\n",
        "data18"
      ],
      "execution_count": 65,
      "outputs": [
        {
          "output_type": "execute_result",
          "data": {
            "text/html": [
              "<div>\n",
              "<style scoped>\n",
              "    .dataframe tbody tr th:only-of-type {\n",
              "        vertical-align: middle;\n",
              "    }\n",
              "\n",
              "    .dataframe tbody tr th {\n",
              "        vertical-align: top;\n",
              "    }\n",
              "\n",
              "    .dataframe thead th {\n",
              "        text-align: right;\n",
              "    }\n",
              "</style>\n",
              "<table border=\"1\" class=\"dataframe\">\n",
              "  <thead>\n",
              "    <tr style=\"text-align: right;\">\n",
              "      <th></th>\n",
              "      <th>Member_number</th>\n",
              "      <th>Date</th>\n",
              "      <th>itemDescription</th>\n",
              "    </tr>\n",
              "  </thead>\n",
              "  <tbody>\n",
              "    <tr>\n",
              "      <th>0</th>\n",
              "      <td>1808</td>\n",
              "      <td>2015-07</td>\n",
              "      <td>Fruits &amp; Vegetables</td>\n",
              "    </tr>\n",
              "    <tr>\n",
              "      <th>1</th>\n",
              "      <td>2552</td>\n",
              "      <td>2015-01</td>\n",
              "      <td>Milk Products</td>\n",
              "    </tr>\n",
              "    <tr>\n",
              "      <th>2</th>\n",
              "      <td>2300</td>\n",
              "      <td>19-09-2015</td>\n",
              "      <td>Fruits &amp; Vegetables</td>\n",
              "    </tr>\n",
              "    <tr>\n",
              "      <th>3</th>\n",
              "      <td>1187</td>\n",
              "      <td>12-12-2015</td>\n",
              "      <td>Fruits &amp; Vegetables</td>\n",
              "    </tr>\n",
              "    <tr>\n",
              "      <th>4</th>\n",
              "      <td>3037</td>\n",
              "      <td>2015-02</td>\n",
              "      <td>Milk Products</td>\n",
              "    </tr>\n",
              "    <tr>\n",
              "      <th>...</th>\n",
              "      <td>...</td>\n",
              "      <td>...</td>\n",
              "      <td>...</td>\n",
              "    </tr>\n",
              "    <tr>\n",
              "      <th>38760</th>\n",
              "      <td>4471</td>\n",
              "      <td>08-10-2014</td>\n",
              "      <td>Milk Products</td>\n",
              "    </tr>\n",
              "    <tr>\n",
              "      <th>38761</th>\n",
              "      <td>2022</td>\n",
              "      <td>23-02-2014</td>\n",
              "      <td>Sweet food products</td>\n",
              "    </tr>\n",
              "    <tr>\n",
              "      <th>38762</th>\n",
              "      <td>1097</td>\n",
              "      <td>16-04-2014</td>\n",
              "      <td>Snack food Products</td>\n",
              "    </tr>\n",
              "    <tr>\n",
              "      <th>38763</th>\n",
              "      <td>1510</td>\n",
              "      <td>03-12-2014</td>\n",
              "      <td>Fruits &amp; Vegetables</td>\n",
              "    </tr>\n",
              "    <tr>\n",
              "      <th>38764</th>\n",
              "      <td>1521</td>\n",
              "      <td>26-12-2014</td>\n",
              "      <td>Non-food products</td>\n",
              "    </tr>\n",
              "  </tbody>\n",
              "</table>\n",
              "<p>38765 rows × 3 columns</p>\n",
              "</div>"
            ],
            "text/plain": [
              "       Member_number        Date      itemDescription\n",
              "0               1808     2015-07  Fruits & Vegetables\n",
              "1               2552     2015-01        Milk Products\n",
              "2               2300  19-09-2015  Fruits & Vegetables\n",
              "3               1187  12-12-2015  Fruits & Vegetables\n",
              "4               3037     2015-02        Milk Products\n",
              "...              ...         ...                  ...\n",
              "38760           4471  08-10-2014        Milk Products\n",
              "38761           2022  23-02-2014  Sweet food products\n",
              "38762           1097  16-04-2014  Snack food Products\n",
              "38763           1510  03-12-2014  Fruits & Vegetables\n",
              "38764           1521  26-12-2014    Non-food products\n",
              "\n",
              "[38765 rows x 3 columns]"
            ]
          },
          "metadata": {
            "tags": []
          },
          "execution_count": 65
        }
      ]
    },
    {
      "cell_type": "code",
      "metadata": {
        "colab": {
          "base_uri": "https://localhost:8080/"
        },
        "id": "E9D3nHu9DqZz",
        "outputId": "b833024a-6428-48f5-f7ef-fc95ad19f922"
      },
      "source": [
        "data18['Date'].nunique()"
      ],
      "execution_count": 66,
      "outputs": [
        {
          "output_type": "execute_result",
          "data": {
            "text/plain": [
              "493"
            ]
          },
          "metadata": {
            "tags": []
          },
          "execution_count": 66
        }
      ]
    },
    {
      "cell_type": "code",
      "metadata": {
        "colab": {
          "base_uri": "https://localhost:8080/",
          "height": 408
        },
        "id": "Pbpn9iMsDt8H",
        "outputId": "904e0331-cbf3-4f97-a36c-682797ce2735"
      },
      "source": [
        "data19=data18.replace(to_replace =['01-09-2015','02-09-2015','03-09-2015','04-09-2015','05-09-2015',\n",
        "'06-09-2015','07-09-2015','08-09-2015','09-09-2015','10-09-2015',\n",
        "'11-09-2015','12-09-2015','13-09-2015','14-09-2015', '15-09-2015',\n",
        "'16-09-2015','17-09-2015','18-09-2015','19-09-2015','20-09-2015',\n",
        "'21-09-2015','22-09-2015','23-09-2015','24-09-2015','25-09-2015',\n",
        "'26-09-2015','27-09-2015','28-09-2015','29-09-2015','30-09-2015','31-09-2015' ], \n",
        "                            value =\"2015-09\")\n",
        "\n",
        "data19"
      ],
      "execution_count": 67,
      "outputs": [
        {
          "output_type": "execute_result",
          "data": {
            "text/html": [
              "<div>\n",
              "<style scoped>\n",
              "    .dataframe tbody tr th:only-of-type {\n",
              "        vertical-align: middle;\n",
              "    }\n",
              "\n",
              "    .dataframe tbody tr th {\n",
              "        vertical-align: top;\n",
              "    }\n",
              "\n",
              "    .dataframe thead th {\n",
              "        text-align: right;\n",
              "    }\n",
              "</style>\n",
              "<table border=\"1\" class=\"dataframe\">\n",
              "  <thead>\n",
              "    <tr style=\"text-align: right;\">\n",
              "      <th></th>\n",
              "      <th>Member_number</th>\n",
              "      <th>Date</th>\n",
              "      <th>itemDescription</th>\n",
              "    </tr>\n",
              "  </thead>\n",
              "  <tbody>\n",
              "    <tr>\n",
              "      <th>0</th>\n",
              "      <td>1808</td>\n",
              "      <td>2015-07</td>\n",
              "      <td>Fruits &amp; Vegetables</td>\n",
              "    </tr>\n",
              "    <tr>\n",
              "      <th>1</th>\n",
              "      <td>2552</td>\n",
              "      <td>2015-01</td>\n",
              "      <td>Milk Products</td>\n",
              "    </tr>\n",
              "    <tr>\n",
              "      <th>2</th>\n",
              "      <td>2300</td>\n",
              "      <td>2015-09</td>\n",
              "      <td>Fruits &amp; Vegetables</td>\n",
              "    </tr>\n",
              "    <tr>\n",
              "      <th>3</th>\n",
              "      <td>1187</td>\n",
              "      <td>12-12-2015</td>\n",
              "      <td>Fruits &amp; Vegetables</td>\n",
              "    </tr>\n",
              "    <tr>\n",
              "      <th>4</th>\n",
              "      <td>3037</td>\n",
              "      <td>2015-02</td>\n",
              "      <td>Milk Products</td>\n",
              "    </tr>\n",
              "    <tr>\n",
              "      <th>...</th>\n",
              "      <td>...</td>\n",
              "      <td>...</td>\n",
              "      <td>...</td>\n",
              "    </tr>\n",
              "    <tr>\n",
              "      <th>38760</th>\n",
              "      <td>4471</td>\n",
              "      <td>08-10-2014</td>\n",
              "      <td>Milk Products</td>\n",
              "    </tr>\n",
              "    <tr>\n",
              "      <th>38761</th>\n",
              "      <td>2022</td>\n",
              "      <td>23-02-2014</td>\n",
              "      <td>Sweet food products</td>\n",
              "    </tr>\n",
              "    <tr>\n",
              "      <th>38762</th>\n",
              "      <td>1097</td>\n",
              "      <td>16-04-2014</td>\n",
              "      <td>Snack food Products</td>\n",
              "    </tr>\n",
              "    <tr>\n",
              "      <th>38763</th>\n",
              "      <td>1510</td>\n",
              "      <td>03-12-2014</td>\n",
              "      <td>Fruits &amp; Vegetables</td>\n",
              "    </tr>\n",
              "    <tr>\n",
              "      <th>38764</th>\n",
              "      <td>1521</td>\n",
              "      <td>26-12-2014</td>\n",
              "      <td>Non-food products</td>\n",
              "    </tr>\n",
              "  </tbody>\n",
              "</table>\n",
              "<p>38765 rows × 3 columns</p>\n",
              "</div>"
            ],
            "text/plain": [
              "       Member_number        Date      itemDescription\n",
              "0               1808     2015-07  Fruits & Vegetables\n",
              "1               2552     2015-01        Milk Products\n",
              "2               2300     2015-09  Fruits & Vegetables\n",
              "3               1187  12-12-2015  Fruits & Vegetables\n",
              "4               3037     2015-02        Milk Products\n",
              "...              ...         ...                  ...\n",
              "38760           4471  08-10-2014        Milk Products\n",
              "38761           2022  23-02-2014  Sweet food products\n",
              "38762           1097  16-04-2014  Snack food Products\n",
              "38763           1510  03-12-2014  Fruits & Vegetables\n",
              "38764           1521  26-12-2014    Non-food products\n",
              "\n",
              "[38765 rows x 3 columns]"
            ]
          },
          "metadata": {
            "tags": []
          },
          "execution_count": 67
        }
      ]
    },
    {
      "cell_type": "code",
      "metadata": {
        "colab": {
          "base_uri": "https://localhost:8080/"
        },
        "id": "kQQ5AUgCEGPD",
        "outputId": "0a37c74d-4400-451f-e115-42b6499f9c26"
      },
      "source": [
        "data19['Date'].nunique()"
      ],
      "execution_count": 68,
      "outputs": [
        {
          "output_type": "execute_result",
          "data": {
            "text/plain": [
              "464"
            ]
          },
          "metadata": {
            "tags": []
          },
          "execution_count": 68
        }
      ]
    },
    {
      "cell_type": "code",
      "metadata": {
        "colab": {
          "base_uri": "https://localhost:8080/",
          "height": 408
        },
        "id": "DUSRug8tEP_6",
        "outputId": "a857eb1d-18fc-4d69-f650-0f021eaeb81b"
      },
      "source": [
        "data20=data19.replace(to_replace =['01-10-2015','02-10-2015','03-10-2015','04-10-2015','05-10-2015',\n",
        "'06-10-2015','07-10-2015','08-10-2015','09-10-2015','10-10-2015',\n",
        "'11-10-2015','12-10-2015','13-10-2015','14-10-2015', '15-10-2015',\n",
        "'16-10-2015','17-10-2015','18-10-2015','19-10-2015','20-10-2015',\n",
        "'21-10-2015','22-10-2015','23-10-2015','24-10-2015','25-10-2015',\n",
        "'26-10-2015','27-10-2015','28-10-2015','29-10-2015','30-10-2015','31-10-2015' ], \n",
        "                            value =\"2015-10\")\n",
        "\n",
        "data20"
      ],
      "execution_count": 69,
      "outputs": [
        {
          "output_type": "execute_result",
          "data": {
            "text/html": [
              "<div>\n",
              "<style scoped>\n",
              "    .dataframe tbody tr th:only-of-type {\n",
              "        vertical-align: middle;\n",
              "    }\n",
              "\n",
              "    .dataframe tbody tr th {\n",
              "        vertical-align: top;\n",
              "    }\n",
              "\n",
              "    .dataframe thead th {\n",
              "        text-align: right;\n",
              "    }\n",
              "</style>\n",
              "<table border=\"1\" class=\"dataframe\">\n",
              "  <thead>\n",
              "    <tr style=\"text-align: right;\">\n",
              "      <th></th>\n",
              "      <th>Member_number</th>\n",
              "      <th>Date</th>\n",
              "      <th>itemDescription</th>\n",
              "    </tr>\n",
              "  </thead>\n",
              "  <tbody>\n",
              "    <tr>\n",
              "      <th>0</th>\n",
              "      <td>1808</td>\n",
              "      <td>2015-07</td>\n",
              "      <td>Fruits &amp; Vegetables</td>\n",
              "    </tr>\n",
              "    <tr>\n",
              "      <th>1</th>\n",
              "      <td>2552</td>\n",
              "      <td>2015-01</td>\n",
              "      <td>Milk Products</td>\n",
              "    </tr>\n",
              "    <tr>\n",
              "      <th>2</th>\n",
              "      <td>2300</td>\n",
              "      <td>2015-09</td>\n",
              "      <td>Fruits &amp; Vegetables</td>\n",
              "    </tr>\n",
              "    <tr>\n",
              "      <th>3</th>\n",
              "      <td>1187</td>\n",
              "      <td>12-12-2015</td>\n",
              "      <td>Fruits &amp; Vegetables</td>\n",
              "    </tr>\n",
              "    <tr>\n",
              "      <th>4</th>\n",
              "      <td>3037</td>\n",
              "      <td>2015-02</td>\n",
              "      <td>Milk Products</td>\n",
              "    </tr>\n",
              "    <tr>\n",
              "      <th>...</th>\n",
              "      <td>...</td>\n",
              "      <td>...</td>\n",
              "      <td>...</td>\n",
              "    </tr>\n",
              "    <tr>\n",
              "      <th>38760</th>\n",
              "      <td>4471</td>\n",
              "      <td>08-10-2014</td>\n",
              "      <td>Milk Products</td>\n",
              "    </tr>\n",
              "    <tr>\n",
              "      <th>38761</th>\n",
              "      <td>2022</td>\n",
              "      <td>23-02-2014</td>\n",
              "      <td>Sweet food products</td>\n",
              "    </tr>\n",
              "    <tr>\n",
              "      <th>38762</th>\n",
              "      <td>1097</td>\n",
              "      <td>16-04-2014</td>\n",
              "      <td>Snack food Products</td>\n",
              "    </tr>\n",
              "    <tr>\n",
              "      <th>38763</th>\n",
              "      <td>1510</td>\n",
              "      <td>03-12-2014</td>\n",
              "      <td>Fruits &amp; Vegetables</td>\n",
              "    </tr>\n",
              "    <tr>\n",
              "      <th>38764</th>\n",
              "      <td>1521</td>\n",
              "      <td>26-12-2014</td>\n",
              "      <td>Non-food products</td>\n",
              "    </tr>\n",
              "  </tbody>\n",
              "</table>\n",
              "<p>38765 rows × 3 columns</p>\n",
              "</div>"
            ],
            "text/plain": [
              "       Member_number        Date      itemDescription\n",
              "0               1808     2015-07  Fruits & Vegetables\n",
              "1               2552     2015-01        Milk Products\n",
              "2               2300     2015-09  Fruits & Vegetables\n",
              "3               1187  12-12-2015  Fruits & Vegetables\n",
              "4               3037     2015-02        Milk Products\n",
              "...              ...         ...                  ...\n",
              "38760           4471  08-10-2014        Milk Products\n",
              "38761           2022  23-02-2014  Sweet food products\n",
              "38762           1097  16-04-2014  Snack food Products\n",
              "38763           1510  03-12-2014  Fruits & Vegetables\n",
              "38764           1521  26-12-2014    Non-food products\n",
              "\n",
              "[38765 rows x 3 columns]"
            ]
          },
          "metadata": {
            "tags": []
          },
          "execution_count": 69
        }
      ]
    },
    {
      "cell_type": "code",
      "metadata": {
        "colab": {
          "base_uri": "https://localhost:8080/"
        },
        "id": "jxCdvwGTE8nD",
        "outputId": "a0930622-9818-4faf-a36f-80f4884df356"
      },
      "source": [
        "data20['Date'].nunique()"
      ],
      "execution_count": 70,
      "outputs": [
        {
          "output_type": "execute_result",
          "data": {
            "text/plain": [
              "434"
            ]
          },
          "metadata": {
            "tags": []
          },
          "execution_count": 70
        }
      ]
    },
    {
      "cell_type": "code",
      "metadata": {
        "colab": {
          "base_uri": "https://localhost:8080/",
          "height": 408
        },
        "id": "8TsTg9KPFFvd",
        "outputId": "f4921a4f-c448-4615-df16-2408d68fa51c"
      },
      "source": [
        "\n",
        "data21=data20.replace(to_replace =['01-11-2015','02-11-2015','03-11-2015','04-11-2015','05-11-2015',\n",
        "'06-11-2015','07-11-2015','08-11-2015','09-11-2015','10-11-2015',\n",
        "'11-11-2015','12-11-2015','13-11-2015','14-11-2015', '15-11-2015',\n",
        "'16-11-2015','17-11-2015','18-11-2015','19-11-2015','20-11-2015',\n",
        "'21-11-2015','22-11-2015','23-11-2015','24-11-2015','25-11-2015',\n",
        "'26-11-2015','27-11-2015','28-11-2015','29-11-2015','30-11-2015','31-11-2015' ], \n",
        "                            value =\"2015-11\")\n",
        "\n",
        "data21"
      ],
      "execution_count": 71,
      "outputs": [
        {
          "output_type": "execute_result",
          "data": {
            "text/html": [
              "<div>\n",
              "<style scoped>\n",
              "    .dataframe tbody tr th:only-of-type {\n",
              "        vertical-align: middle;\n",
              "    }\n",
              "\n",
              "    .dataframe tbody tr th {\n",
              "        vertical-align: top;\n",
              "    }\n",
              "\n",
              "    .dataframe thead th {\n",
              "        text-align: right;\n",
              "    }\n",
              "</style>\n",
              "<table border=\"1\" class=\"dataframe\">\n",
              "  <thead>\n",
              "    <tr style=\"text-align: right;\">\n",
              "      <th></th>\n",
              "      <th>Member_number</th>\n",
              "      <th>Date</th>\n",
              "      <th>itemDescription</th>\n",
              "    </tr>\n",
              "  </thead>\n",
              "  <tbody>\n",
              "    <tr>\n",
              "      <th>0</th>\n",
              "      <td>1808</td>\n",
              "      <td>2015-07</td>\n",
              "      <td>Fruits &amp; Vegetables</td>\n",
              "    </tr>\n",
              "    <tr>\n",
              "      <th>1</th>\n",
              "      <td>2552</td>\n",
              "      <td>2015-01</td>\n",
              "      <td>Milk Products</td>\n",
              "    </tr>\n",
              "    <tr>\n",
              "      <th>2</th>\n",
              "      <td>2300</td>\n",
              "      <td>2015-09</td>\n",
              "      <td>Fruits &amp; Vegetables</td>\n",
              "    </tr>\n",
              "    <tr>\n",
              "      <th>3</th>\n",
              "      <td>1187</td>\n",
              "      <td>12-12-2015</td>\n",
              "      <td>Fruits &amp; Vegetables</td>\n",
              "    </tr>\n",
              "    <tr>\n",
              "      <th>4</th>\n",
              "      <td>3037</td>\n",
              "      <td>2015-02</td>\n",
              "      <td>Milk Products</td>\n",
              "    </tr>\n",
              "    <tr>\n",
              "      <th>...</th>\n",
              "      <td>...</td>\n",
              "      <td>...</td>\n",
              "      <td>...</td>\n",
              "    </tr>\n",
              "    <tr>\n",
              "      <th>38760</th>\n",
              "      <td>4471</td>\n",
              "      <td>08-10-2014</td>\n",
              "      <td>Milk Products</td>\n",
              "    </tr>\n",
              "    <tr>\n",
              "      <th>38761</th>\n",
              "      <td>2022</td>\n",
              "      <td>23-02-2014</td>\n",
              "      <td>Sweet food products</td>\n",
              "    </tr>\n",
              "    <tr>\n",
              "      <th>38762</th>\n",
              "      <td>1097</td>\n",
              "      <td>16-04-2014</td>\n",
              "      <td>Snack food Products</td>\n",
              "    </tr>\n",
              "    <tr>\n",
              "      <th>38763</th>\n",
              "      <td>1510</td>\n",
              "      <td>03-12-2014</td>\n",
              "      <td>Fruits &amp; Vegetables</td>\n",
              "    </tr>\n",
              "    <tr>\n",
              "      <th>38764</th>\n",
              "      <td>1521</td>\n",
              "      <td>26-12-2014</td>\n",
              "      <td>Non-food products</td>\n",
              "    </tr>\n",
              "  </tbody>\n",
              "</table>\n",
              "<p>38765 rows × 3 columns</p>\n",
              "</div>"
            ],
            "text/plain": [
              "       Member_number        Date      itemDescription\n",
              "0               1808     2015-07  Fruits & Vegetables\n",
              "1               2552     2015-01        Milk Products\n",
              "2               2300     2015-09  Fruits & Vegetables\n",
              "3               1187  12-12-2015  Fruits & Vegetables\n",
              "4               3037     2015-02        Milk Products\n",
              "...              ...         ...                  ...\n",
              "38760           4471  08-10-2014        Milk Products\n",
              "38761           2022  23-02-2014  Sweet food products\n",
              "38762           1097  16-04-2014  Snack food Products\n",
              "38763           1510  03-12-2014  Fruits & Vegetables\n",
              "38764           1521  26-12-2014    Non-food products\n",
              "\n",
              "[38765 rows x 3 columns]"
            ]
          },
          "metadata": {
            "tags": []
          },
          "execution_count": 71
        }
      ]
    },
    {
      "cell_type": "code",
      "metadata": {
        "colab": {
          "base_uri": "https://localhost:8080/"
        },
        "id": "Xj7NCIESF2AB",
        "outputId": "2f6a4a3d-57ee-42a1-e6ba-02dcf5d0698d"
      },
      "source": [
        "data21['Date'].nunique()"
      ],
      "execution_count": 72,
      "outputs": [
        {
          "output_type": "execute_result",
          "data": {
            "text/plain": [
              "405"
            ]
          },
          "metadata": {
            "tags": []
          },
          "execution_count": 72
        }
      ]
    },
    {
      "cell_type": "code",
      "metadata": {
        "colab": {
          "base_uri": "https://localhost:8080/",
          "height": 408
        },
        "id": "n_VEBzVJF6SG",
        "outputId": "d89f6f16-8e56-45fe-de4b-c634bbd7917a"
      },
      "source": [
        "data22=data21.replace(to_replace =['01-12-2015','02-12-2015','03-12-2015','04-12-2015','05-12-2015',\n",
        "'06-12-2015','07-12-2015','08-12-2015','09-12-2015','10-12-2015',\n",
        "'11-12-2015','12-12-2015','13-12-2015','14-12-2015','15-12-2015',\n",
        "'16-12-2015','17-12-2015','18-12-2015','19-12-2015','20-12-2015',\n",
        "'21-12-2015','22-12-2015','23-12-2015','24-12-2015','25-12-2015',\n",
        "'26-12-2015','27-12-2015','28-12-2015','29-12-2015','30-12-2015','31-12-2015' ], \n",
        "                            value =\"2015-12\")\n",
        "\n",
        "data22"
      ],
      "execution_count": 73,
      "outputs": [
        {
          "output_type": "execute_result",
          "data": {
            "text/html": [
              "<div>\n",
              "<style scoped>\n",
              "    .dataframe tbody tr th:only-of-type {\n",
              "        vertical-align: middle;\n",
              "    }\n",
              "\n",
              "    .dataframe tbody tr th {\n",
              "        vertical-align: top;\n",
              "    }\n",
              "\n",
              "    .dataframe thead th {\n",
              "        text-align: right;\n",
              "    }\n",
              "</style>\n",
              "<table border=\"1\" class=\"dataframe\">\n",
              "  <thead>\n",
              "    <tr style=\"text-align: right;\">\n",
              "      <th></th>\n",
              "      <th>Member_number</th>\n",
              "      <th>Date</th>\n",
              "      <th>itemDescription</th>\n",
              "    </tr>\n",
              "  </thead>\n",
              "  <tbody>\n",
              "    <tr>\n",
              "      <th>0</th>\n",
              "      <td>1808</td>\n",
              "      <td>2015-07</td>\n",
              "      <td>Fruits &amp; Vegetables</td>\n",
              "    </tr>\n",
              "    <tr>\n",
              "      <th>1</th>\n",
              "      <td>2552</td>\n",
              "      <td>2015-01</td>\n",
              "      <td>Milk Products</td>\n",
              "    </tr>\n",
              "    <tr>\n",
              "      <th>2</th>\n",
              "      <td>2300</td>\n",
              "      <td>2015-09</td>\n",
              "      <td>Fruits &amp; Vegetables</td>\n",
              "    </tr>\n",
              "    <tr>\n",
              "      <th>3</th>\n",
              "      <td>1187</td>\n",
              "      <td>2015-12</td>\n",
              "      <td>Fruits &amp; Vegetables</td>\n",
              "    </tr>\n",
              "    <tr>\n",
              "      <th>4</th>\n",
              "      <td>3037</td>\n",
              "      <td>2015-02</td>\n",
              "      <td>Milk Products</td>\n",
              "    </tr>\n",
              "    <tr>\n",
              "      <th>...</th>\n",
              "      <td>...</td>\n",
              "      <td>...</td>\n",
              "      <td>...</td>\n",
              "    </tr>\n",
              "    <tr>\n",
              "      <th>38760</th>\n",
              "      <td>4471</td>\n",
              "      <td>08-10-2014</td>\n",
              "      <td>Milk Products</td>\n",
              "    </tr>\n",
              "    <tr>\n",
              "      <th>38761</th>\n",
              "      <td>2022</td>\n",
              "      <td>23-02-2014</td>\n",
              "      <td>Sweet food products</td>\n",
              "    </tr>\n",
              "    <tr>\n",
              "      <th>38762</th>\n",
              "      <td>1097</td>\n",
              "      <td>16-04-2014</td>\n",
              "      <td>Snack food Products</td>\n",
              "    </tr>\n",
              "    <tr>\n",
              "      <th>38763</th>\n",
              "      <td>1510</td>\n",
              "      <td>03-12-2014</td>\n",
              "      <td>Fruits &amp; Vegetables</td>\n",
              "    </tr>\n",
              "    <tr>\n",
              "      <th>38764</th>\n",
              "      <td>1521</td>\n",
              "      <td>26-12-2014</td>\n",
              "      <td>Non-food products</td>\n",
              "    </tr>\n",
              "  </tbody>\n",
              "</table>\n",
              "<p>38765 rows × 3 columns</p>\n",
              "</div>"
            ],
            "text/plain": [
              "       Member_number        Date      itemDescription\n",
              "0               1808     2015-07  Fruits & Vegetables\n",
              "1               2552     2015-01        Milk Products\n",
              "2               2300     2015-09  Fruits & Vegetables\n",
              "3               1187     2015-12  Fruits & Vegetables\n",
              "4               3037     2015-02        Milk Products\n",
              "...              ...         ...                  ...\n",
              "38760           4471  08-10-2014        Milk Products\n",
              "38761           2022  23-02-2014  Sweet food products\n",
              "38762           1097  16-04-2014  Snack food Products\n",
              "38763           1510  03-12-2014  Fruits & Vegetables\n",
              "38764           1521  26-12-2014    Non-food products\n",
              "\n",
              "[38765 rows x 3 columns]"
            ]
          },
          "metadata": {
            "tags": []
          },
          "execution_count": 73
        }
      ]
    },
    {
      "cell_type": "code",
      "metadata": {
        "colab": {
          "base_uri": "https://localhost:8080/"
        },
        "id": "UZLWcBy1GXoU",
        "outputId": "00e89072-bd14-4c62-9fb5-7215c0a6318b"
      },
      "source": [
        "data22['Date'].nunique()"
      ],
      "execution_count": 74,
      "outputs": [
        {
          "output_type": "execute_result",
          "data": {
            "text/plain": [
              "376"
            ]
          },
          "metadata": {
            "tags": []
          },
          "execution_count": 74
        }
      ]
    },
    {
      "cell_type": "code",
      "metadata": {
        "colab": {
          "base_uri": "https://localhost:8080/",
          "height": 408
        },
        "id": "um_yIKz1IA7D",
        "outputId": "e969a7db-2758-4e6b-98db-3a1f9564e734"
      },
      "source": [
        "data23=data22.replace(to_replace =['01-01-2014','02-01-2014','03-01-2014','04-01-2014','05-01-2014',\n",
        "'06-01-2014','07-01-2014','08-01-2014','09-01-2014','10-01-2014',\n",
        "'11-01-2014','12-01-2014','13-01-2014','14-01-2014', '15-01-2014',\n",
        "'16-01-2014','17-01-2014','18-01-2014','19-01-2014','20-01-2014',\n",
        "'21-01-2014','22-01-2014','23-01-2014','24-01-2014','25-01-2014',\n",
        "'26-01-2014','27-01-2014','28-01-2014','29-01-2014','30-01-2014','31-01-2014'], \n",
        "                            value =\"2014-01\")\n",
        "\n",
        "data23"
      ],
      "execution_count": 75,
      "outputs": [
        {
          "output_type": "execute_result",
          "data": {
            "text/html": [
              "<div>\n",
              "<style scoped>\n",
              "    .dataframe tbody tr th:only-of-type {\n",
              "        vertical-align: middle;\n",
              "    }\n",
              "\n",
              "    .dataframe tbody tr th {\n",
              "        vertical-align: top;\n",
              "    }\n",
              "\n",
              "    .dataframe thead th {\n",
              "        text-align: right;\n",
              "    }\n",
              "</style>\n",
              "<table border=\"1\" class=\"dataframe\">\n",
              "  <thead>\n",
              "    <tr style=\"text-align: right;\">\n",
              "      <th></th>\n",
              "      <th>Member_number</th>\n",
              "      <th>Date</th>\n",
              "      <th>itemDescription</th>\n",
              "    </tr>\n",
              "  </thead>\n",
              "  <tbody>\n",
              "    <tr>\n",
              "      <th>0</th>\n",
              "      <td>1808</td>\n",
              "      <td>2015-07</td>\n",
              "      <td>Fruits &amp; Vegetables</td>\n",
              "    </tr>\n",
              "    <tr>\n",
              "      <th>1</th>\n",
              "      <td>2552</td>\n",
              "      <td>2015-01</td>\n",
              "      <td>Milk Products</td>\n",
              "    </tr>\n",
              "    <tr>\n",
              "      <th>2</th>\n",
              "      <td>2300</td>\n",
              "      <td>2015-09</td>\n",
              "      <td>Fruits &amp; Vegetables</td>\n",
              "    </tr>\n",
              "    <tr>\n",
              "      <th>3</th>\n",
              "      <td>1187</td>\n",
              "      <td>2015-12</td>\n",
              "      <td>Fruits &amp; Vegetables</td>\n",
              "    </tr>\n",
              "    <tr>\n",
              "      <th>4</th>\n",
              "      <td>3037</td>\n",
              "      <td>2015-02</td>\n",
              "      <td>Milk Products</td>\n",
              "    </tr>\n",
              "    <tr>\n",
              "      <th>...</th>\n",
              "      <td>...</td>\n",
              "      <td>...</td>\n",
              "      <td>...</td>\n",
              "    </tr>\n",
              "    <tr>\n",
              "      <th>38760</th>\n",
              "      <td>4471</td>\n",
              "      <td>08-10-2014</td>\n",
              "      <td>Milk Products</td>\n",
              "    </tr>\n",
              "    <tr>\n",
              "      <th>38761</th>\n",
              "      <td>2022</td>\n",
              "      <td>23-02-2014</td>\n",
              "      <td>Sweet food products</td>\n",
              "    </tr>\n",
              "    <tr>\n",
              "      <th>38762</th>\n",
              "      <td>1097</td>\n",
              "      <td>16-04-2014</td>\n",
              "      <td>Snack food Products</td>\n",
              "    </tr>\n",
              "    <tr>\n",
              "      <th>38763</th>\n",
              "      <td>1510</td>\n",
              "      <td>03-12-2014</td>\n",
              "      <td>Fruits &amp; Vegetables</td>\n",
              "    </tr>\n",
              "    <tr>\n",
              "      <th>38764</th>\n",
              "      <td>1521</td>\n",
              "      <td>26-12-2014</td>\n",
              "      <td>Non-food products</td>\n",
              "    </tr>\n",
              "  </tbody>\n",
              "</table>\n",
              "<p>38765 rows × 3 columns</p>\n",
              "</div>"
            ],
            "text/plain": [
              "       Member_number        Date      itemDescription\n",
              "0               1808     2015-07  Fruits & Vegetables\n",
              "1               2552     2015-01        Milk Products\n",
              "2               2300     2015-09  Fruits & Vegetables\n",
              "3               1187     2015-12  Fruits & Vegetables\n",
              "4               3037     2015-02        Milk Products\n",
              "...              ...         ...                  ...\n",
              "38760           4471  08-10-2014        Milk Products\n",
              "38761           2022  23-02-2014  Sweet food products\n",
              "38762           1097  16-04-2014  Snack food Products\n",
              "38763           1510  03-12-2014  Fruits & Vegetables\n",
              "38764           1521  26-12-2014    Non-food products\n",
              "\n",
              "[38765 rows x 3 columns]"
            ]
          },
          "metadata": {
            "tags": []
          },
          "execution_count": 75
        }
      ]
    },
    {
      "cell_type": "code",
      "metadata": {
        "colab": {
          "base_uri": "https://localhost:8080/",
          "height": 408
        },
        "id": "LKQNZVF4Il_s",
        "outputId": "0e3485ad-4feb-4fda-c0ea-1a58a1b6dcff"
      },
      "source": [
        "\n",
        "data24=data23.replace(to_replace =['01-12-2014','02-12-2014','03-12-2014','04-12-2014','05-12-2014',\n",
        "'06-12-2014','07-12-2014','08-12-2014','09-12-2014','10-12-2014',\n",
        "'11-12-2014','12-12-2014','13-12-2014','14-12-2014','15-12-2014',\n",
        "'16-12-2014','17-12-2014','18-12-2014','19-12-2014','20-12-2014',\n",
        "'21-12-2014','22-12-2014','23-12-2014','24-12-2014','25-12-2014',\n",
        "'26-12-2014','27-12-2014','28-12-2014','29-12-2014','30-12-2014','31-12-2014' ], \n",
        "                            value =\"2014-12\")\n",
        "\n",
        "data24"
      ],
      "execution_count": 76,
      "outputs": [
        {
          "output_type": "execute_result",
          "data": {
            "text/html": [
              "<div>\n",
              "<style scoped>\n",
              "    .dataframe tbody tr th:only-of-type {\n",
              "        vertical-align: middle;\n",
              "    }\n",
              "\n",
              "    .dataframe tbody tr th {\n",
              "        vertical-align: top;\n",
              "    }\n",
              "\n",
              "    .dataframe thead th {\n",
              "        text-align: right;\n",
              "    }\n",
              "</style>\n",
              "<table border=\"1\" class=\"dataframe\">\n",
              "  <thead>\n",
              "    <tr style=\"text-align: right;\">\n",
              "      <th></th>\n",
              "      <th>Member_number</th>\n",
              "      <th>Date</th>\n",
              "      <th>itemDescription</th>\n",
              "    </tr>\n",
              "  </thead>\n",
              "  <tbody>\n",
              "    <tr>\n",
              "      <th>0</th>\n",
              "      <td>1808</td>\n",
              "      <td>2015-07</td>\n",
              "      <td>Fruits &amp; Vegetables</td>\n",
              "    </tr>\n",
              "    <tr>\n",
              "      <th>1</th>\n",
              "      <td>2552</td>\n",
              "      <td>2015-01</td>\n",
              "      <td>Milk Products</td>\n",
              "    </tr>\n",
              "    <tr>\n",
              "      <th>2</th>\n",
              "      <td>2300</td>\n",
              "      <td>2015-09</td>\n",
              "      <td>Fruits &amp; Vegetables</td>\n",
              "    </tr>\n",
              "    <tr>\n",
              "      <th>3</th>\n",
              "      <td>1187</td>\n",
              "      <td>2015-12</td>\n",
              "      <td>Fruits &amp; Vegetables</td>\n",
              "    </tr>\n",
              "    <tr>\n",
              "      <th>4</th>\n",
              "      <td>3037</td>\n",
              "      <td>2015-02</td>\n",
              "      <td>Milk Products</td>\n",
              "    </tr>\n",
              "    <tr>\n",
              "      <th>...</th>\n",
              "      <td>...</td>\n",
              "      <td>...</td>\n",
              "      <td>...</td>\n",
              "    </tr>\n",
              "    <tr>\n",
              "      <th>38760</th>\n",
              "      <td>4471</td>\n",
              "      <td>08-10-2014</td>\n",
              "      <td>Milk Products</td>\n",
              "    </tr>\n",
              "    <tr>\n",
              "      <th>38761</th>\n",
              "      <td>2022</td>\n",
              "      <td>23-02-2014</td>\n",
              "      <td>Sweet food products</td>\n",
              "    </tr>\n",
              "    <tr>\n",
              "      <th>38762</th>\n",
              "      <td>1097</td>\n",
              "      <td>16-04-2014</td>\n",
              "      <td>Snack food Products</td>\n",
              "    </tr>\n",
              "    <tr>\n",
              "      <th>38763</th>\n",
              "      <td>1510</td>\n",
              "      <td>2014-12</td>\n",
              "      <td>Fruits &amp; Vegetables</td>\n",
              "    </tr>\n",
              "    <tr>\n",
              "      <th>38764</th>\n",
              "      <td>1521</td>\n",
              "      <td>2014-12</td>\n",
              "      <td>Non-food products</td>\n",
              "    </tr>\n",
              "  </tbody>\n",
              "</table>\n",
              "<p>38765 rows × 3 columns</p>\n",
              "</div>"
            ],
            "text/plain": [
              "       Member_number        Date      itemDescription\n",
              "0               1808     2015-07  Fruits & Vegetables\n",
              "1               2552     2015-01        Milk Products\n",
              "2               2300     2015-09  Fruits & Vegetables\n",
              "3               1187     2015-12  Fruits & Vegetables\n",
              "4               3037     2015-02        Milk Products\n",
              "...              ...         ...                  ...\n",
              "38760           4471  08-10-2014        Milk Products\n",
              "38761           2022  23-02-2014  Sweet food products\n",
              "38762           1097  16-04-2014  Snack food Products\n",
              "38763           1510     2014-12  Fruits & Vegetables\n",
              "38764           1521     2014-12    Non-food products\n",
              "\n",
              "[38765 rows x 3 columns]"
            ]
          },
          "metadata": {
            "tags": []
          },
          "execution_count": 76
        }
      ]
    },
    {
      "cell_type": "code",
      "metadata": {
        "colab": {
          "base_uri": "https://localhost:8080/",
          "height": 408
        },
        "id": "dafRnazVJO_c",
        "outputId": "aac2920e-baf3-426d-e106-d839ecdb056b"
      },
      "source": [
        "data25=data24.replace(to_replace =['01-11-2014','02-11-2014','03-11-2014','04-11-2014','05-11-2014',\n",
        "'06-11-2014','07-11-2014','08-11-2014','09-11-2014','10-11-2014',\n",
        "'11-11-2014','12-11-2014','13-11-2014','14-11-2014', '15-11-2014',\n",
        "'16-11-2014','17-11-2014','18-11-2014','19-11-2014','20-11-2014',\n",
        "'21-11-2014','22-11-2014','23-11-2014','24-11-2014','25-11-2014',\n",
        "'26-11-2014','27-11-2014','28-11-2014','29-11-2014','30-11-2014','31-11-2014' ], \n",
        "                            value =\"2014-11\")\n",
        "\n",
        "data25"
      ],
      "execution_count": 77,
      "outputs": [
        {
          "output_type": "execute_result",
          "data": {
            "text/html": [
              "<div>\n",
              "<style scoped>\n",
              "    .dataframe tbody tr th:only-of-type {\n",
              "        vertical-align: middle;\n",
              "    }\n",
              "\n",
              "    .dataframe tbody tr th {\n",
              "        vertical-align: top;\n",
              "    }\n",
              "\n",
              "    .dataframe thead th {\n",
              "        text-align: right;\n",
              "    }\n",
              "</style>\n",
              "<table border=\"1\" class=\"dataframe\">\n",
              "  <thead>\n",
              "    <tr style=\"text-align: right;\">\n",
              "      <th></th>\n",
              "      <th>Member_number</th>\n",
              "      <th>Date</th>\n",
              "      <th>itemDescription</th>\n",
              "    </tr>\n",
              "  </thead>\n",
              "  <tbody>\n",
              "    <tr>\n",
              "      <th>0</th>\n",
              "      <td>1808</td>\n",
              "      <td>2015-07</td>\n",
              "      <td>Fruits &amp; Vegetables</td>\n",
              "    </tr>\n",
              "    <tr>\n",
              "      <th>1</th>\n",
              "      <td>2552</td>\n",
              "      <td>2015-01</td>\n",
              "      <td>Milk Products</td>\n",
              "    </tr>\n",
              "    <tr>\n",
              "      <th>2</th>\n",
              "      <td>2300</td>\n",
              "      <td>2015-09</td>\n",
              "      <td>Fruits &amp; Vegetables</td>\n",
              "    </tr>\n",
              "    <tr>\n",
              "      <th>3</th>\n",
              "      <td>1187</td>\n",
              "      <td>2015-12</td>\n",
              "      <td>Fruits &amp; Vegetables</td>\n",
              "    </tr>\n",
              "    <tr>\n",
              "      <th>4</th>\n",
              "      <td>3037</td>\n",
              "      <td>2015-02</td>\n",
              "      <td>Milk Products</td>\n",
              "    </tr>\n",
              "    <tr>\n",
              "      <th>...</th>\n",
              "      <td>...</td>\n",
              "      <td>...</td>\n",
              "      <td>...</td>\n",
              "    </tr>\n",
              "    <tr>\n",
              "      <th>38760</th>\n",
              "      <td>4471</td>\n",
              "      <td>08-10-2014</td>\n",
              "      <td>Milk Products</td>\n",
              "    </tr>\n",
              "    <tr>\n",
              "      <th>38761</th>\n",
              "      <td>2022</td>\n",
              "      <td>23-02-2014</td>\n",
              "      <td>Sweet food products</td>\n",
              "    </tr>\n",
              "    <tr>\n",
              "      <th>38762</th>\n",
              "      <td>1097</td>\n",
              "      <td>16-04-2014</td>\n",
              "      <td>Snack food Products</td>\n",
              "    </tr>\n",
              "    <tr>\n",
              "      <th>38763</th>\n",
              "      <td>1510</td>\n",
              "      <td>2014-12</td>\n",
              "      <td>Fruits &amp; Vegetables</td>\n",
              "    </tr>\n",
              "    <tr>\n",
              "      <th>38764</th>\n",
              "      <td>1521</td>\n",
              "      <td>2014-12</td>\n",
              "      <td>Non-food products</td>\n",
              "    </tr>\n",
              "  </tbody>\n",
              "</table>\n",
              "<p>38765 rows × 3 columns</p>\n",
              "</div>"
            ],
            "text/plain": [
              "       Member_number        Date      itemDescription\n",
              "0               1808     2015-07  Fruits & Vegetables\n",
              "1               2552     2015-01        Milk Products\n",
              "2               2300     2015-09  Fruits & Vegetables\n",
              "3               1187     2015-12  Fruits & Vegetables\n",
              "4               3037     2015-02        Milk Products\n",
              "...              ...         ...                  ...\n",
              "38760           4471  08-10-2014        Milk Products\n",
              "38761           2022  23-02-2014  Sweet food products\n",
              "38762           1097  16-04-2014  Snack food Products\n",
              "38763           1510     2014-12  Fruits & Vegetables\n",
              "38764           1521     2014-12    Non-food products\n",
              "\n",
              "[38765 rows x 3 columns]"
            ]
          },
          "metadata": {
            "tags": []
          },
          "execution_count": 77
        }
      ]
    },
    {
      "cell_type": "code",
      "metadata": {
        "colab": {
          "base_uri": "https://localhost:8080/",
          "height": 408
        },
        "id": "uJBn-eVKJoXE",
        "outputId": "45469f4b-fc10-4569-c404-4be068902288"
      },
      "source": [
        "data26=data25.replace(to_replace =['01-10-2014','02-10-2014','03-10-2014','04-10-2014','05-10-2014',\n",
        "'06-10-2014','07-10-2014','08-10-2014','09-10-2014','10-10-2014',\n",
        "'11-10-2014','12-10-2014','13-10-2014','14-10-2014', '15-10-2014',\n",
        "'16-10-2014','17-10-2014','18-10-2014','19-10-2014','20-10-2014',\n",
        "'21-10-2014','22-10-2014','23-10-2014','24-10-2014','25-10-2014',\n",
        "'26-10-2014','27-10-2014','28-10-2014','29-10-2014','30-10-2014','31-10-2014' ], \n",
        "                            value =\"2014-10\")\n",
        "\n",
        "data26"
      ],
      "execution_count": 78,
      "outputs": [
        {
          "output_type": "execute_result",
          "data": {
            "text/html": [
              "<div>\n",
              "<style scoped>\n",
              "    .dataframe tbody tr th:only-of-type {\n",
              "        vertical-align: middle;\n",
              "    }\n",
              "\n",
              "    .dataframe tbody tr th {\n",
              "        vertical-align: top;\n",
              "    }\n",
              "\n",
              "    .dataframe thead th {\n",
              "        text-align: right;\n",
              "    }\n",
              "</style>\n",
              "<table border=\"1\" class=\"dataframe\">\n",
              "  <thead>\n",
              "    <tr style=\"text-align: right;\">\n",
              "      <th></th>\n",
              "      <th>Member_number</th>\n",
              "      <th>Date</th>\n",
              "      <th>itemDescription</th>\n",
              "    </tr>\n",
              "  </thead>\n",
              "  <tbody>\n",
              "    <tr>\n",
              "      <th>0</th>\n",
              "      <td>1808</td>\n",
              "      <td>2015-07</td>\n",
              "      <td>Fruits &amp; Vegetables</td>\n",
              "    </tr>\n",
              "    <tr>\n",
              "      <th>1</th>\n",
              "      <td>2552</td>\n",
              "      <td>2015-01</td>\n",
              "      <td>Milk Products</td>\n",
              "    </tr>\n",
              "    <tr>\n",
              "      <th>2</th>\n",
              "      <td>2300</td>\n",
              "      <td>2015-09</td>\n",
              "      <td>Fruits &amp; Vegetables</td>\n",
              "    </tr>\n",
              "    <tr>\n",
              "      <th>3</th>\n",
              "      <td>1187</td>\n",
              "      <td>2015-12</td>\n",
              "      <td>Fruits &amp; Vegetables</td>\n",
              "    </tr>\n",
              "    <tr>\n",
              "      <th>4</th>\n",
              "      <td>3037</td>\n",
              "      <td>2015-02</td>\n",
              "      <td>Milk Products</td>\n",
              "    </tr>\n",
              "    <tr>\n",
              "      <th>...</th>\n",
              "      <td>...</td>\n",
              "      <td>...</td>\n",
              "      <td>...</td>\n",
              "    </tr>\n",
              "    <tr>\n",
              "      <th>38760</th>\n",
              "      <td>4471</td>\n",
              "      <td>2014-10</td>\n",
              "      <td>Milk Products</td>\n",
              "    </tr>\n",
              "    <tr>\n",
              "      <th>38761</th>\n",
              "      <td>2022</td>\n",
              "      <td>23-02-2014</td>\n",
              "      <td>Sweet food products</td>\n",
              "    </tr>\n",
              "    <tr>\n",
              "      <th>38762</th>\n",
              "      <td>1097</td>\n",
              "      <td>16-04-2014</td>\n",
              "      <td>Snack food Products</td>\n",
              "    </tr>\n",
              "    <tr>\n",
              "      <th>38763</th>\n",
              "      <td>1510</td>\n",
              "      <td>2014-12</td>\n",
              "      <td>Fruits &amp; Vegetables</td>\n",
              "    </tr>\n",
              "    <tr>\n",
              "      <th>38764</th>\n",
              "      <td>1521</td>\n",
              "      <td>2014-12</td>\n",
              "      <td>Non-food products</td>\n",
              "    </tr>\n",
              "  </tbody>\n",
              "</table>\n",
              "<p>38765 rows × 3 columns</p>\n",
              "</div>"
            ],
            "text/plain": [
              "       Member_number        Date      itemDescription\n",
              "0               1808     2015-07  Fruits & Vegetables\n",
              "1               2552     2015-01        Milk Products\n",
              "2               2300     2015-09  Fruits & Vegetables\n",
              "3               1187     2015-12  Fruits & Vegetables\n",
              "4               3037     2015-02        Milk Products\n",
              "...              ...         ...                  ...\n",
              "38760           4471     2014-10        Milk Products\n",
              "38761           2022  23-02-2014  Sweet food products\n",
              "38762           1097  16-04-2014  Snack food Products\n",
              "38763           1510     2014-12  Fruits & Vegetables\n",
              "38764           1521     2014-12    Non-food products\n",
              "\n",
              "[38765 rows x 3 columns]"
            ]
          },
          "metadata": {
            "tags": []
          },
          "execution_count": 78
        }
      ]
    },
    {
      "cell_type": "code",
      "metadata": {
        "colab": {
          "base_uri": "https://localhost:8080/",
          "height": 408
        },
        "id": "IiNSJ8DCKOdE",
        "outputId": "e0833f77-aff2-4b4d-9bf1-3892647a0f49"
      },
      "source": [
        "data27=data26.replace(to_replace =['01-09-2014','02-09-2014','03-09-2014','04-09-2014','05-09-2014',\n",
        "'06-09-2014','07-09-2014','08-09-2014','09-09-2014','10-09-2014',\n",
        "'11-09-2014','12-09-2014','13-09-2014','14-09-2014', '15-09-2014',\n",
        "'16-09-2014','17-09-2014','18-09-2014','19-09-2014','20-09-2014',\n",
        "'21-09-2014','22-09-2014','23-09-2014','24-09-2014','25-09-2014',\n",
        "'26-09-2014','27-09-2014','28-09-2014','29-09-2014','30-09-2014','31-09-2014' ], \n",
        "                            value =\"2014-09\")\n",
        "\n",
        "data27"
      ],
      "execution_count": 79,
      "outputs": [
        {
          "output_type": "execute_result",
          "data": {
            "text/html": [
              "<div>\n",
              "<style scoped>\n",
              "    .dataframe tbody tr th:only-of-type {\n",
              "        vertical-align: middle;\n",
              "    }\n",
              "\n",
              "    .dataframe tbody tr th {\n",
              "        vertical-align: top;\n",
              "    }\n",
              "\n",
              "    .dataframe thead th {\n",
              "        text-align: right;\n",
              "    }\n",
              "</style>\n",
              "<table border=\"1\" class=\"dataframe\">\n",
              "  <thead>\n",
              "    <tr style=\"text-align: right;\">\n",
              "      <th></th>\n",
              "      <th>Member_number</th>\n",
              "      <th>Date</th>\n",
              "      <th>itemDescription</th>\n",
              "    </tr>\n",
              "  </thead>\n",
              "  <tbody>\n",
              "    <tr>\n",
              "      <th>0</th>\n",
              "      <td>1808</td>\n",
              "      <td>2015-07</td>\n",
              "      <td>Fruits &amp; Vegetables</td>\n",
              "    </tr>\n",
              "    <tr>\n",
              "      <th>1</th>\n",
              "      <td>2552</td>\n",
              "      <td>2015-01</td>\n",
              "      <td>Milk Products</td>\n",
              "    </tr>\n",
              "    <tr>\n",
              "      <th>2</th>\n",
              "      <td>2300</td>\n",
              "      <td>2015-09</td>\n",
              "      <td>Fruits &amp; Vegetables</td>\n",
              "    </tr>\n",
              "    <tr>\n",
              "      <th>3</th>\n",
              "      <td>1187</td>\n",
              "      <td>2015-12</td>\n",
              "      <td>Fruits &amp; Vegetables</td>\n",
              "    </tr>\n",
              "    <tr>\n",
              "      <th>4</th>\n",
              "      <td>3037</td>\n",
              "      <td>2015-02</td>\n",
              "      <td>Milk Products</td>\n",
              "    </tr>\n",
              "    <tr>\n",
              "      <th>...</th>\n",
              "      <td>...</td>\n",
              "      <td>...</td>\n",
              "      <td>...</td>\n",
              "    </tr>\n",
              "    <tr>\n",
              "      <th>38760</th>\n",
              "      <td>4471</td>\n",
              "      <td>2014-10</td>\n",
              "      <td>Milk Products</td>\n",
              "    </tr>\n",
              "    <tr>\n",
              "      <th>38761</th>\n",
              "      <td>2022</td>\n",
              "      <td>23-02-2014</td>\n",
              "      <td>Sweet food products</td>\n",
              "    </tr>\n",
              "    <tr>\n",
              "      <th>38762</th>\n",
              "      <td>1097</td>\n",
              "      <td>16-04-2014</td>\n",
              "      <td>Snack food Products</td>\n",
              "    </tr>\n",
              "    <tr>\n",
              "      <th>38763</th>\n",
              "      <td>1510</td>\n",
              "      <td>2014-12</td>\n",
              "      <td>Fruits &amp; Vegetables</td>\n",
              "    </tr>\n",
              "    <tr>\n",
              "      <th>38764</th>\n",
              "      <td>1521</td>\n",
              "      <td>2014-12</td>\n",
              "      <td>Non-food products</td>\n",
              "    </tr>\n",
              "  </tbody>\n",
              "</table>\n",
              "<p>38765 rows × 3 columns</p>\n",
              "</div>"
            ],
            "text/plain": [
              "       Member_number        Date      itemDescription\n",
              "0               1808     2015-07  Fruits & Vegetables\n",
              "1               2552     2015-01        Milk Products\n",
              "2               2300     2015-09  Fruits & Vegetables\n",
              "3               1187     2015-12  Fruits & Vegetables\n",
              "4               3037     2015-02        Milk Products\n",
              "...              ...         ...                  ...\n",
              "38760           4471     2014-10        Milk Products\n",
              "38761           2022  23-02-2014  Sweet food products\n",
              "38762           1097  16-04-2014  Snack food Products\n",
              "38763           1510     2014-12  Fruits & Vegetables\n",
              "38764           1521     2014-12    Non-food products\n",
              "\n",
              "[38765 rows x 3 columns]"
            ]
          },
          "metadata": {
            "tags": []
          },
          "execution_count": 79
        }
      ]
    },
    {
      "cell_type": "code",
      "metadata": {
        "colab": {
          "base_uri": "https://localhost:8080/",
          "height": 408
        },
        "id": "j6d5my-GKlZ-",
        "outputId": "3f70b905-7ebb-4405-e574-768586f81873"
      },
      "source": [
        "data28=data27.replace(to_replace =['01-08-2014','02-08-2014','03-08-2014','04-08-2014','05-08-2014',\n",
        "'06-08-2014','07-08-2014','08-08-2014','09-08-2014','10-08-2014',\n",
        "'11-08-2014','12-08-2014','13-08-2014','14-08-2014', '15-08-2014',\n",
        "'16-08-2014','17-08-2014','18-08-2014','19-08-2014','20-08-2014',\n",
        "'21-08-2014','22-08-2014','23-08-2014','24-08-2014','25-08-2014',\n",
        "'26-08-2014','27-08-2014','28-08-2014','29-08-2014','30-08-2014','31-08-2014' ], \n",
        "                            value =\"2014-08\")\n",
        "\n",
        "data28"
      ],
      "execution_count": 80,
      "outputs": [
        {
          "output_type": "execute_result",
          "data": {
            "text/html": [
              "<div>\n",
              "<style scoped>\n",
              "    .dataframe tbody tr th:only-of-type {\n",
              "        vertical-align: middle;\n",
              "    }\n",
              "\n",
              "    .dataframe tbody tr th {\n",
              "        vertical-align: top;\n",
              "    }\n",
              "\n",
              "    .dataframe thead th {\n",
              "        text-align: right;\n",
              "    }\n",
              "</style>\n",
              "<table border=\"1\" class=\"dataframe\">\n",
              "  <thead>\n",
              "    <tr style=\"text-align: right;\">\n",
              "      <th></th>\n",
              "      <th>Member_number</th>\n",
              "      <th>Date</th>\n",
              "      <th>itemDescription</th>\n",
              "    </tr>\n",
              "  </thead>\n",
              "  <tbody>\n",
              "    <tr>\n",
              "      <th>0</th>\n",
              "      <td>1808</td>\n",
              "      <td>2015-07</td>\n",
              "      <td>Fruits &amp; Vegetables</td>\n",
              "    </tr>\n",
              "    <tr>\n",
              "      <th>1</th>\n",
              "      <td>2552</td>\n",
              "      <td>2015-01</td>\n",
              "      <td>Milk Products</td>\n",
              "    </tr>\n",
              "    <tr>\n",
              "      <th>2</th>\n",
              "      <td>2300</td>\n",
              "      <td>2015-09</td>\n",
              "      <td>Fruits &amp; Vegetables</td>\n",
              "    </tr>\n",
              "    <tr>\n",
              "      <th>3</th>\n",
              "      <td>1187</td>\n",
              "      <td>2015-12</td>\n",
              "      <td>Fruits &amp; Vegetables</td>\n",
              "    </tr>\n",
              "    <tr>\n",
              "      <th>4</th>\n",
              "      <td>3037</td>\n",
              "      <td>2015-02</td>\n",
              "      <td>Milk Products</td>\n",
              "    </tr>\n",
              "    <tr>\n",
              "      <th>...</th>\n",
              "      <td>...</td>\n",
              "      <td>...</td>\n",
              "      <td>...</td>\n",
              "    </tr>\n",
              "    <tr>\n",
              "      <th>38760</th>\n",
              "      <td>4471</td>\n",
              "      <td>2014-10</td>\n",
              "      <td>Milk Products</td>\n",
              "    </tr>\n",
              "    <tr>\n",
              "      <th>38761</th>\n",
              "      <td>2022</td>\n",
              "      <td>23-02-2014</td>\n",
              "      <td>Sweet food products</td>\n",
              "    </tr>\n",
              "    <tr>\n",
              "      <th>38762</th>\n",
              "      <td>1097</td>\n",
              "      <td>16-04-2014</td>\n",
              "      <td>Snack food Products</td>\n",
              "    </tr>\n",
              "    <tr>\n",
              "      <th>38763</th>\n",
              "      <td>1510</td>\n",
              "      <td>2014-12</td>\n",
              "      <td>Fruits &amp; Vegetables</td>\n",
              "    </tr>\n",
              "    <tr>\n",
              "      <th>38764</th>\n",
              "      <td>1521</td>\n",
              "      <td>2014-12</td>\n",
              "      <td>Non-food products</td>\n",
              "    </tr>\n",
              "  </tbody>\n",
              "</table>\n",
              "<p>38765 rows × 3 columns</p>\n",
              "</div>"
            ],
            "text/plain": [
              "       Member_number        Date      itemDescription\n",
              "0               1808     2015-07  Fruits & Vegetables\n",
              "1               2552     2015-01        Milk Products\n",
              "2               2300     2015-09  Fruits & Vegetables\n",
              "3               1187     2015-12  Fruits & Vegetables\n",
              "4               3037     2015-02        Milk Products\n",
              "...              ...         ...                  ...\n",
              "38760           4471     2014-10        Milk Products\n",
              "38761           2022  23-02-2014  Sweet food products\n",
              "38762           1097  16-04-2014  Snack food Products\n",
              "38763           1510     2014-12  Fruits & Vegetables\n",
              "38764           1521     2014-12    Non-food products\n",
              "\n",
              "[38765 rows x 3 columns]"
            ]
          },
          "metadata": {
            "tags": []
          },
          "execution_count": 80
        }
      ]
    },
    {
      "cell_type": "code",
      "metadata": {
        "colab": {
          "base_uri": "https://localhost:8080/",
          "height": 408
        },
        "id": "GONiblc8LHXQ",
        "outputId": "7f5f0d82-ef3e-452d-f11c-f0aeda1f224c"
      },
      "source": [
        "data29=data28.replace(to_replace =['01-07-2014','02-07-2014','03-07-2014','04-07-2014','05-07-2014',\n",
        "'06-07-2014','07-07-2014','08-07-2014','09-07-2014','10-07-2014',\n",
        "'11-07-2014','12-07-2014','13-07-2014','14-07-2014', '15-07-2014',\n",
        "'16-07-2014','17-07-2014','18-07-2014','19-07-2014','20-07-2014',\n",
        "'21-07-2014','22-07-2014','23-07-2014','24-07-2014','25-07-2014',\n",
        "'26-07-2014','27-07-2014','28-07-2014','29-07-2014','30-07-2014','31-07-2014' ], \n",
        "                            value =\"2014-07\")\n",
        "\n",
        "data29"
      ],
      "execution_count": 81,
      "outputs": [
        {
          "output_type": "execute_result",
          "data": {
            "text/html": [
              "<div>\n",
              "<style scoped>\n",
              "    .dataframe tbody tr th:only-of-type {\n",
              "        vertical-align: middle;\n",
              "    }\n",
              "\n",
              "    .dataframe tbody tr th {\n",
              "        vertical-align: top;\n",
              "    }\n",
              "\n",
              "    .dataframe thead th {\n",
              "        text-align: right;\n",
              "    }\n",
              "</style>\n",
              "<table border=\"1\" class=\"dataframe\">\n",
              "  <thead>\n",
              "    <tr style=\"text-align: right;\">\n",
              "      <th></th>\n",
              "      <th>Member_number</th>\n",
              "      <th>Date</th>\n",
              "      <th>itemDescription</th>\n",
              "    </tr>\n",
              "  </thead>\n",
              "  <tbody>\n",
              "    <tr>\n",
              "      <th>0</th>\n",
              "      <td>1808</td>\n",
              "      <td>2015-07</td>\n",
              "      <td>Fruits &amp; Vegetables</td>\n",
              "    </tr>\n",
              "    <tr>\n",
              "      <th>1</th>\n",
              "      <td>2552</td>\n",
              "      <td>2015-01</td>\n",
              "      <td>Milk Products</td>\n",
              "    </tr>\n",
              "    <tr>\n",
              "      <th>2</th>\n",
              "      <td>2300</td>\n",
              "      <td>2015-09</td>\n",
              "      <td>Fruits &amp; Vegetables</td>\n",
              "    </tr>\n",
              "    <tr>\n",
              "      <th>3</th>\n",
              "      <td>1187</td>\n",
              "      <td>2015-12</td>\n",
              "      <td>Fruits &amp; Vegetables</td>\n",
              "    </tr>\n",
              "    <tr>\n",
              "      <th>4</th>\n",
              "      <td>3037</td>\n",
              "      <td>2015-02</td>\n",
              "      <td>Milk Products</td>\n",
              "    </tr>\n",
              "    <tr>\n",
              "      <th>...</th>\n",
              "      <td>...</td>\n",
              "      <td>...</td>\n",
              "      <td>...</td>\n",
              "    </tr>\n",
              "    <tr>\n",
              "      <th>38760</th>\n",
              "      <td>4471</td>\n",
              "      <td>2014-10</td>\n",
              "      <td>Milk Products</td>\n",
              "    </tr>\n",
              "    <tr>\n",
              "      <th>38761</th>\n",
              "      <td>2022</td>\n",
              "      <td>23-02-2014</td>\n",
              "      <td>Sweet food products</td>\n",
              "    </tr>\n",
              "    <tr>\n",
              "      <th>38762</th>\n",
              "      <td>1097</td>\n",
              "      <td>16-04-2014</td>\n",
              "      <td>Snack food Products</td>\n",
              "    </tr>\n",
              "    <tr>\n",
              "      <th>38763</th>\n",
              "      <td>1510</td>\n",
              "      <td>2014-12</td>\n",
              "      <td>Fruits &amp; Vegetables</td>\n",
              "    </tr>\n",
              "    <tr>\n",
              "      <th>38764</th>\n",
              "      <td>1521</td>\n",
              "      <td>2014-12</td>\n",
              "      <td>Non-food products</td>\n",
              "    </tr>\n",
              "  </tbody>\n",
              "</table>\n",
              "<p>38765 rows × 3 columns</p>\n",
              "</div>"
            ],
            "text/plain": [
              "       Member_number        Date      itemDescription\n",
              "0               1808     2015-07  Fruits & Vegetables\n",
              "1               2552     2015-01        Milk Products\n",
              "2               2300     2015-09  Fruits & Vegetables\n",
              "3               1187     2015-12  Fruits & Vegetables\n",
              "4               3037     2015-02        Milk Products\n",
              "...              ...         ...                  ...\n",
              "38760           4471     2014-10        Milk Products\n",
              "38761           2022  23-02-2014  Sweet food products\n",
              "38762           1097  16-04-2014  Snack food Products\n",
              "38763           1510     2014-12  Fruits & Vegetables\n",
              "38764           1521     2014-12    Non-food products\n",
              "\n",
              "[38765 rows x 3 columns]"
            ]
          },
          "metadata": {
            "tags": []
          },
          "execution_count": 81
        }
      ]
    },
    {
      "cell_type": "code",
      "metadata": {
        "colab": {
          "base_uri": "https://localhost:8080/",
          "height": 408
        },
        "id": "n5U040QJLl9E",
        "outputId": "6ae33518-5cff-494b-f94e-baf1f58f23ed"
      },
      "source": [
        "data30=data29.replace(to_replace =['01-06-2014','02-06-2014','03-06-2014','04-06-2014','05-06-2014',\n",
        "'06-06-2014','07-06-2014','08-06-2014','09-06-2014','10-06-2014',\n",
        "'11-06-2014','12-06-2014','13-06-2014','14-06-2014', '15-06-2014',\n",
        "'16-06-2014','17-06-2014','18-06-2014','19-06-2014','20-06-2014',\n",
        "'21-06-2014','22-06-2014','23-06-2014','24-06-2014','25-06-2014',\n",
        "'26-06-2014','27-06-2014','28-06-2014','29-06-2014','30-06-2014','31-06-2014' ], \n",
        "                            value =\"2014-06\")\n",
        "\n",
        "data30"
      ],
      "execution_count": 82,
      "outputs": [
        {
          "output_type": "execute_result",
          "data": {
            "text/html": [
              "<div>\n",
              "<style scoped>\n",
              "    .dataframe tbody tr th:only-of-type {\n",
              "        vertical-align: middle;\n",
              "    }\n",
              "\n",
              "    .dataframe tbody tr th {\n",
              "        vertical-align: top;\n",
              "    }\n",
              "\n",
              "    .dataframe thead th {\n",
              "        text-align: right;\n",
              "    }\n",
              "</style>\n",
              "<table border=\"1\" class=\"dataframe\">\n",
              "  <thead>\n",
              "    <tr style=\"text-align: right;\">\n",
              "      <th></th>\n",
              "      <th>Member_number</th>\n",
              "      <th>Date</th>\n",
              "      <th>itemDescription</th>\n",
              "    </tr>\n",
              "  </thead>\n",
              "  <tbody>\n",
              "    <tr>\n",
              "      <th>0</th>\n",
              "      <td>1808</td>\n",
              "      <td>2015-07</td>\n",
              "      <td>Fruits &amp; Vegetables</td>\n",
              "    </tr>\n",
              "    <tr>\n",
              "      <th>1</th>\n",
              "      <td>2552</td>\n",
              "      <td>2015-01</td>\n",
              "      <td>Milk Products</td>\n",
              "    </tr>\n",
              "    <tr>\n",
              "      <th>2</th>\n",
              "      <td>2300</td>\n",
              "      <td>2015-09</td>\n",
              "      <td>Fruits &amp; Vegetables</td>\n",
              "    </tr>\n",
              "    <tr>\n",
              "      <th>3</th>\n",
              "      <td>1187</td>\n",
              "      <td>2015-12</td>\n",
              "      <td>Fruits &amp; Vegetables</td>\n",
              "    </tr>\n",
              "    <tr>\n",
              "      <th>4</th>\n",
              "      <td>3037</td>\n",
              "      <td>2015-02</td>\n",
              "      <td>Milk Products</td>\n",
              "    </tr>\n",
              "    <tr>\n",
              "      <th>...</th>\n",
              "      <td>...</td>\n",
              "      <td>...</td>\n",
              "      <td>...</td>\n",
              "    </tr>\n",
              "    <tr>\n",
              "      <th>38760</th>\n",
              "      <td>4471</td>\n",
              "      <td>2014-10</td>\n",
              "      <td>Milk Products</td>\n",
              "    </tr>\n",
              "    <tr>\n",
              "      <th>38761</th>\n",
              "      <td>2022</td>\n",
              "      <td>23-02-2014</td>\n",
              "      <td>Sweet food products</td>\n",
              "    </tr>\n",
              "    <tr>\n",
              "      <th>38762</th>\n",
              "      <td>1097</td>\n",
              "      <td>16-04-2014</td>\n",
              "      <td>Snack food Products</td>\n",
              "    </tr>\n",
              "    <tr>\n",
              "      <th>38763</th>\n",
              "      <td>1510</td>\n",
              "      <td>2014-12</td>\n",
              "      <td>Fruits &amp; Vegetables</td>\n",
              "    </tr>\n",
              "    <tr>\n",
              "      <th>38764</th>\n",
              "      <td>1521</td>\n",
              "      <td>2014-12</td>\n",
              "      <td>Non-food products</td>\n",
              "    </tr>\n",
              "  </tbody>\n",
              "</table>\n",
              "<p>38765 rows × 3 columns</p>\n",
              "</div>"
            ],
            "text/plain": [
              "       Member_number        Date      itemDescription\n",
              "0               1808     2015-07  Fruits & Vegetables\n",
              "1               2552     2015-01        Milk Products\n",
              "2               2300     2015-09  Fruits & Vegetables\n",
              "3               1187     2015-12  Fruits & Vegetables\n",
              "4               3037     2015-02        Milk Products\n",
              "...              ...         ...                  ...\n",
              "38760           4471     2014-10        Milk Products\n",
              "38761           2022  23-02-2014  Sweet food products\n",
              "38762           1097  16-04-2014  Snack food Products\n",
              "38763           1510     2014-12  Fruits & Vegetables\n",
              "38764           1521     2014-12    Non-food products\n",
              "\n",
              "[38765 rows x 3 columns]"
            ]
          },
          "metadata": {
            "tags": []
          },
          "execution_count": 82
        }
      ]
    },
    {
      "cell_type": "code",
      "metadata": {
        "colab": {
          "base_uri": "https://localhost:8080/",
          "height": 408
        },
        "id": "J78Qh7GiMGTU",
        "outputId": "03de6a01-6b1e-48c3-f503-025a1de5abc7"
      },
      "source": [
        "data31=data30.replace(to_replace =['01-05-2014','02-05-2014','03-05-2014','04-05-2014','05-05-2014',\n",
        "'06-05-2014','07-05-2014','08-05-2014','09-05-2014','10-05-2014',\n",
        "'11-05-2014','12-05-2014','13-05-2014','14-05-2014', '15-05-2014',\n",
        "'16-05-2014','17-05-2014','18-05-2014','19-05-2014','20-05-2014',\n",
        "'21-05-2014','22-05-2014','23-05-2014','24-05-2014','25-05-2014',\n",
        "'26-05-2014','27-05-2014','28-05-2014','29-05-2014','30-05-2014','31-05-2014' ], \n",
        "                            value =\"2014-05\")\n",
        "\n",
        "data31"
      ],
      "execution_count": 83,
      "outputs": [
        {
          "output_type": "execute_result",
          "data": {
            "text/html": [
              "<div>\n",
              "<style scoped>\n",
              "    .dataframe tbody tr th:only-of-type {\n",
              "        vertical-align: middle;\n",
              "    }\n",
              "\n",
              "    .dataframe tbody tr th {\n",
              "        vertical-align: top;\n",
              "    }\n",
              "\n",
              "    .dataframe thead th {\n",
              "        text-align: right;\n",
              "    }\n",
              "</style>\n",
              "<table border=\"1\" class=\"dataframe\">\n",
              "  <thead>\n",
              "    <tr style=\"text-align: right;\">\n",
              "      <th></th>\n",
              "      <th>Member_number</th>\n",
              "      <th>Date</th>\n",
              "      <th>itemDescription</th>\n",
              "    </tr>\n",
              "  </thead>\n",
              "  <tbody>\n",
              "    <tr>\n",
              "      <th>0</th>\n",
              "      <td>1808</td>\n",
              "      <td>2015-07</td>\n",
              "      <td>Fruits &amp; Vegetables</td>\n",
              "    </tr>\n",
              "    <tr>\n",
              "      <th>1</th>\n",
              "      <td>2552</td>\n",
              "      <td>2015-01</td>\n",
              "      <td>Milk Products</td>\n",
              "    </tr>\n",
              "    <tr>\n",
              "      <th>2</th>\n",
              "      <td>2300</td>\n",
              "      <td>2015-09</td>\n",
              "      <td>Fruits &amp; Vegetables</td>\n",
              "    </tr>\n",
              "    <tr>\n",
              "      <th>3</th>\n",
              "      <td>1187</td>\n",
              "      <td>2015-12</td>\n",
              "      <td>Fruits &amp; Vegetables</td>\n",
              "    </tr>\n",
              "    <tr>\n",
              "      <th>4</th>\n",
              "      <td>3037</td>\n",
              "      <td>2015-02</td>\n",
              "      <td>Milk Products</td>\n",
              "    </tr>\n",
              "    <tr>\n",
              "      <th>...</th>\n",
              "      <td>...</td>\n",
              "      <td>...</td>\n",
              "      <td>...</td>\n",
              "    </tr>\n",
              "    <tr>\n",
              "      <th>38760</th>\n",
              "      <td>4471</td>\n",
              "      <td>2014-10</td>\n",
              "      <td>Milk Products</td>\n",
              "    </tr>\n",
              "    <tr>\n",
              "      <th>38761</th>\n",
              "      <td>2022</td>\n",
              "      <td>23-02-2014</td>\n",
              "      <td>Sweet food products</td>\n",
              "    </tr>\n",
              "    <tr>\n",
              "      <th>38762</th>\n",
              "      <td>1097</td>\n",
              "      <td>16-04-2014</td>\n",
              "      <td>Snack food Products</td>\n",
              "    </tr>\n",
              "    <tr>\n",
              "      <th>38763</th>\n",
              "      <td>1510</td>\n",
              "      <td>2014-12</td>\n",
              "      <td>Fruits &amp; Vegetables</td>\n",
              "    </tr>\n",
              "    <tr>\n",
              "      <th>38764</th>\n",
              "      <td>1521</td>\n",
              "      <td>2014-12</td>\n",
              "      <td>Non-food products</td>\n",
              "    </tr>\n",
              "  </tbody>\n",
              "</table>\n",
              "<p>38765 rows × 3 columns</p>\n",
              "</div>"
            ],
            "text/plain": [
              "       Member_number        Date      itemDescription\n",
              "0               1808     2015-07  Fruits & Vegetables\n",
              "1               2552     2015-01        Milk Products\n",
              "2               2300     2015-09  Fruits & Vegetables\n",
              "3               1187     2015-12  Fruits & Vegetables\n",
              "4               3037     2015-02        Milk Products\n",
              "...              ...         ...                  ...\n",
              "38760           4471     2014-10        Milk Products\n",
              "38761           2022  23-02-2014  Sweet food products\n",
              "38762           1097  16-04-2014  Snack food Products\n",
              "38763           1510     2014-12  Fruits & Vegetables\n",
              "38764           1521     2014-12    Non-food products\n",
              "\n",
              "[38765 rows x 3 columns]"
            ]
          },
          "metadata": {
            "tags": []
          },
          "execution_count": 83
        }
      ]
    },
    {
      "cell_type": "code",
      "metadata": {
        "colab": {
          "base_uri": "https://localhost:8080/",
          "height": 408
        },
        "id": "vxk7HrosMkEj",
        "outputId": "917496f7-30b9-4efe-8a31-1baa02e9012b"
      },
      "source": [
        "data32=data31.replace(to_replace =['01-04-2014','02-04-2014','03-04-2014','04-04-2014','05-04-2014',\n",
        "'06-04-2014','07-04-2014','08-04-2014','09-04-2014','10-04-2014',\n",
        "'11-04-2014','12-04-2014','13-04-2014','14-04-2014', '15-04-2014',\n",
        "'16-04-2014','17-04-2014','18-04-2014','19-04-2014','20-04-2014',\n",
        "'21-04-2014','22-04-2014','23-04-2014','24-04-2014','25-04-2014',\n",
        "'26-04-2014','27-04-2014','28-04-2014','29-04-2014','30-04-2014' ], \n",
        "                            value =\"2014-04\")\n",
        "\n",
        "data32"
      ],
      "execution_count": 84,
      "outputs": [
        {
          "output_type": "execute_result",
          "data": {
            "text/html": [
              "<div>\n",
              "<style scoped>\n",
              "    .dataframe tbody tr th:only-of-type {\n",
              "        vertical-align: middle;\n",
              "    }\n",
              "\n",
              "    .dataframe tbody tr th {\n",
              "        vertical-align: top;\n",
              "    }\n",
              "\n",
              "    .dataframe thead th {\n",
              "        text-align: right;\n",
              "    }\n",
              "</style>\n",
              "<table border=\"1\" class=\"dataframe\">\n",
              "  <thead>\n",
              "    <tr style=\"text-align: right;\">\n",
              "      <th></th>\n",
              "      <th>Member_number</th>\n",
              "      <th>Date</th>\n",
              "      <th>itemDescription</th>\n",
              "    </tr>\n",
              "  </thead>\n",
              "  <tbody>\n",
              "    <tr>\n",
              "      <th>0</th>\n",
              "      <td>1808</td>\n",
              "      <td>2015-07</td>\n",
              "      <td>Fruits &amp; Vegetables</td>\n",
              "    </tr>\n",
              "    <tr>\n",
              "      <th>1</th>\n",
              "      <td>2552</td>\n",
              "      <td>2015-01</td>\n",
              "      <td>Milk Products</td>\n",
              "    </tr>\n",
              "    <tr>\n",
              "      <th>2</th>\n",
              "      <td>2300</td>\n",
              "      <td>2015-09</td>\n",
              "      <td>Fruits &amp; Vegetables</td>\n",
              "    </tr>\n",
              "    <tr>\n",
              "      <th>3</th>\n",
              "      <td>1187</td>\n",
              "      <td>2015-12</td>\n",
              "      <td>Fruits &amp; Vegetables</td>\n",
              "    </tr>\n",
              "    <tr>\n",
              "      <th>4</th>\n",
              "      <td>3037</td>\n",
              "      <td>2015-02</td>\n",
              "      <td>Milk Products</td>\n",
              "    </tr>\n",
              "    <tr>\n",
              "      <th>...</th>\n",
              "      <td>...</td>\n",
              "      <td>...</td>\n",
              "      <td>...</td>\n",
              "    </tr>\n",
              "    <tr>\n",
              "      <th>38760</th>\n",
              "      <td>4471</td>\n",
              "      <td>2014-10</td>\n",
              "      <td>Milk Products</td>\n",
              "    </tr>\n",
              "    <tr>\n",
              "      <th>38761</th>\n",
              "      <td>2022</td>\n",
              "      <td>23-02-2014</td>\n",
              "      <td>Sweet food products</td>\n",
              "    </tr>\n",
              "    <tr>\n",
              "      <th>38762</th>\n",
              "      <td>1097</td>\n",
              "      <td>2014-04</td>\n",
              "      <td>Snack food Products</td>\n",
              "    </tr>\n",
              "    <tr>\n",
              "      <th>38763</th>\n",
              "      <td>1510</td>\n",
              "      <td>2014-12</td>\n",
              "      <td>Fruits &amp; Vegetables</td>\n",
              "    </tr>\n",
              "    <tr>\n",
              "      <th>38764</th>\n",
              "      <td>1521</td>\n",
              "      <td>2014-12</td>\n",
              "      <td>Non-food products</td>\n",
              "    </tr>\n",
              "  </tbody>\n",
              "</table>\n",
              "<p>38765 rows × 3 columns</p>\n",
              "</div>"
            ],
            "text/plain": [
              "       Member_number        Date      itemDescription\n",
              "0               1808     2015-07  Fruits & Vegetables\n",
              "1               2552     2015-01        Milk Products\n",
              "2               2300     2015-09  Fruits & Vegetables\n",
              "3               1187     2015-12  Fruits & Vegetables\n",
              "4               3037     2015-02        Milk Products\n",
              "...              ...         ...                  ...\n",
              "38760           4471     2014-10        Milk Products\n",
              "38761           2022  23-02-2014  Sweet food products\n",
              "38762           1097     2014-04  Snack food Products\n",
              "38763           1510     2014-12  Fruits & Vegetables\n",
              "38764           1521     2014-12    Non-food products\n",
              "\n",
              "[38765 rows x 3 columns]"
            ]
          },
          "metadata": {
            "tags": []
          },
          "execution_count": 84
        }
      ]
    },
    {
      "cell_type": "code",
      "metadata": {
        "colab": {
          "base_uri": "https://localhost:8080/",
          "height": 408
        },
        "id": "jVgG3enFMvFY",
        "outputId": "4a6c87fd-78ba-43dc-e8c6-d699ad07bdce"
      },
      "source": [
        "data33=data32.replace(to_replace =['01-03-2014','02-03-2014','03-03-2014','04-03-2014','05-03-2014',\n",
        "'06-03-2014','07-03-2014','08-03-2014','09-03-2014','10-03-2014',\n",
        "'11-03-2014','12-03-2014','13-03-2014','14-03-2014', '15-03-2014',\n",
        "'16-03-2014','17-03-2014','18-03-2014','19-03-2014','20-03-2014',\n",
        "'21-03-2014','22-03-2014','23-03-2014','24-03-2014','25-03-2014',\n",
        "'26-03-2014','27-03-2014','28-03-2014','29-03-2014','30-03-2014','31-03-2014' ], \n",
        "                            value =\"2014-03\")\n",
        "\n",
        "data33"
      ],
      "execution_count": 85,
      "outputs": [
        {
          "output_type": "execute_result",
          "data": {
            "text/html": [
              "<div>\n",
              "<style scoped>\n",
              "    .dataframe tbody tr th:only-of-type {\n",
              "        vertical-align: middle;\n",
              "    }\n",
              "\n",
              "    .dataframe tbody tr th {\n",
              "        vertical-align: top;\n",
              "    }\n",
              "\n",
              "    .dataframe thead th {\n",
              "        text-align: right;\n",
              "    }\n",
              "</style>\n",
              "<table border=\"1\" class=\"dataframe\">\n",
              "  <thead>\n",
              "    <tr style=\"text-align: right;\">\n",
              "      <th></th>\n",
              "      <th>Member_number</th>\n",
              "      <th>Date</th>\n",
              "      <th>itemDescription</th>\n",
              "    </tr>\n",
              "  </thead>\n",
              "  <tbody>\n",
              "    <tr>\n",
              "      <th>0</th>\n",
              "      <td>1808</td>\n",
              "      <td>2015-07</td>\n",
              "      <td>Fruits &amp; Vegetables</td>\n",
              "    </tr>\n",
              "    <tr>\n",
              "      <th>1</th>\n",
              "      <td>2552</td>\n",
              "      <td>2015-01</td>\n",
              "      <td>Milk Products</td>\n",
              "    </tr>\n",
              "    <tr>\n",
              "      <th>2</th>\n",
              "      <td>2300</td>\n",
              "      <td>2015-09</td>\n",
              "      <td>Fruits &amp; Vegetables</td>\n",
              "    </tr>\n",
              "    <tr>\n",
              "      <th>3</th>\n",
              "      <td>1187</td>\n",
              "      <td>2015-12</td>\n",
              "      <td>Fruits &amp; Vegetables</td>\n",
              "    </tr>\n",
              "    <tr>\n",
              "      <th>4</th>\n",
              "      <td>3037</td>\n",
              "      <td>2015-02</td>\n",
              "      <td>Milk Products</td>\n",
              "    </tr>\n",
              "    <tr>\n",
              "      <th>...</th>\n",
              "      <td>...</td>\n",
              "      <td>...</td>\n",
              "      <td>...</td>\n",
              "    </tr>\n",
              "    <tr>\n",
              "      <th>38760</th>\n",
              "      <td>4471</td>\n",
              "      <td>2014-10</td>\n",
              "      <td>Milk Products</td>\n",
              "    </tr>\n",
              "    <tr>\n",
              "      <th>38761</th>\n",
              "      <td>2022</td>\n",
              "      <td>23-02-2014</td>\n",
              "      <td>Sweet food products</td>\n",
              "    </tr>\n",
              "    <tr>\n",
              "      <th>38762</th>\n",
              "      <td>1097</td>\n",
              "      <td>2014-04</td>\n",
              "      <td>Snack food Products</td>\n",
              "    </tr>\n",
              "    <tr>\n",
              "      <th>38763</th>\n",
              "      <td>1510</td>\n",
              "      <td>2014-12</td>\n",
              "      <td>Fruits &amp; Vegetables</td>\n",
              "    </tr>\n",
              "    <tr>\n",
              "      <th>38764</th>\n",
              "      <td>1521</td>\n",
              "      <td>2014-12</td>\n",
              "      <td>Non-food products</td>\n",
              "    </tr>\n",
              "  </tbody>\n",
              "</table>\n",
              "<p>38765 rows × 3 columns</p>\n",
              "</div>"
            ],
            "text/plain": [
              "       Member_number        Date      itemDescription\n",
              "0               1808     2015-07  Fruits & Vegetables\n",
              "1               2552     2015-01        Milk Products\n",
              "2               2300     2015-09  Fruits & Vegetables\n",
              "3               1187     2015-12  Fruits & Vegetables\n",
              "4               3037     2015-02        Milk Products\n",
              "...              ...         ...                  ...\n",
              "38760           4471     2014-10        Milk Products\n",
              "38761           2022  23-02-2014  Sweet food products\n",
              "38762           1097     2014-04  Snack food Products\n",
              "38763           1510     2014-12  Fruits & Vegetables\n",
              "38764           1521     2014-12    Non-food products\n",
              "\n",
              "[38765 rows x 3 columns]"
            ]
          },
          "metadata": {
            "tags": []
          },
          "execution_count": 85
        }
      ]
    },
    {
      "cell_type": "code",
      "metadata": {
        "colab": {
          "base_uri": "https://localhost:8080/",
          "height": 408
        },
        "id": "JQtS2vFTM1nI",
        "outputId": "7c602e1a-7be7-4e0a-f405-d978b26ac807"
      },
      "source": [
        "data34=data33.replace(to_replace =['01-02-2014','02-02-2014','03-02-2014','04-02-2014','05-02-2014',\n",
        "'06-02-2014','07-02-2014','08-02-2014','09-02-2014','10-02-2014',\n",
        "'11-02-2014','12-02-2014','13-02-2014','14-02-2014', '15-02-2014',\n",
        "'16-02-2014','17-02-2014','18-02-2014','19-02-2014','20-02-2014',\n",
        "'21-02-2014','22-02-2014','23-02-2014','24-02-2014','25-02-2014',\n",
        "'26-02-2014','27-02-2014','28-02-2014','29-02-2014'], \n",
        "                            value =\"2014-02\")\n",
        "\n",
        "data34"
      ],
      "execution_count": 86,
      "outputs": [
        {
          "output_type": "execute_result",
          "data": {
            "text/html": [
              "<div>\n",
              "<style scoped>\n",
              "    .dataframe tbody tr th:only-of-type {\n",
              "        vertical-align: middle;\n",
              "    }\n",
              "\n",
              "    .dataframe tbody tr th {\n",
              "        vertical-align: top;\n",
              "    }\n",
              "\n",
              "    .dataframe thead th {\n",
              "        text-align: right;\n",
              "    }\n",
              "</style>\n",
              "<table border=\"1\" class=\"dataframe\">\n",
              "  <thead>\n",
              "    <tr style=\"text-align: right;\">\n",
              "      <th></th>\n",
              "      <th>Member_number</th>\n",
              "      <th>Date</th>\n",
              "      <th>itemDescription</th>\n",
              "    </tr>\n",
              "  </thead>\n",
              "  <tbody>\n",
              "    <tr>\n",
              "      <th>0</th>\n",
              "      <td>1808</td>\n",
              "      <td>2015-07</td>\n",
              "      <td>Fruits &amp; Vegetables</td>\n",
              "    </tr>\n",
              "    <tr>\n",
              "      <th>1</th>\n",
              "      <td>2552</td>\n",
              "      <td>2015-01</td>\n",
              "      <td>Milk Products</td>\n",
              "    </tr>\n",
              "    <tr>\n",
              "      <th>2</th>\n",
              "      <td>2300</td>\n",
              "      <td>2015-09</td>\n",
              "      <td>Fruits &amp; Vegetables</td>\n",
              "    </tr>\n",
              "    <tr>\n",
              "      <th>3</th>\n",
              "      <td>1187</td>\n",
              "      <td>2015-12</td>\n",
              "      <td>Fruits &amp; Vegetables</td>\n",
              "    </tr>\n",
              "    <tr>\n",
              "      <th>4</th>\n",
              "      <td>3037</td>\n",
              "      <td>2015-02</td>\n",
              "      <td>Milk Products</td>\n",
              "    </tr>\n",
              "    <tr>\n",
              "      <th>...</th>\n",
              "      <td>...</td>\n",
              "      <td>...</td>\n",
              "      <td>...</td>\n",
              "    </tr>\n",
              "    <tr>\n",
              "      <th>38760</th>\n",
              "      <td>4471</td>\n",
              "      <td>2014-10</td>\n",
              "      <td>Milk Products</td>\n",
              "    </tr>\n",
              "    <tr>\n",
              "      <th>38761</th>\n",
              "      <td>2022</td>\n",
              "      <td>2014-02</td>\n",
              "      <td>Sweet food products</td>\n",
              "    </tr>\n",
              "    <tr>\n",
              "      <th>38762</th>\n",
              "      <td>1097</td>\n",
              "      <td>2014-04</td>\n",
              "      <td>Snack food Products</td>\n",
              "    </tr>\n",
              "    <tr>\n",
              "      <th>38763</th>\n",
              "      <td>1510</td>\n",
              "      <td>2014-12</td>\n",
              "      <td>Fruits &amp; Vegetables</td>\n",
              "    </tr>\n",
              "    <tr>\n",
              "      <th>38764</th>\n",
              "      <td>1521</td>\n",
              "      <td>2014-12</td>\n",
              "      <td>Non-food products</td>\n",
              "    </tr>\n",
              "  </tbody>\n",
              "</table>\n",
              "<p>38765 rows × 3 columns</p>\n",
              "</div>"
            ],
            "text/plain": [
              "       Member_number     Date      itemDescription\n",
              "0               1808  2015-07  Fruits & Vegetables\n",
              "1               2552  2015-01        Milk Products\n",
              "2               2300  2015-09  Fruits & Vegetables\n",
              "3               1187  2015-12  Fruits & Vegetables\n",
              "4               3037  2015-02        Milk Products\n",
              "...              ...      ...                  ...\n",
              "38760           4471  2014-10        Milk Products\n",
              "38761           2022  2014-02  Sweet food products\n",
              "38762           1097  2014-04  Snack food Products\n",
              "38763           1510  2014-12  Fruits & Vegetables\n",
              "38764           1521  2014-12    Non-food products\n",
              "\n",
              "[38765 rows x 3 columns]"
            ]
          },
          "metadata": {
            "tags": []
          },
          "execution_count": 86
        }
      ]
    },
    {
      "cell_type": "markdown",
      "metadata": {
        "id": "BvqFkj1EAmYU"
      },
      "source": [
        "## Data is prepared and ready for visualizations."
      ]
    },
    {
      "cell_type": "markdown",
      "metadata": {
        "id": "evNGe52lmsZr"
      },
      "source": [
        "### Lets have a look at prepared data:"
      ]
    },
    {
      "cell_type": "code",
      "metadata": {
        "colab": {
          "base_uri": "https://localhost:8080/",
          "height": 408
        },
        "id": "Y4_UNQbQOy18",
        "outputId": "bfb0a7c2-fbee-40c2-ab2b-32b0c58cf765"
      },
      "source": [
        "data34"
      ],
      "execution_count": 87,
      "outputs": [
        {
          "output_type": "execute_result",
          "data": {
            "text/html": [
              "<div>\n",
              "<style scoped>\n",
              "    .dataframe tbody tr th:only-of-type {\n",
              "        vertical-align: middle;\n",
              "    }\n",
              "\n",
              "    .dataframe tbody tr th {\n",
              "        vertical-align: top;\n",
              "    }\n",
              "\n",
              "    .dataframe thead th {\n",
              "        text-align: right;\n",
              "    }\n",
              "</style>\n",
              "<table border=\"1\" class=\"dataframe\">\n",
              "  <thead>\n",
              "    <tr style=\"text-align: right;\">\n",
              "      <th></th>\n",
              "      <th>Member_number</th>\n",
              "      <th>Date</th>\n",
              "      <th>itemDescription</th>\n",
              "    </tr>\n",
              "  </thead>\n",
              "  <tbody>\n",
              "    <tr>\n",
              "      <th>0</th>\n",
              "      <td>1808</td>\n",
              "      <td>2015-07</td>\n",
              "      <td>Fruits &amp; Vegetables</td>\n",
              "    </tr>\n",
              "    <tr>\n",
              "      <th>1</th>\n",
              "      <td>2552</td>\n",
              "      <td>2015-01</td>\n",
              "      <td>Milk Products</td>\n",
              "    </tr>\n",
              "    <tr>\n",
              "      <th>2</th>\n",
              "      <td>2300</td>\n",
              "      <td>2015-09</td>\n",
              "      <td>Fruits &amp; Vegetables</td>\n",
              "    </tr>\n",
              "    <tr>\n",
              "      <th>3</th>\n",
              "      <td>1187</td>\n",
              "      <td>2015-12</td>\n",
              "      <td>Fruits &amp; Vegetables</td>\n",
              "    </tr>\n",
              "    <tr>\n",
              "      <th>4</th>\n",
              "      <td>3037</td>\n",
              "      <td>2015-02</td>\n",
              "      <td>Milk Products</td>\n",
              "    </tr>\n",
              "    <tr>\n",
              "      <th>...</th>\n",
              "      <td>...</td>\n",
              "      <td>...</td>\n",
              "      <td>...</td>\n",
              "    </tr>\n",
              "    <tr>\n",
              "      <th>38760</th>\n",
              "      <td>4471</td>\n",
              "      <td>2014-10</td>\n",
              "      <td>Milk Products</td>\n",
              "    </tr>\n",
              "    <tr>\n",
              "      <th>38761</th>\n",
              "      <td>2022</td>\n",
              "      <td>2014-02</td>\n",
              "      <td>Sweet food products</td>\n",
              "    </tr>\n",
              "    <tr>\n",
              "      <th>38762</th>\n",
              "      <td>1097</td>\n",
              "      <td>2014-04</td>\n",
              "      <td>Snack food Products</td>\n",
              "    </tr>\n",
              "    <tr>\n",
              "      <th>38763</th>\n",
              "      <td>1510</td>\n",
              "      <td>2014-12</td>\n",
              "      <td>Fruits &amp; Vegetables</td>\n",
              "    </tr>\n",
              "    <tr>\n",
              "      <th>38764</th>\n",
              "      <td>1521</td>\n",
              "      <td>2014-12</td>\n",
              "      <td>Non-food products</td>\n",
              "    </tr>\n",
              "  </tbody>\n",
              "</table>\n",
              "<p>38765 rows × 3 columns</p>\n",
              "</div>"
            ],
            "text/plain": [
              "       Member_number     Date      itemDescription\n",
              "0               1808  2015-07  Fruits & Vegetables\n",
              "1               2552  2015-01        Milk Products\n",
              "2               2300  2015-09  Fruits & Vegetables\n",
              "3               1187  2015-12  Fruits & Vegetables\n",
              "4               3037  2015-02        Milk Products\n",
              "...              ...      ...                  ...\n",
              "38760           4471  2014-10        Milk Products\n",
              "38761           2022  2014-02  Sweet food products\n",
              "38762           1097  2014-04  Snack food Products\n",
              "38763           1510  2014-12  Fruits & Vegetables\n",
              "38764           1521  2014-12    Non-food products\n",
              "\n",
              "[38765 rows x 3 columns]"
            ]
          },
          "metadata": {
            "tags": []
          },
          "execution_count": 87
        }
      ]
    },
    {
      "cell_type": "code",
      "metadata": {
        "colab": {
          "base_uri": "https://localhost:8080/"
        },
        "id": "sZ0a9HMcO10k",
        "outputId": "1890cfaf-7a9d-4e6f-fddb-b82b955a1fa4"
      },
      "source": [
        "data34['Date'].nunique()"
      ],
      "execution_count": 88,
      "outputs": [
        {
          "output_type": "execute_result",
          "data": {
            "text/plain": [
              "24"
            ]
          },
          "metadata": {
            "tags": []
          },
          "execution_count": 88
        }
      ]
    },
    {
      "cell_type": "code",
      "metadata": {
        "colab": {
          "base_uri": "https://localhost:8080/"
        },
        "id": "hnEUEkojO-6f",
        "outputId": "99c1ed78-a7df-43d9-8a36-7b21f0f35a6a"
      },
      "source": [
        "data34['Date'].unique()"
      ],
      "execution_count": 89,
      "outputs": [
        {
          "output_type": "execute_result",
          "data": {
            "text/plain": [
              "array(['2015-07', '2015-01', '2015-09', '2015-12', '2015-02', '2015-05',\n",
              "       '2015-03', '2015-04', '2015-08', '2015-11', '2015-06', '2015-10',\n",
              "       '2014-10', '2014-12', '2014-11', '2014-08', '2014-06', '2014-05',\n",
              "       '2014-02', '2014-04', '2014-07', '2014-01', '2014-03', '2014-09'],\n",
              "      dtype=object)"
            ]
          },
          "metadata": {
            "tags": []
          },
          "execution_count": 89
        }
      ]
    },
    {
      "cell_type": "code",
      "metadata": {
        "colab": {
          "base_uri": "https://localhost:8080/"
        },
        "id": "DRuAdiORAtf7",
        "outputId": "dbdddfc0-3b33-4312-a938-5cf60fa3325e"
      },
      "source": [
        "data34['Date'].value_counts()"
      ],
      "execution_count": 90,
      "outputs": [
        {
          "output_type": "execute_result",
          "data": {
            "text/plain": [
              "2015-08    1921\n",
              "2015-01    1797\n",
              "2015-05    1793\n",
              "2015-11    1785\n",
              "2015-07    1724\n",
              "2015-03    1722\n",
              "2015-04    1699\n",
              "2015-06    1694\n",
              "2015-10    1670\n",
              "2014-05    1615\n",
              "2014-10    1591\n",
              "2015-09    1587\n",
              "2014-07    1576\n",
              "2014-08    1575\n",
              "2014-06    1570\n",
              "2014-04    1561\n",
              "2015-02    1560\n",
              "2015-12    1536\n",
              "2014-01    1527\n",
              "2014-12    1473\n",
              "2014-09    1472\n",
              "2014-11    1469\n",
              "2014-02    1437\n",
              "2014-03    1411\n",
              "Name: Date, dtype: int64"
            ]
          },
          "metadata": {
            "tags": []
          },
          "execution_count": 90
        }
      ]
    },
    {
      "cell_type": "code",
      "metadata": {
        "colab": {
          "base_uri": "https://localhost:8080/"
        },
        "id": "Ul9orx2CQJNW",
        "outputId": "45f3129c-bf94-45af-dffc-197b6b950bf0"
      },
      "source": [
        "data34['Date'].value_counts().sort_index(ascending=True)"
      ],
      "execution_count": 91,
      "outputs": [
        {
          "output_type": "execute_result",
          "data": {
            "text/plain": [
              "2014-01    1527\n",
              "2014-02    1437\n",
              "2014-03    1411\n",
              "2014-04    1561\n",
              "2014-05    1615\n",
              "2014-06    1570\n",
              "2014-07    1576\n",
              "2014-08    1575\n",
              "2014-09    1472\n",
              "2014-10    1591\n",
              "2014-11    1469\n",
              "2014-12    1473\n",
              "2015-01    1797\n",
              "2015-02    1560\n",
              "2015-03    1722\n",
              "2015-04    1699\n",
              "2015-05    1793\n",
              "2015-06    1694\n",
              "2015-07    1724\n",
              "2015-08    1921\n",
              "2015-09    1587\n",
              "2015-10    1670\n",
              "2015-11    1785\n",
              "2015-12    1536\n",
              "Name: Date, dtype: int64"
            ]
          },
          "metadata": {
            "tags": []
          },
          "execution_count": 91
        }
      ]
    },
    {
      "cell_type": "code",
      "metadata": {
        "colab": {
          "base_uri": "https://localhost:8080/"
        },
        "id": "Yh42tm9YQSRc",
        "outputId": "b2eaf002-3b76-4012-dd6c-3944a27055ce"
      },
      "source": [
        "data34['itemDescription'].value_counts()"
      ],
      "execution_count": 92,
      "outputs": [
        {
          "output_type": "execute_result",
          "data": {
            "text/plain": [
              "Milk Products                   7542\n",
              "Fruits & Vegetables             7473\n",
              "Bakery Products                 5632\n",
              "Coffee, Tea & Beverages         5590\n",
              "Non-food products               4658\n",
              "Non-vegetarian food products    2459\n",
              "Basic food products             1816\n",
              "Snack food Products             1619\n",
              "Sweet food products             1028\n",
              "Frozen food Products             948\n",
              "Name: itemDescription, dtype: int64"
            ]
          },
          "metadata": {
            "tags": []
          },
          "execution_count": 92
        }
      ]
    },
    {
      "cell_type": "code",
      "metadata": {
        "colab": {
          "base_uri": "https://localhost:8080/"
        },
        "id": "hqa5QW9nQdPm",
        "outputId": "4fbaefb6-342c-4684-a069-733da80bf9c9"
      },
      "source": [
        "data10['itemDescription'].value_counts().sort_index(ascending=True)"
      ],
      "execution_count": 93,
      "outputs": [
        {
          "output_type": "execute_result",
          "data": {
            "text/plain": [
              "Bakery Products                 5632\n",
              "Basic food products             1816\n",
              "Coffee, Tea & Beverages         5590\n",
              "Frozen food Products             948\n",
              "Fruits & Vegetables             7473\n",
              "Milk Products                   7542\n",
              "Non-food products               4658\n",
              "Non-vegetarian food products    2459\n",
              "Snack food Products             1619\n",
              "Sweet food products             1028\n",
              "Name: itemDescription, dtype: int64"
            ]
          },
          "metadata": {
            "tags": []
          },
          "execution_count": 93
        }
      ]
    },
    {
      "cell_type": "code",
      "metadata": {
        "colab": {
          "base_uri": "https://localhost:8080/",
          "height": 408
        },
        "id": "PvS0UxrAKs_p",
        "outputId": "5754b730-0a3d-453e-a4d8-0d19ceed6d25"
      },
      "source": [
        "data34"
      ],
      "execution_count": 94,
      "outputs": [
        {
          "output_type": "execute_result",
          "data": {
            "text/html": [
              "<div>\n",
              "<style scoped>\n",
              "    .dataframe tbody tr th:only-of-type {\n",
              "        vertical-align: middle;\n",
              "    }\n",
              "\n",
              "    .dataframe tbody tr th {\n",
              "        vertical-align: top;\n",
              "    }\n",
              "\n",
              "    .dataframe thead th {\n",
              "        text-align: right;\n",
              "    }\n",
              "</style>\n",
              "<table border=\"1\" class=\"dataframe\">\n",
              "  <thead>\n",
              "    <tr style=\"text-align: right;\">\n",
              "      <th></th>\n",
              "      <th>Member_number</th>\n",
              "      <th>Date</th>\n",
              "      <th>itemDescription</th>\n",
              "    </tr>\n",
              "  </thead>\n",
              "  <tbody>\n",
              "    <tr>\n",
              "      <th>0</th>\n",
              "      <td>1808</td>\n",
              "      <td>2015-07</td>\n",
              "      <td>Fruits &amp; Vegetables</td>\n",
              "    </tr>\n",
              "    <tr>\n",
              "      <th>1</th>\n",
              "      <td>2552</td>\n",
              "      <td>2015-01</td>\n",
              "      <td>Milk Products</td>\n",
              "    </tr>\n",
              "    <tr>\n",
              "      <th>2</th>\n",
              "      <td>2300</td>\n",
              "      <td>2015-09</td>\n",
              "      <td>Fruits &amp; Vegetables</td>\n",
              "    </tr>\n",
              "    <tr>\n",
              "      <th>3</th>\n",
              "      <td>1187</td>\n",
              "      <td>2015-12</td>\n",
              "      <td>Fruits &amp; Vegetables</td>\n",
              "    </tr>\n",
              "    <tr>\n",
              "      <th>4</th>\n",
              "      <td>3037</td>\n",
              "      <td>2015-02</td>\n",
              "      <td>Milk Products</td>\n",
              "    </tr>\n",
              "    <tr>\n",
              "      <th>...</th>\n",
              "      <td>...</td>\n",
              "      <td>...</td>\n",
              "      <td>...</td>\n",
              "    </tr>\n",
              "    <tr>\n",
              "      <th>38760</th>\n",
              "      <td>4471</td>\n",
              "      <td>2014-10</td>\n",
              "      <td>Milk Products</td>\n",
              "    </tr>\n",
              "    <tr>\n",
              "      <th>38761</th>\n",
              "      <td>2022</td>\n",
              "      <td>2014-02</td>\n",
              "      <td>Sweet food products</td>\n",
              "    </tr>\n",
              "    <tr>\n",
              "      <th>38762</th>\n",
              "      <td>1097</td>\n",
              "      <td>2014-04</td>\n",
              "      <td>Snack food Products</td>\n",
              "    </tr>\n",
              "    <tr>\n",
              "      <th>38763</th>\n",
              "      <td>1510</td>\n",
              "      <td>2014-12</td>\n",
              "      <td>Fruits &amp; Vegetables</td>\n",
              "    </tr>\n",
              "    <tr>\n",
              "      <th>38764</th>\n",
              "      <td>1521</td>\n",
              "      <td>2014-12</td>\n",
              "      <td>Non-food products</td>\n",
              "    </tr>\n",
              "  </tbody>\n",
              "</table>\n",
              "<p>38765 rows × 3 columns</p>\n",
              "</div>"
            ],
            "text/plain": [
              "       Member_number     Date      itemDescription\n",
              "0               1808  2015-07  Fruits & Vegetables\n",
              "1               2552  2015-01        Milk Products\n",
              "2               2300  2015-09  Fruits & Vegetables\n",
              "3               1187  2015-12  Fruits & Vegetables\n",
              "4               3037  2015-02        Milk Products\n",
              "...              ...      ...                  ...\n",
              "38760           4471  2014-10        Milk Products\n",
              "38761           2022  2014-02  Sweet food products\n",
              "38762           1097  2014-04  Snack food Products\n",
              "38763           1510  2014-12  Fruits & Vegetables\n",
              "38764           1521  2014-12    Non-food products\n",
              "\n",
              "[38765 rows x 3 columns]"
            ]
          },
          "metadata": {
            "tags": []
          },
          "execution_count": 94
        }
      ]
    },
    {
      "cell_type": "markdown",
      "metadata": {
        "id": "06Gz50bmm3DH"
      },
      "source": [
        "### Saving the prepared data as .csv file:"
      ]
    },
    {
      "cell_type": "code",
      "metadata": {
        "id": "lu8zFYqTJd_f"
      },
      "source": [
        "data34.to_csv('Preparedfooddata.csv')"
      ],
      "execution_count": 95,
      "outputs": []
    }
  ]
}