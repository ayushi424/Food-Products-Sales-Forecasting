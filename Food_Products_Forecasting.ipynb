{
  "nbformat": 4,
  "nbformat_minor": 0,
  "metadata": {
    "colab": {
      "name": "Food Products_Forecasting.ipynb",
      "provenance": [],
      "collapsed_sections": []
    },
    "kernelspec": {
      "name": "python3",
      "display_name": "Python 3"
    },
    "language_info": {
      "name": "python"
    }
  },
  "cells": [
    {
      "cell_type": "code",
      "metadata": {
        "id": "fWtIKawoa8so"
      },
      "source": [
        "# Importing the required libraries:\n",
        "import pandas as pd\n",
        "import matplotlib.pyplot as plt\n",
        "%matplotlib inline\n",
        "import fbprophet"
      ],
      "execution_count": 1,
      "outputs": []
    },
    {
      "cell_type": "markdown",
      "metadata": {
        "id": "sdGEIht3dlmM"
      },
      "source": [
        "## **Load and Summarize Dataset**"
      ]
    },
    {
      "cell_type": "code",
      "metadata": {
        "colab": {
          "base_uri": "https://localhost:8080/",
          "height": 203
        },
        "id": "tdqJhRKWbI9O",
        "outputId": "3de6cf81-5f9d-4d2f-cd02-2e02e3f3c594"
      },
      "source": [
        "realdata=pd.read_csv('/content/Preparedfooddata.csv')\n",
        "realdata.head()"
      ],
      "execution_count": 2,
      "outputs": [
        {
          "output_type": "execute_result",
          "data": {
            "text/html": [
              "<div>\n",
              "<style scoped>\n",
              "    .dataframe tbody tr th:only-of-type {\n",
              "        vertical-align: middle;\n",
              "    }\n",
              "\n",
              "    .dataframe tbody tr th {\n",
              "        vertical-align: top;\n",
              "    }\n",
              "\n",
              "    .dataframe thead th {\n",
              "        text-align: right;\n",
              "    }\n",
              "</style>\n",
              "<table border=\"1\" class=\"dataframe\">\n",
              "  <thead>\n",
              "    <tr style=\"text-align: right;\">\n",
              "      <th></th>\n",
              "      <th>Unnamed: 0</th>\n",
              "      <th>Member_number</th>\n",
              "      <th>Date</th>\n",
              "      <th>itemDescription</th>\n",
              "    </tr>\n",
              "  </thead>\n",
              "  <tbody>\n",
              "    <tr>\n",
              "      <th>0</th>\n",
              "      <td>0</td>\n",
              "      <td>1808</td>\n",
              "      <td>2015-07</td>\n",
              "      <td>Fruits &amp; Vegetables</td>\n",
              "    </tr>\n",
              "    <tr>\n",
              "      <th>1</th>\n",
              "      <td>1</td>\n",
              "      <td>2552</td>\n",
              "      <td>2015-01</td>\n",
              "      <td>Milk Products</td>\n",
              "    </tr>\n",
              "    <tr>\n",
              "      <th>2</th>\n",
              "      <td>2</td>\n",
              "      <td>2300</td>\n",
              "      <td>2015-09</td>\n",
              "      <td>Fruits &amp; Vegetables</td>\n",
              "    </tr>\n",
              "    <tr>\n",
              "      <th>3</th>\n",
              "      <td>3</td>\n",
              "      <td>1187</td>\n",
              "      <td>2015-12</td>\n",
              "      <td>Fruits &amp; Vegetables</td>\n",
              "    </tr>\n",
              "    <tr>\n",
              "      <th>4</th>\n",
              "      <td>4</td>\n",
              "      <td>3037</td>\n",
              "      <td>2015-02</td>\n",
              "      <td>Milk Products</td>\n",
              "    </tr>\n",
              "  </tbody>\n",
              "</table>\n",
              "</div>"
            ],
            "text/plain": [
              "   Unnamed: 0  Member_number     Date      itemDescription\n",
              "0           0           1808  2015-07  Fruits & Vegetables\n",
              "1           1           2552  2015-01        Milk Products\n",
              "2           2           2300  2015-09  Fruits & Vegetables\n",
              "3           3           1187  2015-12  Fruits & Vegetables\n",
              "4           4           3037  2015-02        Milk Products"
            ]
          },
          "metadata": {
            "tags": []
          },
          "execution_count": 2
        }
      ]
    },
    {
      "cell_type": "code",
      "metadata": {
        "colab": {
          "base_uri": "https://localhost:8080/",
          "height": 417
        },
        "id": "cW3D4AD2baSs",
        "outputId": "361531c0-e274-49db-a864-f3b2471dd911"
      },
      "source": [
        "realdata=realdata.drop(['Unnamed: 0'],axis=1)\n",
        "realdata"
      ],
      "execution_count": 3,
      "outputs": [
        {
          "output_type": "execute_result",
          "data": {
            "text/html": [
              "<div>\n",
              "<style scoped>\n",
              "    .dataframe tbody tr th:only-of-type {\n",
              "        vertical-align: middle;\n",
              "    }\n",
              "\n",
              "    .dataframe tbody tr th {\n",
              "        vertical-align: top;\n",
              "    }\n",
              "\n",
              "    .dataframe thead th {\n",
              "        text-align: right;\n",
              "    }\n",
              "</style>\n",
              "<table border=\"1\" class=\"dataframe\">\n",
              "  <thead>\n",
              "    <tr style=\"text-align: right;\">\n",
              "      <th></th>\n",
              "      <th>Member_number</th>\n",
              "      <th>Date</th>\n",
              "      <th>itemDescription</th>\n",
              "    </tr>\n",
              "  </thead>\n",
              "  <tbody>\n",
              "    <tr>\n",
              "      <th>0</th>\n",
              "      <td>1808</td>\n",
              "      <td>2015-07</td>\n",
              "      <td>Fruits &amp; Vegetables</td>\n",
              "    </tr>\n",
              "    <tr>\n",
              "      <th>1</th>\n",
              "      <td>2552</td>\n",
              "      <td>2015-01</td>\n",
              "      <td>Milk Products</td>\n",
              "    </tr>\n",
              "    <tr>\n",
              "      <th>2</th>\n",
              "      <td>2300</td>\n",
              "      <td>2015-09</td>\n",
              "      <td>Fruits &amp; Vegetables</td>\n",
              "    </tr>\n",
              "    <tr>\n",
              "      <th>3</th>\n",
              "      <td>1187</td>\n",
              "      <td>2015-12</td>\n",
              "      <td>Fruits &amp; Vegetables</td>\n",
              "    </tr>\n",
              "    <tr>\n",
              "      <th>4</th>\n",
              "      <td>3037</td>\n",
              "      <td>2015-02</td>\n",
              "      <td>Milk Products</td>\n",
              "    </tr>\n",
              "    <tr>\n",
              "      <th>...</th>\n",
              "      <td>...</td>\n",
              "      <td>...</td>\n",
              "      <td>...</td>\n",
              "    </tr>\n",
              "    <tr>\n",
              "      <th>38760</th>\n",
              "      <td>4471</td>\n",
              "      <td>2014-10</td>\n",
              "      <td>Milk Products</td>\n",
              "    </tr>\n",
              "    <tr>\n",
              "      <th>38761</th>\n",
              "      <td>2022</td>\n",
              "      <td>2014-02</td>\n",
              "      <td>Sweet food products</td>\n",
              "    </tr>\n",
              "    <tr>\n",
              "      <th>38762</th>\n",
              "      <td>1097</td>\n",
              "      <td>2014-04</td>\n",
              "      <td>Snack food Products</td>\n",
              "    </tr>\n",
              "    <tr>\n",
              "      <th>38763</th>\n",
              "      <td>1510</td>\n",
              "      <td>2014-12</td>\n",
              "      <td>Fruits &amp; Vegetables</td>\n",
              "    </tr>\n",
              "    <tr>\n",
              "      <th>38764</th>\n",
              "      <td>1521</td>\n",
              "      <td>2014-12</td>\n",
              "      <td>Non-food products</td>\n",
              "    </tr>\n",
              "  </tbody>\n",
              "</table>\n",
              "<p>38765 rows × 3 columns</p>\n",
              "</div>"
            ],
            "text/plain": [
              "       Member_number     Date      itemDescription\n",
              "0               1808  2015-07  Fruits & Vegetables\n",
              "1               2552  2015-01        Milk Products\n",
              "2               2300  2015-09  Fruits & Vegetables\n",
              "3               1187  2015-12  Fruits & Vegetables\n",
              "4               3037  2015-02        Milk Products\n",
              "...              ...      ...                  ...\n",
              "38760           4471  2014-10        Milk Products\n",
              "38761           2022  2014-02  Sweet food products\n",
              "38762           1097  2014-04  Snack food Products\n",
              "38763           1510  2014-12  Fruits & Vegetables\n",
              "38764           1521  2014-12    Non-food products\n",
              "\n",
              "[38765 rows x 3 columns]"
            ]
          },
          "metadata": {
            "tags": []
          },
          "execution_count": 3
        }
      ]
    },
    {
      "cell_type": "code",
      "metadata": {
        "colab": {
          "base_uri": "https://localhost:8080/",
          "height": 417
        },
        "id": "MbrQlr-Lbf1i",
        "outputId": "7809c573-06f4-409e-ac90-01d81c6bcd88"
      },
      "source": [
        "realdata"
      ],
      "execution_count": 4,
      "outputs": [
        {
          "output_type": "execute_result",
          "data": {
            "text/html": [
              "<div>\n",
              "<style scoped>\n",
              "    .dataframe tbody tr th:only-of-type {\n",
              "        vertical-align: middle;\n",
              "    }\n",
              "\n",
              "    .dataframe tbody tr th {\n",
              "        vertical-align: top;\n",
              "    }\n",
              "\n",
              "    .dataframe thead th {\n",
              "        text-align: right;\n",
              "    }\n",
              "</style>\n",
              "<table border=\"1\" class=\"dataframe\">\n",
              "  <thead>\n",
              "    <tr style=\"text-align: right;\">\n",
              "      <th></th>\n",
              "      <th>Member_number</th>\n",
              "      <th>Date</th>\n",
              "      <th>itemDescription</th>\n",
              "    </tr>\n",
              "  </thead>\n",
              "  <tbody>\n",
              "    <tr>\n",
              "      <th>0</th>\n",
              "      <td>1808</td>\n",
              "      <td>2015-07</td>\n",
              "      <td>Fruits &amp; Vegetables</td>\n",
              "    </tr>\n",
              "    <tr>\n",
              "      <th>1</th>\n",
              "      <td>2552</td>\n",
              "      <td>2015-01</td>\n",
              "      <td>Milk Products</td>\n",
              "    </tr>\n",
              "    <tr>\n",
              "      <th>2</th>\n",
              "      <td>2300</td>\n",
              "      <td>2015-09</td>\n",
              "      <td>Fruits &amp; Vegetables</td>\n",
              "    </tr>\n",
              "    <tr>\n",
              "      <th>3</th>\n",
              "      <td>1187</td>\n",
              "      <td>2015-12</td>\n",
              "      <td>Fruits &amp; Vegetables</td>\n",
              "    </tr>\n",
              "    <tr>\n",
              "      <th>4</th>\n",
              "      <td>3037</td>\n",
              "      <td>2015-02</td>\n",
              "      <td>Milk Products</td>\n",
              "    </tr>\n",
              "    <tr>\n",
              "      <th>...</th>\n",
              "      <td>...</td>\n",
              "      <td>...</td>\n",
              "      <td>...</td>\n",
              "    </tr>\n",
              "    <tr>\n",
              "      <th>38760</th>\n",
              "      <td>4471</td>\n",
              "      <td>2014-10</td>\n",
              "      <td>Milk Products</td>\n",
              "    </tr>\n",
              "    <tr>\n",
              "      <th>38761</th>\n",
              "      <td>2022</td>\n",
              "      <td>2014-02</td>\n",
              "      <td>Sweet food products</td>\n",
              "    </tr>\n",
              "    <tr>\n",
              "      <th>38762</th>\n",
              "      <td>1097</td>\n",
              "      <td>2014-04</td>\n",
              "      <td>Snack food Products</td>\n",
              "    </tr>\n",
              "    <tr>\n",
              "      <th>38763</th>\n",
              "      <td>1510</td>\n",
              "      <td>2014-12</td>\n",
              "      <td>Fruits &amp; Vegetables</td>\n",
              "    </tr>\n",
              "    <tr>\n",
              "      <th>38764</th>\n",
              "      <td>1521</td>\n",
              "      <td>2014-12</td>\n",
              "      <td>Non-food products</td>\n",
              "    </tr>\n",
              "  </tbody>\n",
              "</table>\n",
              "<p>38765 rows × 3 columns</p>\n",
              "</div>"
            ],
            "text/plain": [
              "       Member_number     Date      itemDescription\n",
              "0               1808  2015-07  Fruits & Vegetables\n",
              "1               2552  2015-01        Milk Products\n",
              "2               2300  2015-09  Fruits & Vegetables\n",
              "3               1187  2015-12  Fruits & Vegetables\n",
              "4               3037  2015-02        Milk Products\n",
              "...              ...      ...                  ...\n",
              "38760           4471  2014-10        Milk Products\n",
              "38761           2022  2014-02  Sweet food products\n",
              "38762           1097  2014-04  Snack food Products\n",
              "38763           1510  2014-12  Fruits & Vegetables\n",
              "38764           1521  2014-12    Non-food products\n",
              "\n",
              "[38765 rows x 3 columns]"
            ]
          },
          "metadata": {
            "tags": []
          },
          "execution_count": 4
        }
      ]
    },
    {
      "cell_type": "code",
      "metadata": {
        "colab": {
          "base_uri": "https://localhost:8080/"
        },
        "id": "yahEdCSlbjir",
        "outputId": "675474a9-da59-48ed-89a8-add94f35495e"
      },
      "source": [
        "data=realdata['Date'].value_counts().sort_index(ascending=True)\n",
        "data"
      ],
      "execution_count": null,
      "outputs": [
        {
          "output_type": "execute_result",
          "data": {
            "text/plain": [
              "2014-01    1527\n",
              "2014-02    1437\n",
              "2014-03    1411\n",
              "2014-04    1561\n",
              "2014-05    1615\n",
              "2014-06    1570\n",
              "2014-07    1576\n",
              "2014-08    1575\n",
              "2014-09    1472\n",
              "2014-10    1591\n",
              "2014-11    1469\n",
              "2014-12    1473\n",
              "2015-01    1797\n",
              "2015-02    1560\n",
              "2015-03    1722\n",
              "2015-04    1699\n",
              "2015-05    1793\n",
              "2015-06    1694\n",
              "2015-07    1724\n",
              "2015-08    1921\n",
              "2015-09    1587\n",
              "2015-10    1670\n",
              "2015-11    1785\n",
              "2015-12    1536\n",
              "Name: Date, dtype: int64"
            ]
          },
          "metadata": {
            "tags": []
          },
          "execution_count": 16
        }
      ]
    },
    {
      "cell_type": "markdown",
      "metadata": {
        "id": "OlLEVLwypOOl"
      },
      "source": [
        "### Preparing dataframe for furthur forecasting."
      ]
    },
    {
      "cell_type": "code",
      "metadata": {
        "colab": {
          "base_uri": "https://localhost:8080/",
          "height": 203
        },
        "id": "2bxOPvC0bsL_",
        "outputId": "83705bbd-ad2c-432d-fd82-fb5b284de5a4"
      },
      "source": [
        "data= {'Month' : ['2014-01','2014-02','2014-03','2014-04','2014-05','2014-06','2014-07','2014-08','2014-09','2014-10','2014-11','2014-12',\n",
        "               '2015-01','2015-02','2015-03','2015-04','2015-05','2015-06','2015-07','2015-08','2015-09','2015-10','2015-11','2015-12'],\n",
        "    'Product Sales' : [1527,1437,1411,1561,1615,1570,1576,1575,1472,1591,1469,1473,\n",
        "                       1797,1560,1722,1699,1793,1694,1724,1921,1587,1670,1785,1536] \n",
        "}\n",
        "df = pd.DataFrame(data)\n",
        "df.head()"
      ],
      "execution_count": 5,
      "outputs": [
        {
          "output_type": "execute_result",
          "data": {
            "text/html": [
              "<div>\n",
              "<style scoped>\n",
              "    .dataframe tbody tr th:only-of-type {\n",
              "        vertical-align: middle;\n",
              "    }\n",
              "\n",
              "    .dataframe tbody tr th {\n",
              "        vertical-align: top;\n",
              "    }\n",
              "\n",
              "    .dataframe thead th {\n",
              "        text-align: right;\n",
              "    }\n",
              "</style>\n",
              "<table border=\"1\" class=\"dataframe\">\n",
              "  <thead>\n",
              "    <tr style=\"text-align: right;\">\n",
              "      <th></th>\n",
              "      <th>Month</th>\n",
              "      <th>Product Sales</th>\n",
              "    </tr>\n",
              "  </thead>\n",
              "  <tbody>\n",
              "    <tr>\n",
              "      <th>0</th>\n",
              "      <td>2014-01</td>\n",
              "      <td>1527</td>\n",
              "    </tr>\n",
              "    <tr>\n",
              "      <th>1</th>\n",
              "      <td>2014-02</td>\n",
              "      <td>1437</td>\n",
              "    </tr>\n",
              "    <tr>\n",
              "      <th>2</th>\n",
              "      <td>2014-03</td>\n",
              "      <td>1411</td>\n",
              "    </tr>\n",
              "    <tr>\n",
              "      <th>3</th>\n",
              "      <td>2014-04</td>\n",
              "      <td>1561</td>\n",
              "    </tr>\n",
              "    <tr>\n",
              "      <th>4</th>\n",
              "      <td>2014-05</td>\n",
              "      <td>1615</td>\n",
              "    </tr>\n",
              "  </tbody>\n",
              "</table>\n",
              "</div>"
            ],
            "text/plain": [
              "     Month  Product Sales\n",
              "0  2014-01           1527\n",
              "1  2014-02           1437\n",
              "2  2014-03           1411\n",
              "3  2014-04           1561\n",
              "4  2014-05           1615"
            ]
          },
          "metadata": {
            "tags": []
          },
          "execution_count": 5
        }
      ]
    },
    {
      "cell_type": "markdown",
      "metadata": {
        "id": "hkeGZBWupoEH"
      },
      "source": [
        "### Let's explore our data:"
      ]
    },
    {
      "cell_type": "code",
      "metadata": {
        "colab": {
          "base_uri": "https://localhost:8080/",
          "height": 203
        },
        "id": "7U1HDVNCbw0l",
        "outputId": "c6fe6738-6f5f-4d0d-e461-62ed97fd6797"
      },
      "source": [
        "df.tail()"
      ],
      "execution_count": 6,
      "outputs": [
        {
          "output_type": "execute_result",
          "data": {
            "text/html": [
              "<div>\n",
              "<style scoped>\n",
              "    .dataframe tbody tr th:only-of-type {\n",
              "        vertical-align: middle;\n",
              "    }\n",
              "\n",
              "    .dataframe tbody tr th {\n",
              "        vertical-align: top;\n",
              "    }\n",
              "\n",
              "    .dataframe thead th {\n",
              "        text-align: right;\n",
              "    }\n",
              "</style>\n",
              "<table border=\"1\" class=\"dataframe\">\n",
              "  <thead>\n",
              "    <tr style=\"text-align: right;\">\n",
              "      <th></th>\n",
              "      <th>Month</th>\n",
              "      <th>Product Sales</th>\n",
              "    </tr>\n",
              "  </thead>\n",
              "  <tbody>\n",
              "    <tr>\n",
              "      <th>19</th>\n",
              "      <td>2015-08</td>\n",
              "      <td>1921</td>\n",
              "    </tr>\n",
              "    <tr>\n",
              "      <th>20</th>\n",
              "      <td>2015-09</td>\n",
              "      <td>1587</td>\n",
              "    </tr>\n",
              "    <tr>\n",
              "      <th>21</th>\n",
              "      <td>2015-10</td>\n",
              "      <td>1670</td>\n",
              "    </tr>\n",
              "    <tr>\n",
              "      <th>22</th>\n",
              "      <td>2015-11</td>\n",
              "      <td>1785</td>\n",
              "    </tr>\n",
              "    <tr>\n",
              "      <th>23</th>\n",
              "      <td>2015-12</td>\n",
              "      <td>1536</td>\n",
              "    </tr>\n",
              "  </tbody>\n",
              "</table>\n",
              "</div>"
            ],
            "text/plain": [
              "      Month  Product Sales\n",
              "19  2015-08           1921\n",
              "20  2015-09           1587\n",
              "21  2015-10           1670\n",
              "22  2015-11           1785\n",
              "23  2015-12           1536"
            ]
          },
          "metadata": {
            "tags": []
          },
          "execution_count": 6
        }
      ]
    },
    {
      "cell_type": "code",
      "metadata": {
        "colab": {
          "base_uri": "https://localhost:8080/"
        },
        "id": "aYMkfx6rb4XE",
        "outputId": "4781e418-3d63-4378-c661-548ed1e4247c"
      },
      "source": [
        "df.columns"
      ],
      "execution_count": 7,
      "outputs": [
        {
          "output_type": "execute_result",
          "data": {
            "text/plain": [
              "Index(['Month', 'Product Sales'], dtype='object')"
            ]
          },
          "metadata": {
            "tags": []
          },
          "execution_count": 7
        }
      ]
    },
    {
      "cell_type": "code",
      "metadata": {
        "colab": {
          "base_uri": "https://localhost:8080/"
        },
        "id": "eDcMmZaGb5Qo",
        "outputId": "c1052095-c03c-4e5a-9aa2-84ae0ab444cf"
      },
      "source": [
        "df.dtypes"
      ],
      "execution_count": 8,
      "outputs": [
        {
          "output_type": "execute_result",
          "data": {
            "text/plain": [
              "Month            object\n",
              "Product Sales     int64\n",
              "dtype: object"
            ]
          },
          "metadata": {
            "tags": []
          },
          "execution_count": 8
        }
      ]
    },
    {
      "cell_type": "code",
      "metadata": {
        "colab": {
          "base_uri": "https://localhost:8080/"
        },
        "id": "6res__UjpzIM",
        "outputId": "fb077087-d5a4-4682-97cd-1e8f636dba19"
      },
      "source": [
        "df.info()"
      ],
      "execution_count": 9,
      "outputs": [
        {
          "output_type": "stream",
          "text": [
            "<class 'pandas.core.frame.DataFrame'>\n",
            "RangeIndex: 24 entries, 0 to 23\n",
            "Data columns (total 2 columns):\n",
            " #   Column         Non-Null Count  Dtype \n",
            "---  ------         --------------  ----- \n",
            " 0   Month          24 non-null     object\n",
            " 1   Product Sales  24 non-null     int64 \n",
            "dtypes: int64(1), object(1)\n",
            "memory usage: 512.0+ bytes\n"
          ],
          "name": "stdout"
        }
      ]
    },
    {
      "cell_type": "code",
      "metadata": {
        "colab": {
          "base_uri": "https://localhost:8080/",
          "height": 295
        },
        "id": "pi-bwM3tp2-q",
        "outputId": "76344771-df8e-49bc-9cda-9343bcefc685"
      },
      "source": [
        "df.describe()"
      ],
      "execution_count": 10,
      "outputs": [
        {
          "output_type": "execute_result",
          "data": {
            "text/html": [
              "<div>\n",
              "<style scoped>\n",
              "    .dataframe tbody tr th:only-of-type {\n",
              "        vertical-align: middle;\n",
              "    }\n",
              "\n",
              "    .dataframe tbody tr th {\n",
              "        vertical-align: top;\n",
              "    }\n",
              "\n",
              "    .dataframe thead th {\n",
              "        text-align: right;\n",
              "    }\n",
              "</style>\n",
              "<table border=\"1\" class=\"dataframe\">\n",
              "  <thead>\n",
              "    <tr style=\"text-align: right;\">\n",
              "      <th></th>\n",
              "      <th>Product Sales</th>\n",
              "    </tr>\n",
              "  </thead>\n",
              "  <tbody>\n",
              "    <tr>\n",
              "      <th>count</th>\n",
              "      <td>24.000000</td>\n",
              "    </tr>\n",
              "    <tr>\n",
              "      <th>mean</th>\n",
              "      <td>1615.208333</td>\n",
              "    </tr>\n",
              "    <tr>\n",
              "      <th>std</th>\n",
              "      <td>129.992635</td>\n",
              "    </tr>\n",
              "    <tr>\n",
              "      <th>min</th>\n",
              "      <td>1411.000000</td>\n",
              "    </tr>\n",
              "    <tr>\n",
              "      <th>25%</th>\n",
              "      <td>1533.750000</td>\n",
              "    </tr>\n",
              "    <tr>\n",
              "      <th>50%</th>\n",
              "      <td>1581.500000</td>\n",
              "    </tr>\n",
              "    <tr>\n",
              "      <th>75%</th>\n",
              "      <td>1704.750000</td>\n",
              "    </tr>\n",
              "    <tr>\n",
              "      <th>max</th>\n",
              "      <td>1921.000000</td>\n",
              "    </tr>\n",
              "  </tbody>\n",
              "</table>\n",
              "</div>"
            ],
            "text/plain": [
              "       Product Sales\n",
              "count      24.000000\n",
              "mean     1615.208333\n",
              "std       129.992635\n",
              "min      1411.000000\n",
              "25%      1533.750000\n",
              "50%      1581.500000\n",
              "75%      1704.750000\n",
              "max      1921.000000"
            ]
          },
          "metadata": {
            "tags": []
          },
          "execution_count": 10
        }
      ]
    },
    {
      "cell_type": "markdown",
      "metadata": {
        "id": "-JVqhw4BdwRJ"
      },
      "source": [
        "## **Plot Dataset**"
      ]
    },
    {
      "cell_type": "code",
      "metadata": {
        "colab": {
          "base_uri": "https://localhost:8080/",
          "height": 320
        },
        "id": "PbjSX8D4b9ur",
        "outputId": "3d1c3237-9b4c-42e4-ede1-88d033d73df0"
      },
      "source": [
        "df.plot(figsize=(10,5))\n",
        "plt.savefig('saved_figure1.jpg', transparent=True)       #Saving the figure for frontend."
      ],
      "execution_count": 11,
      "outputs": [
        {
          "output_type": "display_data",
          "data": {
            "image/png": "[encoded data removed]",
            "text/plain": [
              "<Figure size 720x360 with 1 Axes>"
            ]
          },
          "metadata": {
            "tags": [],
            "needs_background": "light"
          }
        }
      ]
    },
    {
      "cell_type": "markdown",
      "metadata": {
        "id": "Kvx5HPFqd32X"
      },
      "source": [
        " ## **Forecast Food products Sales With Prophet**"
      ]
    },
    {
      "cell_type": "markdown",
      "metadata": {
        "id": "E4VpvgYVqMzR"
      },
      "source": [
        "### Prophet is a procedure for forecasting time series data based on an additive model where non-linear trends are fit with yearly, weekly, and daily seasonality, plus holiday effects. It works best with time series that have strong seasonal effects and several seasons of historical data. Prophet is robust to missing data and shifts in the trend, and typically handles outliers well.\n",
        "\n",
        "### Prophet is open source software released by Facebook’s Core Data Science team. \n",
        "\n",
        "\n",
        "\n"
      ]
    },
    {
      "cell_type": "markdown",
      "metadata": {
        "id": "1w3tHNH3eBt4"
      },
      "source": [
        "### Fit Prophet Model"
      ]
    },
    {
      "cell_type": "code",
      "metadata": {
        "id": "TjfKeoWzcBlh"
      },
      "source": [
        "# prepare expected column names\n",
        "from pandas import to_datetime\n",
        "df.columns = ['ds', 'y']\n",
        "df['ds']= to_datetime(df['ds'])"
      ],
      "execution_count": 12,
      "outputs": []
    },
    {
      "cell_type": "code",
      "metadata": {
        "colab": {
          "base_uri": "https://localhost:8080/"
        },
        "id": "i0mGNmPFcU_K",
        "outputId": "b205b8b8-46db-454d-884b-ca0c9d0b6a08"
      },
      "source": [
        "from fbprophet import Prophet\n",
        "# define the model\n",
        "model = Prophet(interval_width=0.95,daily_seasonality=True,weekly_seasonality=True,yearly_seasonality=True)\n",
        "# fit the model\n",
        "model.fit(df)"
      ],
      "execution_count": 13,
      "outputs": [
        {
          "output_type": "stream",
          "text": [
            "INFO:numexpr.utils:NumExpr defaulting to 2 threads.\n",
            "INFO:fbprophet:n_changepoints greater than number of observations. Using 18.\n"
          ],
          "name": "stderr"
        },
        {
          "output_type": "execute_result",
          "data": {
            "text/plain": [
              "<fbprophet.forecaster.Prophet at 0x7f1b115d0390>"
            ]
          },
          "metadata": {
            "tags": []
          },
          "execution_count": 13
        }
      ]
    },
    {
      "cell_type": "markdown",
      "metadata": {
        "id": "EUYlLmGRePH5"
      },
      "source": [
        "### Forecasting:"
      ]
    },
    {
      "cell_type": "code",
      "metadata": {
        "id": "YbHpH1FGcoVe"
      },
      "source": [
        "# define the period for which we want a prediction\n",
        "future = list()\n",
        "for i in range(1, 13):\n",
        "\tdate = '2016-%02d' % i\n",
        "\tfuture.append([date])\n",
        "future =pd.DataFrame(future)\n",
        "future.columns = ['ds']\n",
        "future['ds']= to_datetime(future['ds'])"
      ],
      "execution_count": 14,
      "outputs": []
    },
    {
      "cell_type": "code",
      "metadata": {
        "id": "6tsLFHO3fAFK"
      },
      "source": [
        "# use the model to make a forecast\n",
        "forecast = model.predict(future)"
      ],
      "execution_count": 15,
      "outputs": []
    },
    {
      "cell_type": "markdown",
      "metadata": {
        "id": "teRWWUDmre5N"
      },
      "source": [
        "### Let's view forecast:"
      ]
    },
    {
      "cell_type": "code",
      "metadata": {
        "colab": {
          "base_uri": "https://localhost:8080/",
          "height": 307
        },
        "id": "-StVTbFTiPRN",
        "outputId": "1ce50a56-0d8e-4190-97e0-865a04b6b6c3"
      },
      "source": [
        "forecast.head()"
      ],
      "execution_count": 17,
      "outputs": [
        {
          "output_type": "execute_result",
          "data": {
            "text/html": [
              "<div>\n",
              "<style scoped>\n",
              "    .dataframe tbody tr th:only-of-type {\n",
              "        vertical-align: middle;\n",
              "    }\n",
              "\n",
              "    .dataframe tbody tr th {\n",
              "        vertical-align: top;\n",
              "    }\n",
              "\n",
              "    .dataframe thead th {\n",
              "        text-align: right;\n",
              "    }\n",
              "</style>\n",
              "<table border=\"1\" class=\"dataframe\">\n",
              "  <thead>\n",
              "    <tr style=\"text-align: right;\">\n",
              "      <th></th>\n",
              "      <th>ds</th>\n",
              "      <th>trend</th>\n",
              "      <th>yhat_lower</th>\n",
              "      <th>yhat_upper</th>\n",
              "      <th>trend_lower</th>\n",
              "      <th>trend_upper</th>\n",
              "      <th>additive_terms</th>\n",
              "      <th>additive_terms_lower</th>\n",
              "      <th>additive_terms_upper</th>\n",
              "      <th>daily</th>\n",
              "      <th>daily_lower</th>\n",
              "      <th>daily_upper</th>\n",
              "      <th>weekly</th>\n",
              "      <th>weekly_lower</th>\n",
              "      <th>weekly_upper</th>\n",
              "      <th>yearly</th>\n",
              "      <th>yearly_lower</th>\n",
              "      <th>yearly_upper</th>\n",
              "      <th>multiplicative_terms</th>\n",
              "      <th>multiplicative_terms_lower</th>\n",
              "      <th>multiplicative_terms_upper</th>\n",
              "      <th>yhat</th>\n",
              "    </tr>\n",
              "  </thead>\n",
              "  <tbody>\n",
              "    <tr>\n",
              "      <th>0</th>\n",
              "      <td>2016-01-01</td>\n",
              "      <td>-717.040207</td>\n",
              "      <td>1728.782241</td>\n",
              "      <td>1813.309087</td>\n",
              "      <td>-756.520621</td>\n",
              "      <td>-671.993774</td>\n",
              "      <td>2485.302861</td>\n",
              "      <td>2485.302861</td>\n",
              "      <td>2485.302861</td>\n",
              "      <td>2227.891594</td>\n",
              "      <td>2227.891594</td>\n",
              "      <td>2227.891594</td>\n",
              "      <td>-984.594352</td>\n",
              "      <td>-984.594352</td>\n",
              "      <td>-984.594352</td>\n",
              "      <td>1242.005619</td>\n",
              "      <td>1242.005619</td>\n",
              "      <td>1242.005619</td>\n",
              "      <td>0.0</td>\n",
              "      <td>0.0</td>\n",
              "      <td>0.0</td>\n",
              "      <td>1768.262654</td>\n",
              "    </tr>\n",
              "    <tr>\n",
              "      <th>1</th>\n",
              "      <td>2016-02-01</td>\n",
              "      <td>-686.526224</td>\n",
              "      <td>1269.971031</td>\n",
              "      <td>1505.974199</td>\n",
              "      <td>-808.522090</td>\n",
              "      <td>-572.518921</td>\n",
              "      <td>2078.493121</td>\n",
              "      <td>2078.493121</td>\n",
              "      <td>2078.493121</td>\n",
              "      <td>2227.891594</td>\n",
              "      <td>2227.891594</td>\n",
              "      <td>2227.891594</td>\n",
              "      <td>835.043781</td>\n",
              "      <td>835.043781</td>\n",
              "      <td>835.043781</td>\n",
              "      <td>-984.442254</td>\n",
              "      <td>-984.442254</td>\n",
              "      <td>-984.442254</td>\n",
              "      <td>0.0</td>\n",
              "      <td>0.0</td>\n",
              "      <td>0.0</td>\n",
              "      <td>1391.966896</td>\n",
              "    </tr>\n",
              "    <tr>\n",
              "      <th>2</th>\n",
              "      <td>2016-03-01</td>\n",
              "      <td>-657.980886</td>\n",
              "      <td>2422.217952</td>\n",
              "      <td>2846.913178</td>\n",
              "      <td>-881.325370</td>\n",
              "      <td>-456.630143</td>\n",
              "      <td>3303.543322</td>\n",
              "      <td>3303.543322</td>\n",
              "      <td>3303.543322</td>\n",
              "      <td>2227.891594</td>\n",
              "      <td>2227.891594</td>\n",
              "      <td>2227.891594</td>\n",
              "      <td>129.164428</td>\n",
              "      <td>129.164428</td>\n",
              "      <td>129.164428</td>\n",
              "      <td>946.487300</td>\n",
              "      <td>946.487300</td>\n",
              "      <td>946.487300</td>\n",
              "      <td>0.0</td>\n",
              "      <td>0.0</td>\n",
              "      <td>0.0</td>\n",
              "      <td>2645.562436</td>\n",
              "    </tr>\n",
              "    <tr>\n",
              "      <th>3</th>\n",
              "      <td>2016-04-01</td>\n",
              "      <td>-627.466903</td>\n",
              "      <td>-98.247435</td>\n",
              "      <td>561.817252</td>\n",
              "      <td>-968.802257</td>\n",
              "      <td>-308.737570</td>\n",
              "      <td>870.554822</td>\n",
              "      <td>870.554822</td>\n",
              "      <td>870.554822</td>\n",
              "      <td>2227.891594</td>\n",
              "      <td>2227.891594</td>\n",
              "      <td>2227.891594</td>\n",
              "      <td>-984.594352</td>\n",
              "      <td>-984.594352</td>\n",
              "      <td>-984.594352</td>\n",
              "      <td>-372.742420</td>\n",
              "      <td>-372.742420</td>\n",
              "      <td>-372.742420</td>\n",
              "      <td>0.0</td>\n",
              "      <td>0.0</td>\n",
              "      <td>0.0</td>\n",
              "      <td>243.087919</td>\n",
              "    </tr>\n",
              "    <tr>\n",
              "      <th>4</th>\n",
              "      <td>2016-05-01</td>\n",
              "      <td>-597.937242</td>\n",
              "      <td>1164.370918</td>\n",
              "      <td>2031.815228</td>\n",
              "      <td>-1056.512883</td>\n",
              "      <td>-189.068573</td>\n",
              "      <td>2220.883802</td>\n",
              "      <td>2220.883802</td>\n",
              "      <td>2220.883802</td>\n",
              "      <td>2227.891594</td>\n",
              "      <td>2227.891594</td>\n",
              "      <td>2227.891594</td>\n",
              "      <td>554.476143</td>\n",
              "      <td>554.476143</td>\n",
              "      <td>554.476143</td>\n",
              "      <td>-561.483935</td>\n",
              "      <td>-561.483935</td>\n",
              "      <td>-561.483935</td>\n",
              "      <td>0.0</td>\n",
              "      <td>0.0</td>\n",
              "      <td>0.0</td>\n",
              "      <td>1622.946560</td>\n",
              "    </tr>\n",
              "  </tbody>\n",
              "</table>\n",
              "</div>"
            ],
            "text/plain": [
              "          ds       trend  ...  multiplicative_terms_upper         yhat\n",
              "0 2016-01-01 -717.040207  ...                         0.0  1768.262654\n",
              "1 2016-02-01 -686.526224  ...                         0.0  1391.966896\n",
              "2 2016-03-01 -657.980886  ...                         0.0  2645.562436\n",
              "3 2016-04-01 -627.466903  ...                         0.0   243.087919\n",
              "4 2016-05-01 -597.937242  ...                         0.0  1622.946560\n",
              "\n",
              "[5 rows x 22 columns]"
            ]
          },
          "metadata": {
            "tags": []
          },
          "execution_count": 17
        }
      ]
    },
    {
      "cell_type": "code",
      "metadata": {
        "colab": {
          "base_uri": "https://localhost:8080/",
          "height": 307
        },
        "id": "f8RxBcYXiR_D",
        "outputId": "7d0b1a26-dcce-4d2b-c2ab-1fa92caf7669"
      },
      "source": [
        "forecast.tail()"
      ],
      "execution_count": 18,
      "outputs": [
        {
          "output_type": "execute_result",
          "data": {
            "text/html": [
              "<div>\n",
              "<style scoped>\n",
              "    .dataframe tbody tr th:only-of-type {\n",
              "        vertical-align: middle;\n",
              "    }\n",
              "\n",
              "    .dataframe tbody tr th {\n",
              "        vertical-align: top;\n",
              "    }\n",
              "\n",
              "    .dataframe thead th {\n",
              "        text-align: right;\n",
              "    }\n",
              "</style>\n",
              "<table border=\"1\" class=\"dataframe\">\n",
              "  <thead>\n",
              "    <tr style=\"text-align: right;\">\n",
              "      <th></th>\n",
              "      <th>ds</th>\n",
              "      <th>trend</th>\n",
              "      <th>yhat_lower</th>\n",
              "      <th>yhat_upper</th>\n",
              "      <th>trend_lower</th>\n",
              "      <th>trend_upper</th>\n",
              "      <th>additive_terms</th>\n",
              "      <th>additive_terms_lower</th>\n",
              "      <th>additive_terms_upper</th>\n",
              "      <th>daily</th>\n",
              "      <th>daily_lower</th>\n",
              "      <th>daily_upper</th>\n",
              "      <th>weekly</th>\n",
              "      <th>weekly_lower</th>\n",
              "      <th>weekly_upper</th>\n",
              "      <th>yearly</th>\n",
              "      <th>yearly_lower</th>\n",
              "      <th>yearly_upper</th>\n",
              "      <th>multiplicative_terms</th>\n",
              "      <th>multiplicative_terms_lower</th>\n",
              "      <th>multiplicative_terms_upper</th>\n",
              "      <th>yhat</th>\n",
              "    </tr>\n",
              "  </thead>\n",
              "  <tbody>\n",
              "    <tr>\n",
              "      <th>7</th>\n",
              "      <td>2016-08-01</td>\n",
              "      <td>-507.379616</td>\n",
              "      <td>4977.386283</td>\n",
              "      <td>6590.867631</td>\n",
              "      <td>-1367.383558</td>\n",
              "      <td>246.097791</td>\n",
              "      <td>6344.769840</td>\n",
              "      <td>6344.769840</td>\n",
              "      <td>6344.769840</td>\n",
              "      <td>2227.891594</td>\n",
              "      <td>2227.891594</td>\n",
              "      <td>2227.891594</td>\n",
              "      <td>835.043781</td>\n",
              "      <td>835.043781</td>\n",
              "      <td>835.043781</td>\n",
              "      <td>3281.834466</td>\n",
              "      <td>3281.834466</td>\n",
              "      <td>3281.834466</td>\n",
              "      <td>0.0</td>\n",
              "      <td>0.0</td>\n",
              "      <td>0.0</td>\n",
              "      <td>5837.390225</td>\n",
              "    </tr>\n",
              "    <tr>\n",
              "      <th>8</th>\n",
              "      <td>2016-09-01</td>\n",
              "      <td>-476.865633</td>\n",
              "      <td>-1206.135517</td>\n",
              "      <td>708.015643</td>\n",
              "      <td>-1492.382837</td>\n",
              "      <td>421.768324</td>\n",
              "      <td>286.247320</td>\n",
              "      <td>286.247320</td>\n",
              "      <td>286.247320</td>\n",
              "      <td>2227.891594</td>\n",
              "      <td>2227.891594</td>\n",
              "      <td>2227.891594</td>\n",
              "      <td>-413.860348</td>\n",
              "      <td>-413.860348</td>\n",
              "      <td>-413.860348</td>\n",
              "      <td>-1527.783925</td>\n",
              "      <td>-1527.783925</td>\n",
              "      <td>-1527.783925</td>\n",
              "      <td>0.0</td>\n",
              "      <td>0.0</td>\n",
              "      <td>0.0</td>\n",
              "      <td>-190.618313</td>\n",
              "    </tr>\n",
              "    <tr>\n",
              "      <th>9</th>\n",
              "      <td>2016-10-01</td>\n",
              "      <td>-447.335972</td>\n",
              "      <td>873.751050</td>\n",
              "      <td>3098.458972</td>\n",
              "      <td>-1640.730025</td>\n",
              "      <td>583.977897</td>\n",
              "      <td>2514.481075</td>\n",
              "      <td>2514.481075</td>\n",
              "      <td>2514.481075</td>\n",
              "      <td>2227.891594</td>\n",
              "      <td>2227.891594</td>\n",
              "      <td>2227.891594</td>\n",
              "      <td>-2.884627</td>\n",
              "      <td>-2.884627</td>\n",
              "      <td>-2.884627</td>\n",
              "      <td>289.474108</td>\n",
              "      <td>289.474108</td>\n",
              "      <td>289.474108</td>\n",
              "      <td>0.0</td>\n",
              "      <td>0.0</td>\n",
              "      <td>0.0</td>\n",
              "      <td>2067.145103</td>\n",
              "    </tr>\n",
              "    <tr>\n",
              "      <th>10</th>\n",
              "      <td>2016-11-01</td>\n",
              "      <td>-416.821989</td>\n",
              "      <td>1772.222196</td>\n",
              "      <td>4367.038305</td>\n",
              "      <td>-1781.541109</td>\n",
              "      <td>813.275001</td>\n",
              "      <td>3553.763304</td>\n",
              "      <td>3553.763304</td>\n",
              "      <td>3553.763304</td>\n",
              "      <td>2227.891594</td>\n",
              "      <td>2227.891594</td>\n",
              "      <td>2227.891594</td>\n",
              "      <td>129.164428</td>\n",
              "      <td>129.164428</td>\n",
              "      <td>129.164428</td>\n",
              "      <td>1196.707283</td>\n",
              "      <td>1196.707283</td>\n",
              "      <td>1196.707283</td>\n",
              "      <td>0.0</td>\n",
              "      <td>0.0</td>\n",
              "      <td>0.0</td>\n",
              "      <td>3136.941315</td>\n",
              "    </tr>\n",
              "    <tr>\n",
              "      <th>11</th>\n",
              "      <td>2016-12-01</td>\n",
              "      <td>-387.292328</td>\n",
              "      <td>-1895.182162</td>\n",
              "      <td>1083.552738</td>\n",
              "      <td>-1914.086202</td>\n",
              "      <td>1064.648698</td>\n",
              "      <td>18.904040</td>\n",
              "      <td>18.904040</td>\n",
              "      <td>18.904040</td>\n",
              "      <td>2227.891594</td>\n",
              "      <td>2227.891594</td>\n",
              "      <td>2227.891594</td>\n",
              "      <td>-413.860348</td>\n",
              "      <td>-413.860348</td>\n",
              "      <td>-413.860348</td>\n",
              "      <td>-1795.127206</td>\n",
              "      <td>-1795.127206</td>\n",
              "      <td>-1795.127206</td>\n",
              "      <td>0.0</td>\n",
              "      <td>0.0</td>\n",
              "      <td>0.0</td>\n",
              "      <td>-368.388289</td>\n",
              "    </tr>\n",
              "  </tbody>\n",
              "</table>\n",
              "</div>"
            ],
            "text/plain": [
              "           ds       trend  ...  multiplicative_terms_upper         yhat\n",
              "7  2016-08-01 -507.379616  ...                         0.0  5837.390225\n",
              "8  2016-09-01 -476.865633  ...                         0.0  -190.618313\n",
              "9  2016-10-01 -447.335972  ...                         0.0  2067.145103\n",
              "10 2016-11-01 -416.821989  ...                         0.0  3136.941315\n",
              "11 2016-12-01 -387.292328  ...                         0.0  -368.388289\n",
              "\n",
              "[5 rows x 22 columns]"
            ]
          },
          "metadata": {
            "tags": []
          },
          "execution_count": 18
        }
      ]
    },
    {
      "cell_type": "code",
      "metadata": {
        "colab": {
          "base_uri": "https://localhost:8080/"
        },
        "id": "wVtUBymHc30W",
        "outputId": "9093a917-0e33-4a56-adb5-3235385d43b2"
      },
      "source": [
        "# summarize the forecast\n",
        "print(forecast[['ds', 'yhat', 'yhat_lower', 'yhat_upper']].head())"
      ],
      "execution_count": 19,
      "outputs": [
        {
          "output_type": "stream",
          "text": [
            "          ds         yhat   yhat_lower   yhat_upper\n",
            "0 2016-01-01  1768.262654  1728.782241  1813.309087\n",
            "1 2016-02-01  1391.966896  1269.971031  1505.974199\n",
            "2 2016-03-01  2645.562436  2422.217952  2846.913178\n",
            "3 2016-04-01   243.087919   -98.247435   561.817252\n",
            "4 2016-05-01  1622.946560  1164.370918  2031.815228\n"
          ],
          "name": "stdout"
        }
      ]
    },
    {
      "cell_type": "code",
      "metadata": {
        "colab": {
          "base_uri": "https://localhost:8080/",
          "height": 234
        },
        "id": "UbXufoHtiCgd",
        "outputId": "e7771258-3903-4919-f84a-210387f658a7"
      },
      "source": [
        "forecast[['ds','yhat']].head(6)       #Forecast for first 6 months."
      ],
      "execution_count": 21,
      "outputs": [
        {
          "output_type": "execute_result",
          "data": {
            "text/html": [
              "<div>\n",
              "<style scoped>\n",
              "    .dataframe tbody tr th:only-of-type {\n",
              "        vertical-align: middle;\n",
              "    }\n",
              "\n",
              "    .dataframe tbody tr th {\n",
              "        vertical-align: top;\n",
              "    }\n",
              "\n",
              "    .dataframe thead th {\n",
              "        text-align: right;\n",
              "    }\n",
              "</style>\n",
              "<table border=\"1\" class=\"dataframe\">\n",
              "  <thead>\n",
              "    <tr style=\"text-align: right;\">\n",
              "      <th></th>\n",
              "      <th>ds</th>\n",
              "      <th>yhat</th>\n",
              "    </tr>\n",
              "  </thead>\n",
              "  <tbody>\n",
              "    <tr>\n",
              "      <th>0</th>\n",
              "      <td>2016-01-01</td>\n",
              "      <td>1768.262654</td>\n",
              "    </tr>\n",
              "    <tr>\n",
              "      <th>1</th>\n",
              "      <td>2016-02-01</td>\n",
              "      <td>1391.966896</td>\n",
              "    </tr>\n",
              "    <tr>\n",
              "      <th>2</th>\n",
              "      <td>2016-03-01</td>\n",
              "      <td>2645.562436</td>\n",
              "    </tr>\n",
              "    <tr>\n",
              "      <th>3</th>\n",
              "      <td>2016-04-01</td>\n",
              "      <td>243.087919</td>\n",
              "    </tr>\n",
              "    <tr>\n",
              "      <th>4</th>\n",
              "      <td>2016-05-01</td>\n",
              "      <td>1622.946560</td>\n",
              "    </tr>\n",
              "    <tr>\n",
              "      <th>5</th>\n",
              "      <td>2016-06-01</td>\n",
              "      <td>2027.040632</td>\n",
              "    </tr>\n",
              "  </tbody>\n",
              "</table>\n",
              "</div>"
            ],
            "text/plain": [
              "          ds         yhat\n",
              "0 2016-01-01  1768.262654\n",
              "1 2016-02-01  1391.966896\n",
              "2 2016-03-01  2645.562436\n",
              "3 2016-04-01   243.087919\n",
              "4 2016-05-01  1622.946560\n",
              "5 2016-06-01  2027.040632"
            ]
          },
          "metadata": {
            "tags": []
          },
          "execution_count": 21
        }
      ]
    },
    {
      "cell_type": "code",
      "metadata": {
        "colab": {
          "base_uri": "https://localhost:8080/",
          "height": 234
        },
        "id": "y6xXfPEArs8e",
        "outputId": "7e784d3b-f7ff-4743-951f-fd569bce7095"
      },
      "source": [
        "forecast[['ds','yhat']].tail(6)         #Forecast for last 6 months."
      ],
      "execution_count": 22,
      "outputs": [
        {
          "output_type": "execute_result",
          "data": {
            "text/html": [
              "<div>\n",
              "<style scoped>\n",
              "    .dataframe tbody tr th:only-of-type {\n",
              "        vertical-align: middle;\n",
              "    }\n",
              "\n",
              "    .dataframe tbody tr th {\n",
              "        vertical-align: top;\n",
              "    }\n",
              "\n",
              "    .dataframe thead th {\n",
              "        text-align: right;\n",
              "    }\n",
              "</style>\n",
              "<table border=\"1\" class=\"dataframe\">\n",
              "  <thead>\n",
              "    <tr style=\"text-align: right;\">\n",
              "      <th></th>\n",
              "      <th>ds</th>\n",
              "      <th>yhat</th>\n",
              "    </tr>\n",
              "  </thead>\n",
              "  <tbody>\n",
              "    <tr>\n",
              "      <th>6</th>\n",
              "      <td>2016-07-01</td>\n",
              "      <td>696.151065</td>\n",
              "    </tr>\n",
              "    <tr>\n",
              "      <th>7</th>\n",
              "      <td>2016-08-01</td>\n",
              "      <td>5837.390225</td>\n",
              "    </tr>\n",
              "    <tr>\n",
              "      <th>8</th>\n",
              "      <td>2016-09-01</td>\n",
              "      <td>-190.618313</td>\n",
              "    </tr>\n",
              "    <tr>\n",
              "      <th>9</th>\n",
              "      <td>2016-10-01</td>\n",
              "      <td>2067.145103</td>\n",
              "    </tr>\n",
              "    <tr>\n",
              "      <th>10</th>\n",
              "      <td>2016-11-01</td>\n",
              "      <td>3136.941315</td>\n",
              "    </tr>\n",
              "    <tr>\n",
              "      <th>11</th>\n",
              "      <td>2016-12-01</td>\n",
              "      <td>-368.388289</td>\n",
              "    </tr>\n",
              "  </tbody>\n",
              "</table>\n",
              "</div>"
            ],
            "text/plain": [
              "           ds         yhat\n",
              "6  2016-07-01   696.151065\n",
              "7  2016-08-01  5837.390225\n",
              "8  2016-09-01  -190.618313\n",
              "9  2016-10-01  2067.145103\n",
              "10 2016-11-01  3136.941315\n",
              "11 2016-12-01  -368.388289"
            ]
          },
          "metadata": {
            "tags": []
          },
          "execution_count": 22
        }
      ]
    },
    {
      "cell_type": "code",
      "metadata": {
        "colab": {
          "base_uri": "https://localhost:8080/",
          "height": 458
        },
        "id": "pbJzvtfKewXP",
        "outputId": "67682d54-5d08-4a75-b130-3e7980f642f1"
      },
      "source": [
        "# plot forecast\n",
        "from matplotlib import pyplot\n",
        "model.plot(forecast)\n",
        "pyplot.show()\n",
        "plt.savefig('save_fig2.jpg')                  # Saving the figure for frontend."
      ],
      "execution_count": 23,
      "outputs": [
        {
          "output_type": "display_data",
          "data": {
            "image/png": "[encoded data removed]",
            "text/plain": [
              "<Figure size 720x432 with 1 Axes>"
            ]
          },
          "metadata": {
            "tags": []
          }
        },
        {
          "output_type": "display_data",
          "data": {
            "text/plain": [
              "<Figure size 432x288 with 0 Axes>"
            ]
          },
          "metadata": {
            "tags": []
          }
        }
      ]
    },
    {
      "cell_type": "code",
      "metadata": {
        "colab": {
          "base_uri": "https://localhost:8080/",
          "height": 873
        },
        "id": "v1EHpErfhBwn",
        "outputId": "2cf540cd-3e5f-4be6-d71c-9e1eff9c2404"
      },
      "source": [
        "plot=model.plot_components(forecast)\n",
        "plt.savefig('saved_figure3.jpg', transparent=True)                  #Saving figure for frontend."
      ],
      "execution_count": 24,
      "outputs": [
        {
          "output_type": "display_data",
          "data": {
            "image/png": "[encoded data removed]",
            "text/plain": [
              "<Figure size 648x864 with 4 Axes>"
            ]
          },
          "metadata": {
            "tags": []
          }
        }
      ]
    },
    {
      "cell_type": "markdown",
      "metadata": {
        "id": "7MU2XYP1kwxF"
      },
      "source": [
        "### The above visualizations show daily,weekly and yearly trends of Sales for food products."
      ]
    }
  ]
}